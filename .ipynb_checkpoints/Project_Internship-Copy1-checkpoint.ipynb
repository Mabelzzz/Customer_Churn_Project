{
 "cells": [
  {
   "cell_type": "markdown",
   "id": "6ff9daa2",
   "metadata": {},
   "source": [
    "# Customer Churn Prediction"
   ]
  },
  {
   "cell_type": "markdown",
   "id": "bd6ab248",
   "metadata": {},
   "source": [
    "Predict customer retention && customer who will be inactive"
   ]
  },
  {
   "cell_type": "code",
   "execution_count": 1,
   "id": "4bf1c422",
   "metadata": {},
   "outputs": [
    {
     "name": "stdout",
     "output_type": "stream",
     "text": [
      "Looking in indexes: https://nexus.tmbbank.local:8081/repository/TMB_PYPI/simple/\n",
      "Collecting pycaret\n",
      "/app/cloudera/parcels/CDH_PYTHON-0.0.1.p0-anaconda3_2019.07-py2_2.7-py3_3.6/envs/python3/lib/python3.6/site-packages/pip/_vendor/urllib3/connection.py:388: SubjectAltNameWarning: Certificate for nexus.tmbbank.local has no `subjectAltName`, falling back to check for a `commonName` for now. This feature is being removed by major browsers and deprecated by RFC 2818. (See https://github.com/shazow/urllib3/issues/497 for details.)\n",
      "  SubjectAltNameWarning\n",
      "  Using cached https://nexus.tmbbank.local:8081/repository/TMB_PYPI/packages/pycaret/2.3.10/pycaret-2.3.10-py3-none-any.whl\n",
      "Requirement already satisfied: ipywidgets in /app/cloudera/parcels/CDH_PYTHON-0.0.1.p0-anaconda3_2019.07-py2_2.7-py3_3.6/envs/python3/lib/python3.6/site-packages (from pycaret) (7.5.1)\n",
      "Collecting Boruta (from pycaret)\n",
      "  Using cached https://nexus.tmbbank.local:8081/repository/TMB_PYPI/packages/boruta/0.3/Boruta-0.3-py3-none-any.whl\n",
      "Requirement already satisfied: scipy<=1.5.4 in /app/cloudera/parcels/CDH_PYTHON-0.0.1.p0-anaconda3_2019.07-py2_2.7-py3_3.6/envs/python3/lib/python3.6/site-packages (from pycaret) (1.5.4)\n",
      "Collecting umap-learn (from pycaret)\n",
      "  Using cached https://nexus.tmbbank.local:8081/repository/TMB_PYPI/packages/umap-learn/0.5.3/umap-learn-0.5.3.tar.gz\n",
      "Requirement already satisfied: pyyaml<6.0.0 in /app/cloudera/parcels/CDH_PYTHON-0.0.1.p0-anaconda3_2019.07-py2_2.7-py3_3.6/envs/python3/lib/python3.6/site-packages (from pycaret) (5.1.2)\n",
      "Collecting mlxtend>=0.17.0 (from pycaret)\n",
      "  Using cached https://nexus.tmbbank.local:8081/repository/TMB_PYPI/packages/mlxtend/0.22.0/mlxtend-0.22.0-py2.py3-none-any.whl\n",
      "Collecting yellowbrick>=1.0.1 (from pycaret)\n",
      "  Using cached https://nexus.tmbbank.local:8081/repository/TMB_PYPI/packages/yellowbrick/1.5/yellowbrick-1.5-py3-none-any.whl\n",
      "Collecting plotly>=4.4.1 (from pycaret)\n",
      "  Using cached https://nexus.tmbbank.local:8081/repository/TMB_PYPI/packages/plotly/5.14.0/plotly-5.14.0-py2.py3-none-any.whl\n",
      "Collecting kmodes>=0.10.1 (from pycaret)\n",
      "  Using cached https://nexus.tmbbank.local:8081/repository/TMB_PYPI/packages/kmodes/0.12.2/kmodes-0.12.2-py2.py3-none-any.whl\n",
      "Collecting pyLDAvis (from pycaret)\n",
      "  Using cached https://nexus.tmbbank.local:8081/repository/TMB_PYPI/packages/pyldavis/3.3.1/pyLDAvis-3.3.1.tar.gz\n",
      "  Installing build dependencies ... \u001b[?25lerror\n",
      "\u001b[31m  ERROR: Command errored out with exit status 1:\n",
      "   command: /app/cloudera/parcels/CDH_PYTHON-0.0.1.p0-anaconda3_2019.07-py2_2.7-py3_3.6/envs/python3/bin/python /app/cloudera/parcels/CDH_PYTHON-0.0.1.p0-anaconda3_2019.07-py2_2.7-py3_3.6/envs/python3/lib/python3.6/site-packages/pip install --ignore-installed --no-user --prefix /tmp/pip-build-env-24lhvbpu/overlay --no-warn-script-location --no-binary :none: --only-binary :none: -i https://nexus.tmbbank.local:8081/repository/TMB_PYPI/simple/ --trusted-host pypi.python.org --trusted-host pypi.org --trusted-host files.pythonhosted.org --trusted-host nexus.tmbbank.local -- setuptools\n",
      "       cwd: None\n",
      "  Complete output (14 lines):\n",
      "  Traceback (most recent call last):\n",
      "    File \"/app/cloudera/parcels/CDH_PYTHON-0.0.1.p0-anaconda3_2019.07-py2_2.7-py3_3.6/envs/python3/lib/python3.6/runpy.py\", line 193, in _run_module_as_main\n",
      "      \"__main__\", mod_spec)\n",
      "    File \"/app/cloudera/parcels/CDH_PYTHON-0.0.1.p0-anaconda3_2019.07-py2_2.7-py3_3.6/envs/python3/lib/python3.6/runpy.py\", line 85, in _run_code\n",
      "      exec(code, run_globals)\n",
      "    File \"/app/cloudera/parcels/CDH_PYTHON-0.0.1.p0-anaconda3_2019.07-py2_2.7-py3_3.6/envs/python3/lib/python3.6/site-packages/pip/__main__.py\", line 16, in <module>\n",
      "      from pip._internal import main as _main  # isort:skip # noqa\n",
      "    File \"/app/cloudera/parcels/CDH_PYTHON-0.0.1.p0-anaconda3_2019.07-py2_2.7-py3_3.6/envs/python3/lib/python3.6/site-packages/pip/_internal/__init__.py\", line 4, in <module>\n",
      "      import locale\n",
      "    File \"/app/cloudera/parcels/CDH_PYTHON-0.0.1.p0-anaconda3_2019.07-py2_2.7-py3_3.6/envs/python3/lib/python3.6/locale.py\", line 16, in <module>\n",
      "      import re\n",
      "    File \"/app/cloudera/parcels/CDH_PYTHON-0.0.1.p0-anaconda3_2019.07-py2_2.7-py3_3.6/envs/python3/lib/python3.6/re.py\", line 142, in <module>\n",
      "      class RegexFlag(enum.IntFlag):\n",
      "  AttributeError: module 'enum' has no attribute 'IntFlag'\n",
      "  ----------------------------------------\u001b[0m\n",
      "\u001b[31mERROR: Command errored out with exit status 1: /app/cloudera/parcels/CDH_PYTHON-0.0.1.p0-anaconda3_2019.07-py2_2.7-py3_3.6/envs/python3/bin/python /app/cloudera/parcels/CDH_PYTHON-0.0.1.p0-anaconda3_2019.07-py2_2.7-py3_3.6/envs/python3/lib/python3.6/site-packages/pip install --ignore-installed --no-user --prefix /tmp/pip-build-env-24lhvbpu/overlay --no-warn-script-location --no-binary :none: --only-binary :none: -i https://nexus.tmbbank.local:8081/repository/TMB_PYPI/simple/ --trusted-host pypi.python.org --trusted-host pypi.org --trusted-host files.pythonhosted.org --trusted-host nexus.tmbbank.local -- setuptools Check the logs for full command output.\u001b[0m\n",
      "\u001b[?25hNote: you may need to restart the kernel to use updated packages.\n"
     ]
    }
   ],
   "source": [
    "pip install pycaret"
   ]
  },
  {
   "cell_type": "code",
   "execution_count": 2,
   "id": "6fba058f",
   "metadata": {},
   "outputs": [],
   "source": [
    "import numpy as np # linear algebra\n",
    "import pandas as pd # data processing, CSV file I/O (e.g. pd.read_csv)\n",
    "import matplotlib.pyplot as plt\n",
    "import seaborn as sns \n",
    "from sklearn.preprocessing import StandardScaler\n",
    "from sklearn.model_selection import train_test_split\n",
    "from sklearn.linear_model import LogisticRegression\n",
    "from sklearn.tree import DecisionTreeClassifier\n",
    "from sklearn.ensemble import RandomForestClassifier\n",
    "from sklearn.metrics import accuracy_score\n",
    "\n",
    "import warnings\n",
    "warnings.filterwarnings('ignore')"
   ]
  },
  {
   "cell_type": "code",
   "execution_count": 3,
   "id": "6e4fca44",
   "metadata": {},
   "outputs": [],
   "source": [
    "df = pd.read_csv('final_data.csv')\n",
    "# df.pd.read_csv('final.csv')\n",
    "# print(type(df))\n",
    "# df = pd.read_csv('/PERSONALIZED_MKT/PERSONAL/Mobile/Churn_Modelling.csv')"
   ]
  },
  {
   "cell_type": "code",
   "execution_count": 4,
   "id": "812b6fe9",
   "metadata": {},
   "outputs": [
    {
     "data": {
      "text/html": [
       "<div>\n",
       "<style scoped>\n",
       "    .dataframe tbody tr th:only-of-type {\n",
       "        vertical-align: middle;\n",
       "    }\n",
       "\n",
       "    .dataframe tbody tr th {\n",
       "        vertical-align: top;\n",
       "    }\n",
       "\n",
       "    .dataframe thead th {\n",
       "        text-align: right;\n",
       "    }\n",
       "</style>\n",
       "<table border=\"1\" class=\"dataframe\">\n",
       "  <thead>\n",
       "    <tr style=\"text-align: right;\">\n",
       "      <th></th>\n",
       "      <th>TMB_CUST_ID</th>\n",
       "      <th>PCI_CARD_NMBR</th>\n",
       "      <th>CHURN</th>\n",
       "      <th>FLAG_MIB_ACT</th>\n",
       "      <th>CUST_SEGMENT</th>\n",
       "      <th>CUST_SEGMENT_RANGE</th>\n",
       "      <th>OCCUPATION_GRP</th>\n",
       "      <th>SEGMENT_OCC</th>\n",
       "      <th>MARITAL_STATUS_GRP</th>\n",
       "      <th>INCOME</th>\n",
       "      <th>...</th>\n",
       "      <th>SPENDING11</th>\n",
       "      <th>SPENDING12</th>\n",
       "      <th>RATIO45</th>\n",
       "      <th>RATIO56</th>\n",
       "      <th>RATIO67</th>\n",
       "      <th>RATIO78</th>\n",
       "      <th>RATIO89</th>\n",
       "      <th>RATIO90</th>\n",
       "      <th>RATIO01</th>\n",
       "      <th>RATIO12</th>\n",
       "    </tr>\n",
       "  </thead>\n",
       "  <tbody>\n",
       "    <tr>\n",
       "      <th>0</th>\n",
       "      <td>001100000000000000000001284146</td>\n",
       "      <td>405016000102043000</td>\n",
       "      <td>0</td>\n",
       "      <td>1.0</td>\n",
       "      <td>5</td>\n",
       "      <td>01) AFFLUENT</td>\n",
       "      <td>08) พ่อบ้าน/แม่บ้าน [Housewife]</td>\n",
       "      <td>OTHER</td>\n",
       "      <td>01) SINGLE</td>\n",
       "      <td>179578</td>\n",
       "      <td>...</td>\n",
       "      <td>NaN</td>\n",
       "      <td>NaN</td>\n",
       "      <td>NaN</td>\n",
       "      <td>NaN</td>\n",
       "      <td>NaN</td>\n",
       "      <td>1.288848</td>\n",
       "      <td>2.153331</td>\n",
       "      <td>0.920746</td>\n",
       "      <td>NaN</td>\n",
       "      <td>NaN</td>\n",
       "    </tr>\n",
       "    <tr>\n",
       "      <th>1</th>\n",
       "      <td>001100000000000000000011095423</td>\n",
       "      <td>405016000102052000</td>\n",
       "      <td>0</td>\n",
       "      <td>1.0</td>\n",
       "      <td>6</td>\n",
       "      <td>02) MIDINCOME</td>\n",
       "      <td>03) พนักงานเอกชน [Private Employee]</td>\n",
       "      <td>PRIVATE EMPLOYEE</td>\n",
       "      <td>01) SINGLE</td>\n",
       "      <td>98000</td>\n",
       "      <td>...</td>\n",
       "      <td>NaN</td>\n",
       "      <td>1060.00</td>\n",
       "      <td>NaN</td>\n",
       "      <td>NaN</td>\n",
       "      <td>NaN</td>\n",
       "      <td>NaN</td>\n",
       "      <td>NaN</td>\n",
       "      <td>NaN</td>\n",
       "      <td>NaN</td>\n",
       "      <td>NaN</td>\n",
       "    </tr>\n",
       "    <tr>\n",
       "      <th>2</th>\n",
       "      <td>001100000000000000000011160366</td>\n",
       "      <td>405016000102061000</td>\n",
       "      <td>0</td>\n",
       "      <td>1.0</td>\n",
       "      <td>5</td>\n",
       "      <td>01) AFFLUENT</td>\n",
       "      <td>01) เจ้าของกิจการ  [Owner Operator]</td>\n",
       "      <td>SMALL BUSINESS OWNER</td>\n",
       "      <td>01) SINGLE</td>\n",
       "      <td>100000</td>\n",
       "      <td>...</td>\n",
       "      <td>26268.13</td>\n",
       "      <td>1683.47</td>\n",
       "      <td>NaN</td>\n",
       "      <td>NaN</td>\n",
       "      <td>1.400546</td>\n",
       "      <td>NaN</td>\n",
       "      <td>NaN</td>\n",
       "      <td>NaN</td>\n",
       "      <td>NaN</td>\n",
       "      <td>15.603563</td>\n",
       "    </tr>\n",
       "    <tr>\n",
       "      <th>3</th>\n",
       "      <td>001100000000000000000008216707</td>\n",
       "      <td>405016000102070000</td>\n",
       "      <td>0</td>\n",
       "      <td>1.0</td>\n",
       "      <td>5</td>\n",
       "      <td>01) AFFLUENT</td>\n",
       "      <td>01) เจ้าของกิจการ  [Owner Operator]</td>\n",
       "      <td>SMALL BUSINESS OWNER</td>\n",
       "      <td>01) SINGLE</td>\n",
       "      <td>92000</td>\n",
       "      <td>...</td>\n",
       "      <td>24448.34</td>\n",
       "      <td>71931.67</td>\n",
       "      <td>1.000000</td>\n",
       "      <td>1.000000</td>\n",
       "      <td>1.000000</td>\n",
       "      <td>1.000000</td>\n",
       "      <td>1.000000</td>\n",
       "      <td>1.000000</td>\n",
       "      <td>0.081396</td>\n",
       "      <td>0.339883</td>\n",
       "    </tr>\n",
       "    <tr>\n",
       "      <th>4</th>\n",
       "      <td>001100000000000000000010433854</td>\n",
       "      <td>405016000102088000</td>\n",
       "      <td>0</td>\n",
       "      <td>1.0</td>\n",
       "      <td>5</td>\n",
       "      <td>01) AFFLUENT</td>\n",
       "      <td>99) NA</td>\n",
       "      <td>OTHER</td>\n",
       "      <td>02) MARRIED</td>\n",
       "      <td>100000</td>\n",
       "      <td>...</td>\n",
       "      <td>102557.59</td>\n",
       "      <td>139991.70</td>\n",
       "      <td>1.774443</td>\n",
       "      <td>0.673621</td>\n",
       "      <td>1.640631</td>\n",
       "      <td>1.139531</td>\n",
       "      <td>0.842415</td>\n",
       "      <td>0.807738</td>\n",
       "      <td>1.382081</td>\n",
       "      <td>0.732598</td>\n",
       "    </tr>\n",
       "    <tr>\n",
       "      <th>...</th>\n",
       "      <td>...</td>\n",
       "      <td>...</td>\n",
       "      <td>...</td>\n",
       "      <td>...</td>\n",
       "      <td>...</td>\n",
       "      <td>...</td>\n",
       "      <td>...</td>\n",
       "      <td>...</td>\n",
       "      <td>...</td>\n",
       "      <td>...</td>\n",
       "      <td>...</td>\n",
       "      <td>...</td>\n",
       "      <td>...</td>\n",
       "      <td>...</td>\n",
       "      <td>...</td>\n",
       "      <td>...</td>\n",
       "      <td>...</td>\n",
       "      <td>...</td>\n",
       "      <td>...</td>\n",
       "      <td>...</td>\n",
       "      <td>...</td>\n",
       "    </tr>\n",
       "    <tr>\n",
       "      <th>715766</th>\n",
       "      <td>001100000000000000000019222731</td>\n",
       "      <td>542691090104031390</td>\n",
       "      <td>0</td>\n",
       "      <td>1.0</td>\n",
       "      <td>6</td>\n",
       "      <td>02) MIDINCOME</td>\n",
       "      <td>99) NA</td>\n",
       "      <td>OTHER</td>\n",
       "      <td>03) DIVORCE</td>\n",
       "      <td>20000</td>\n",
       "      <td>...</td>\n",
       "      <td>118.93</td>\n",
       "      <td>110.83</td>\n",
       "      <td>NaN</td>\n",
       "      <td>NaN</td>\n",
       "      <td>NaN</td>\n",
       "      <td>NaN</td>\n",
       "      <td>NaN</td>\n",
       "      <td>NaN</td>\n",
       "      <td>NaN</td>\n",
       "      <td>1.073085</td>\n",
       "    </tr>\n",
       "    <tr>\n",
       "      <th>715767</th>\n",
       "      <td>001100000000000000000007808899</td>\n",
       "      <td>542691095102181195</td>\n",
       "      <td>0</td>\n",
       "      <td>1.0</td>\n",
       "      <td>6</td>\n",
       "      <td>02) MIDINCOME</td>\n",
       "      <td>03) พนักงานเอกชน [Private Employee]</td>\n",
       "      <td>PRIVATE EMPLOYEE</td>\n",
       "      <td>01) SINGLE</td>\n",
       "      <td>25000</td>\n",
       "      <td>...</td>\n",
       "      <td>2096.28</td>\n",
       "      <td>2096.28</td>\n",
       "      <td>1.000000</td>\n",
       "      <td>1.000000</td>\n",
       "      <td>1.000000</td>\n",
       "      <td>1.000000</td>\n",
       "      <td>1.000000</td>\n",
       "      <td>1.000000</td>\n",
       "      <td>1.000000</td>\n",
       "      <td>1.000000</td>\n",
       "    </tr>\n",
       "    <tr>\n",
       "      <th>715768</th>\n",
       "      <td>001100000000000000000016874299</td>\n",
       "      <td>542691096103108296</td>\n",
       "      <td>0</td>\n",
       "      <td>NaN</td>\n",
       "      <td>6</td>\n",
       "      <td>02) MIDINCOME</td>\n",
       "      <td>03) พนักงานเอกชน [Private Employee]</td>\n",
       "      <td>PRIVATE EMPLOYEE</td>\n",
       "      <td>02) MARRIED</td>\n",
       "      <td>50000</td>\n",
       "      <td>...</td>\n",
       "      <td>1031.55</td>\n",
       "      <td>1031.55</td>\n",
       "      <td>1.000000</td>\n",
       "      <td>1.000000</td>\n",
       "      <td>1.000000</td>\n",
       "      <td>1.000000</td>\n",
       "      <td>1.000000</td>\n",
       "      <td>1.000000</td>\n",
       "      <td>1.000000</td>\n",
       "      <td>1.000000</td>\n",
       "    </tr>\n",
       "    <tr>\n",
       "      <th>715769</th>\n",
       "      <td>001100000000000000000023115773</td>\n",
       "      <td>542691096107248696</td>\n",
       "      <td>0</td>\n",
       "      <td>1.0</td>\n",
       "      <td>6</td>\n",
       "      <td>02) MIDINCOME</td>\n",
       "      <td>03) พนักงานเอกชน [Private Employee]</td>\n",
       "      <td>PRIVATE EMPLOYEE</td>\n",
       "      <td>01) SINGLE</td>\n",
       "      <td>50000</td>\n",
       "      <td>...</td>\n",
       "      <td>95.98</td>\n",
       "      <td>87.47</td>\n",
       "      <td>NaN</td>\n",
       "      <td>NaN</td>\n",
       "      <td>NaN</td>\n",
       "      <td>NaN</td>\n",
       "      <td>NaN</td>\n",
       "      <td>NaN</td>\n",
       "      <td>NaN</td>\n",
       "      <td>1.097290</td>\n",
       "    </tr>\n",
       "    <tr>\n",
       "      <th>715770</th>\n",
       "      <td>001100000000000000000006281754</td>\n",
       "      <td>542691098105050498</td>\n",
       "      <td>0</td>\n",
       "      <td>1.0</td>\n",
       "      <td>6</td>\n",
       "      <td>02) MIDINCOME</td>\n",
       "      <td>03) พนักงานเอกชน [Private Employee]</td>\n",
       "      <td>PRIVATE EMPLOYEE</td>\n",
       "      <td>01) SINGLE</td>\n",
       "      <td>56000</td>\n",
       "      <td>...</td>\n",
       "      <td>265.16</td>\n",
       "      <td>249.15</td>\n",
       "      <td>NaN</td>\n",
       "      <td>NaN</td>\n",
       "      <td>NaN</td>\n",
       "      <td>NaN</td>\n",
       "      <td>NaN</td>\n",
       "      <td>NaN</td>\n",
       "      <td>NaN</td>\n",
       "      <td>1.064258</td>\n",
       "    </tr>\n",
       "  </tbody>\n",
       "</table>\n",
       "<p>715771 rows × 83 columns</p>\n",
       "</div>"
      ],
      "text/plain": [
       "                           TMB_CUST_ID       PCI_CARD_NMBR  CHURN  \\\n",
       "0       001100000000000000000001284146  405016000102043000      0   \n",
       "1       001100000000000000000011095423  405016000102052000      0   \n",
       "2       001100000000000000000011160366  405016000102061000      0   \n",
       "3       001100000000000000000008216707  405016000102070000      0   \n",
       "4       001100000000000000000010433854  405016000102088000      0   \n",
       "...                                ...                 ...    ...   \n",
       "715766  001100000000000000000019222731  542691090104031390      0   \n",
       "715767  001100000000000000000007808899  542691095102181195      0   \n",
       "715768  001100000000000000000016874299  542691096103108296      0   \n",
       "715769  001100000000000000000023115773  542691096107248696      0   \n",
       "715770  001100000000000000000006281754  542691098105050498      0   \n",
       "\n",
       "        FLAG_MIB_ACT  CUST_SEGMENT CUST_SEGMENT_RANGE  \\\n",
       "0                1.0             5       01) AFFLUENT   \n",
       "1                1.0             6      02) MIDINCOME   \n",
       "2                1.0             5       01) AFFLUENT   \n",
       "3                1.0             5       01) AFFLUENT   \n",
       "4                1.0             5       01) AFFLUENT   \n",
       "...              ...           ...                ...   \n",
       "715766           1.0             6      02) MIDINCOME   \n",
       "715767           1.0             6      02) MIDINCOME   \n",
       "715768           NaN             6      02) MIDINCOME   \n",
       "715769           1.0             6      02) MIDINCOME   \n",
       "715770           1.0             6      02) MIDINCOME   \n",
       "\n",
       "                             OCCUPATION_GRP           SEGMENT_OCC  \\\n",
       "0           08) พ่อบ้าน/แม่บ้าน [Housewife]                 OTHER   \n",
       "1       03) พนักงานเอกชน [Private Employee]      PRIVATE EMPLOYEE   \n",
       "2       01) เจ้าของกิจการ  [Owner Operator]  SMALL BUSINESS OWNER   \n",
       "3       01) เจ้าของกิจการ  [Owner Operator]  SMALL BUSINESS OWNER   \n",
       "4                                    99) NA                 OTHER   \n",
       "...                                     ...                   ...   \n",
       "715766                               99) NA                 OTHER   \n",
       "715767  03) พนักงานเอกชน [Private Employee]      PRIVATE EMPLOYEE   \n",
       "715768  03) พนักงานเอกชน [Private Employee]      PRIVATE EMPLOYEE   \n",
       "715769  03) พนักงานเอกชน [Private Employee]      PRIVATE EMPLOYEE   \n",
       "715770  03) พนักงานเอกชน [Private Employee]      PRIVATE EMPLOYEE   \n",
       "\n",
       "       MARITAL_STATUS_GRP  INCOME  ... SPENDING11 SPENDING12   RATIO45  \\\n",
       "0              01) SINGLE  179578  ...        NaN        NaN       NaN   \n",
       "1              01) SINGLE   98000  ...        NaN    1060.00       NaN   \n",
       "2              01) SINGLE  100000  ...   26268.13    1683.47       NaN   \n",
       "3              01) SINGLE   92000  ...   24448.34   71931.67  1.000000   \n",
       "4             02) MARRIED  100000  ...  102557.59  139991.70  1.774443   \n",
       "...                   ...     ...  ...        ...        ...       ...   \n",
       "715766        03) DIVORCE   20000  ...     118.93     110.83       NaN   \n",
       "715767         01) SINGLE   25000  ...    2096.28    2096.28  1.000000   \n",
       "715768        02) MARRIED   50000  ...    1031.55    1031.55  1.000000   \n",
       "715769         01) SINGLE   50000  ...      95.98      87.47       NaN   \n",
       "715770         01) SINGLE   56000  ...     265.16     249.15       NaN   \n",
       "\n",
       "         RATIO56   RATIO67   RATIO78   RATIO89   RATIO90   RATIO01    RATIO12  \n",
       "0            NaN       NaN  1.288848  2.153331  0.920746       NaN        NaN  \n",
       "1            NaN       NaN       NaN       NaN       NaN       NaN        NaN  \n",
       "2            NaN  1.400546       NaN       NaN       NaN       NaN  15.603563  \n",
       "3       1.000000  1.000000  1.000000  1.000000  1.000000  0.081396   0.339883  \n",
       "4       0.673621  1.640631  1.139531  0.842415  0.807738  1.382081   0.732598  \n",
       "...          ...       ...       ...       ...       ...       ...        ...  \n",
       "715766       NaN       NaN       NaN       NaN       NaN       NaN   1.073085  \n",
       "715767  1.000000  1.000000  1.000000  1.000000  1.000000  1.000000   1.000000  \n",
       "715768  1.000000  1.000000  1.000000  1.000000  1.000000  1.000000   1.000000  \n",
       "715769       NaN       NaN       NaN       NaN       NaN       NaN   1.097290  \n",
       "715770       NaN       NaN       NaN       NaN       NaN       NaN   1.064258  \n",
       "\n",
       "[715771 rows x 83 columns]"
      ]
     },
     "execution_count": 4,
     "metadata": {},
     "output_type": "execute_result"
    }
   ],
   "source": [
    "df"
   ]
  },
  {
   "cell_type": "code",
   "execution_count": 5,
   "id": "40a7b885",
   "metadata": {},
   "outputs": [],
   "source": [
    "df = df.replace(np.nan, 0)"
   ]
  },
  {
   "cell_type": "code",
   "execution_count": 6,
   "id": "0a0226fe",
   "metadata": {},
   "outputs": [],
   "source": [
    "df.fillna(0, inplace=True)"
   ]
  },
  {
   "cell_type": "code",
   "execution_count": 7,
   "id": "ee6291d9",
   "metadata": {},
   "outputs": [
    {
     "data": {
      "text/html": [
       "<div>\n",
       "<style scoped>\n",
       "    .dataframe tbody tr th:only-of-type {\n",
       "        vertical-align: middle;\n",
       "    }\n",
       "\n",
       "    .dataframe tbody tr th {\n",
       "        vertical-align: top;\n",
       "    }\n",
       "\n",
       "    .dataframe thead th {\n",
       "        text-align: right;\n",
       "    }\n",
       "</style>\n",
       "<table border=\"1\" class=\"dataframe\">\n",
       "  <thead>\n",
       "    <tr style=\"text-align: right;\">\n",
       "      <th></th>\n",
       "      <th>TMB_CUST_ID</th>\n",
       "      <th>PCI_CARD_NMBR</th>\n",
       "      <th>CHURN</th>\n",
       "      <th>FLAG_MIB_ACT</th>\n",
       "      <th>CUST_SEGMENT</th>\n",
       "      <th>CUST_SEGMENT_RANGE</th>\n",
       "      <th>OCCUPATION_GRP</th>\n",
       "      <th>SEGMENT_OCC</th>\n",
       "      <th>MARITAL_STATUS_GRP</th>\n",
       "      <th>INCOME</th>\n",
       "      <th>...</th>\n",
       "      <th>SPENDING11</th>\n",
       "      <th>SPENDING12</th>\n",
       "      <th>RATIO45</th>\n",
       "      <th>RATIO56</th>\n",
       "      <th>RATIO67</th>\n",
       "      <th>RATIO78</th>\n",
       "      <th>RATIO89</th>\n",
       "      <th>RATIO90</th>\n",
       "      <th>RATIO01</th>\n",
       "      <th>RATIO12</th>\n",
       "    </tr>\n",
       "  </thead>\n",
       "  <tbody>\n",
       "    <tr>\n",
       "      <th>0</th>\n",
       "      <td>001100000000000000000001284146</td>\n",
       "      <td>405016000102043000</td>\n",
       "      <td>0</td>\n",
       "      <td>1.0</td>\n",
       "      <td>5</td>\n",
       "      <td>01) AFFLUENT</td>\n",
       "      <td>08) พ่อบ้าน/แม่บ้าน [Housewife]</td>\n",
       "      <td>OTHER</td>\n",
       "      <td>01) SINGLE</td>\n",
       "      <td>179578</td>\n",
       "      <td>...</td>\n",
       "      <td>0.00</td>\n",
       "      <td>0.00</td>\n",
       "      <td>0.000000</td>\n",
       "      <td>0.000000</td>\n",
       "      <td>0.000000</td>\n",
       "      <td>1.288848</td>\n",
       "      <td>2.153331</td>\n",
       "      <td>0.920746</td>\n",
       "      <td>0.000000</td>\n",
       "      <td>0.000000</td>\n",
       "    </tr>\n",
       "    <tr>\n",
       "      <th>1</th>\n",
       "      <td>001100000000000000000011095423</td>\n",
       "      <td>405016000102052000</td>\n",
       "      <td>0</td>\n",
       "      <td>1.0</td>\n",
       "      <td>6</td>\n",
       "      <td>02) MIDINCOME</td>\n",
       "      <td>03) พนักงานเอกชน [Private Employee]</td>\n",
       "      <td>PRIVATE EMPLOYEE</td>\n",
       "      <td>01) SINGLE</td>\n",
       "      <td>98000</td>\n",
       "      <td>...</td>\n",
       "      <td>0.00</td>\n",
       "      <td>1060.00</td>\n",
       "      <td>0.000000</td>\n",
       "      <td>0.000000</td>\n",
       "      <td>0.000000</td>\n",
       "      <td>0.000000</td>\n",
       "      <td>0.000000</td>\n",
       "      <td>0.000000</td>\n",
       "      <td>0.000000</td>\n",
       "      <td>0.000000</td>\n",
       "    </tr>\n",
       "    <tr>\n",
       "      <th>2</th>\n",
       "      <td>001100000000000000000011160366</td>\n",
       "      <td>405016000102061000</td>\n",
       "      <td>0</td>\n",
       "      <td>1.0</td>\n",
       "      <td>5</td>\n",
       "      <td>01) AFFLUENT</td>\n",
       "      <td>01) เจ้าของกิจการ  [Owner Operator]</td>\n",
       "      <td>SMALL BUSINESS OWNER</td>\n",
       "      <td>01) SINGLE</td>\n",
       "      <td>100000</td>\n",
       "      <td>...</td>\n",
       "      <td>26268.13</td>\n",
       "      <td>1683.47</td>\n",
       "      <td>0.000000</td>\n",
       "      <td>0.000000</td>\n",
       "      <td>1.400546</td>\n",
       "      <td>0.000000</td>\n",
       "      <td>0.000000</td>\n",
       "      <td>0.000000</td>\n",
       "      <td>0.000000</td>\n",
       "      <td>15.603563</td>\n",
       "    </tr>\n",
       "    <tr>\n",
       "      <th>3</th>\n",
       "      <td>001100000000000000000008216707</td>\n",
       "      <td>405016000102070000</td>\n",
       "      <td>0</td>\n",
       "      <td>1.0</td>\n",
       "      <td>5</td>\n",
       "      <td>01) AFFLUENT</td>\n",
       "      <td>01) เจ้าของกิจการ  [Owner Operator]</td>\n",
       "      <td>SMALL BUSINESS OWNER</td>\n",
       "      <td>01) SINGLE</td>\n",
       "      <td>92000</td>\n",
       "      <td>...</td>\n",
       "      <td>24448.34</td>\n",
       "      <td>71931.67</td>\n",
       "      <td>1.000000</td>\n",
       "      <td>1.000000</td>\n",
       "      <td>1.000000</td>\n",
       "      <td>1.000000</td>\n",
       "      <td>1.000000</td>\n",
       "      <td>1.000000</td>\n",
       "      <td>0.081396</td>\n",
       "      <td>0.339883</td>\n",
       "    </tr>\n",
       "    <tr>\n",
       "      <th>4</th>\n",
       "      <td>001100000000000000000010433854</td>\n",
       "      <td>405016000102088000</td>\n",
       "      <td>0</td>\n",
       "      <td>1.0</td>\n",
       "      <td>5</td>\n",
       "      <td>01) AFFLUENT</td>\n",
       "      <td>99) NA</td>\n",
       "      <td>OTHER</td>\n",
       "      <td>02) MARRIED</td>\n",
       "      <td>100000</td>\n",
       "      <td>...</td>\n",
       "      <td>102557.59</td>\n",
       "      <td>139991.70</td>\n",
       "      <td>1.774443</td>\n",
       "      <td>0.673621</td>\n",
       "      <td>1.640631</td>\n",
       "      <td>1.139531</td>\n",
       "      <td>0.842415</td>\n",
       "      <td>0.807738</td>\n",
       "      <td>1.382081</td>\n",
       "      <td>0.732598</td>\n",
       "    </tr>\n",
       "    <tr>\n",
       "      <th>...</th>\n",
       "      <td>...</td>\n",
       "      <td>...</td>\n",
       "      <td>...</td>\n",
       "      <td>...</td>\n",
       "      <td>...</td>\n",
       "      <td>...</td>\n",
       "      <td>...</td>\n",
       "      <td>...</td>\n",
       "      <td>...</td>\n",
       "      <td>...</td>\n",
       "      <td>...</td>\n",
       "      <td>...</td>\n",
       "      <td>...</td>\n",
       "      <td>...</td>\n",
       "      <td>...</td>\n",
       "      <td>...</td>\n",
       "      <td>...</td>\n",
       "      <td>...</td>\n",
       "      <td>...</td>\n",
       "      <td>...</td>\n",
       "      <td>...</td>\n",
       "    </tr>\n",
       "    <tr>\n",
       "      <th>715766</th>\n",
       "      <td>001100000000000000000019222731</td>\n",
       "      <td>542691090104031390</td>\n",
       "      <td>0</td>\n",
       "      <td>1.0</td>\n",
       "      <td>6</td>\n",
       "      <td>02) MIDINCOME</td>\n",
       "      <td>99) NA</td>\n",
       "      <td>OTHER</td>\n",
       "      <td>03) DIVORCE</td>\n",
       "      <td>20000</td>\n",
       "      <td>...</td>\n",
       "      <td>118.93</td>\n",
       "      <td>110.83</td>\n",
       "      <td>0.000000</td>\n",
       "      <td>0.000000</td>\n",
       "      <td>0.000000</td>\n",
       "      <td>0.000000</td>\n",
       "      <td>0.000000</td>\n",
       "      <td>0.000000</td>\n",
       "      <td>0.000000</td>\n",
       "      <td>1.073085</td>\n",
       "    </tr>\n",
       "    <tr>\n",
       "      <th>715767</th>\n",
       "      <td>001100000000000000000007808899</td>\n",
       "      <td>542691095102181195</td>\n",
       "      <td>0</td>\n",
       "      <td>1.0</td>\n",
       "      <td>6</td>\n",
       "      <td>02) MIDINCOME</td>\n",
       "      <td>03) พนักงานเอกชน [Private Employee]</td>\n",
       "      <td>PRIVATE EMPLOYEE</td>\n",
       "      <td>01) SINGLE</td>\n",
       "      <td>25000</td>\n",
       "      <td>...</td>\n",
       "      <td>2096.28</td>\n",
       "      <td>2096.28</td>\n",
       "      <td>1.000000</td>\n",
       "      <td>1.000000</td>\n",
       "      <td>1.000000</td>\n",
       "      <td>1.000000</td>\n",
       "      <td>1.000000</td>\n",
       "      <td>1.000000</td>\n",
       "      <td>1.000000</td>\n",
       "      <td>1.000000</td>\n",
       "    </tr>\n",
       "    <tr>\n",
       "      <th>715768</th>\n",
       "      <td>001100000000000000000016874299</td>\n",
       "      <td>542691096103108296</td>\n",
       "      <td>0</td>\n",
       "      <td>0.0</td>\n",
       "      <td>6</td>\n",
       "      <td>02) MIDINCOME</td>\n",
       "      <td>03) พนักงานเอกชน [Private Employee]</td>\n",
       "      <td>PRIVATE EMPLOYEE</td>\n",
       "      <td>02) MARRIED</td>\n",
       "      <td>50000</td>\n",
       "      <td>...</td>\n",
       "      <td>1031.55</td>\n",
       "      <td>1031.55</td>\n",
       "      <td>1.000000</td>\n",
       "      <td>1.000000</td>\n",
       "      <td>1.000000</td>\n",
       "      <td>1.000000</td>\n",
       "      <td>1.000000</td>\n",
       "      <td>1.000000</td>\n",
       "      <td>1.000000</td>\n",
       "      <td>1.000000</td>\n",
       "    </tr>\n",
       "    <tr>\n",
       "      <th>715769</th>\n",
       "      <td>001100000000000000000023115773</td>\n",
       "      <td>542691096107248696</td>\n",
       "      <td>0</td>\n",
       "      <td>1.0</td>\n",
       "      <td>6</td>\n",
       "      <td>02) MIDINCOME</td>\n",
       "      <td>03) พนักงานเอกชน [Private Employee]</td>\n",
       "      <td>PRIVATE EMPLOYEE</td>\n",
       "      <td>01) SINGLE</td>\n",
       "      <td>50000</td>\n",
       "      <td>...</td>\n",
       "      <td>95.98</td>\n",
       "      <td>87.47</td>\n",
       "      <td>0.000000</td>\n",
       "      <td>0.000000</td>\n",
       "      <td>0.000000</td>\n",
       "      <td>0.000000</td>\n",
       "      <td>0.000000</td>\n",
       "      <td>0.000000</td>\n",
       "      <td>0.000000</td>\n",
       "      <td>1.097290</td>\n",
       "    </tr>\n",
       "    <tr>\n",
       "      <th>715770</th>\n",
       "      <td>001100000000000000000006281754</td>\n",
       "      <td>542691098105050498</td>\n",
       "      <td>0</td>\n",
       "      <td>1.0</td>\n",
       "      <td>6</td>\n",
       "      <td>02) MIDINCOME</td>\n",
       "      <td>03) พนักงานเอกชน [Private Employee]</td>\n",
       "      <td>PRIVATE EMPLOYEE</td>\n",
       "      <td>01) SINGLE</td>\n",
       "      <td>56000</td>\n",
       "      <td>...</td>\n",
       "      <td>265.16</td>\n",
       "      <td>249.15</td>\n",
       "      <td>0.000000</td>\n",
       "      <td>0.000000</td>\n",
       "      <td>0.000000</td>\n",
       "      <td>0.000000</td>\n",
       "      <td>0.000000</td>\n",
       "      <td>0.000000</td>\n",
       "      <td>0.000000</td>\n",
       "      <td>1.064258</td>\n",
       "    </tr>\n",
       "  </tbody>\n",
       "</table>\n",
       "<p>715771 rows × 83 columns</p>\n",
       "</div>"
      ],
      "text/plain": [
       "                           TMB_CUST_ID       PCI_CARD_NMBR  CHURN  \\\n",
       "0       001100000000000000000001284146  405016000102043000      0   \n",
       "1       001100000000000000000011095423  405016000102052000      0   \n",
       "2       001100000000000000000011160366  405016000102061000      0   \n",
       "3       001100000000000000000008216707  405016000102070000      0   \n",
       "4       001100000000000000000010433854  405016000102088000      0   \n",
       "...                                ...                 ...    ...   \n",
       "715766  001100000000000000000019222731  542691090104031390      0   \n",
       "715767  001100000000000000000007808899  542691095102181195      0   \n",
       "715768  001100000000000000000016874299  542691096103108296      0   \n",
       "715769  001100000000000000000023115773  542691096107248696      0   \n",
       "715770  001100000000000000000006281754  542691098105050498      0   \n",
       "\n",
       "        FLAG_MIB_ACT  CUST_SEGMENT CUST_SEGMENT_RANGE  \\\n",
       "0                1.0             5       01) AFFLUENT   \n",
       "1                1.0             6      02) MIDINCOME   \n",
       "2                1.0             5       01) AFFLUENT   \n",
       "3                1.0             5       01) AFFLUENT   \n",
       "4                1.0             5       01) AFFLUENT   \n",
       "...              ...           ...                ...   \n",
       "715766           1.0             6      02) MIDINCOME   \n",
       "715767           1.0             6      02) MIDINCOME   \n",
       "715768           0.0             6      02) MIDINCOME   \n",
       "715769           1.0             6      02) MIDINCOME   \n",
       "715770           1.0             6      02) MIDINCOME   \n",
       "\n",
       "                             OCCUPATION_GRP           SEGMENT_OCC  \\\n",
       "0           08) พ่อบ้าน/แม่บ้าน [Housewife]                 OTHER   \n",
       "1       03) พนักงานเอกชน [Private Employee]      PRIVATE EMPLOYEE   \n",
       "2       01) เจ้าของกิจการ  [Owner Operator]  SMALL BUSINESS OWNER   \n",
       "3       01) เจ้าของกิจการ  [Owner Operator]  SMALL BUSINESS OWNER   \n",
       "4                                    99) NA                 OTHER   \n",
       "...                                     ...                   ...   \n",
       "715766                               99) NA                 OTHER   \n",
       "715767  03) พนักงานเอกชน [Private Employee]      PRIVATE EMPLOYEE   \n",
       "715768  03) พนักงานเอกชน [Private Employee]      PRIVATE EMPLOYEE   \n",
       "715769  03) พนักงานเอกชน [Private Employee]      PRIVATE EMPLOYEE   \n",
       "715770  03) พนักงานเอกชน [Private Employee]      PRIVATE EMPLOYEE   \n",
       "\n",
       "       MARITAL_STATUS_GRP  INCOME  ... SPENDING11 SPENDING12   RATIO45  \\\n",
       "0              01) SINGLE  179578  ...       0.00       0.00  0.000000   \n",
       "1              01) SINGLE   98000  ...       0.00    1060.00  0.000000   \n",
       "2              01) SINGLE  100000  ...   26268.13    1683.47  0.000000   \n",
       "3              01) SINGLE   92000  ...   24448.34   71931.67  1.000000   \n",
       "4             02) MARRIED  100000  ...  102557.59  139991.70  1.774443   \n",
       "...                   ...     ...  ...        ...        ...       ...   \n",
       "715766        03) DIVORCE   20000  ...     118.93     110.83  0.000000   \n",
       "715767         01) SINGLE   25000  ...    2096.28    2096.28  1.000000   \n",
       "715768        02) MARRIED   50000  ...    1031.55    1031.55  1.000000   \n",
       "715769         01) SINGLE   50000  ...      95.98      87.47  0.000000   \n",
       "715770         01) SINGLE   56000  ...     265.16     249.15  0.000000   \n",
       "\n",
       "         RATIO56   RATIO67   RATIO78   RATIO89   RATIO90   RATIO01    RATIO12  \n",
       "0       0.000000  0.000000  1.288848  2.153331  0.920746  0.000000   0.000000  \n",
       "1       0.000000  0.000000  0.000000  0.000000  0.000000  0.000000   0.000000  \n",
       "2       0.000000  1.400546  0.000000  0.000000  0.000000  0.000000  15.603563  \n",
       "3       1.000000  1.000000  1.000000  1.000000  1.000000  0.081396   0.339883  \n",
       "4       0.673621  1.640631  1.139531  0.842415  0.807738  1.382081   0.732598  \n",
       "...          ...       ...       ...       ...       ...       ...        ...  \n",
       "715766  0.000000  0.000000  0.000000  0.000000  0.000000  0.000000   1.073085  \n",
       "715767  1.000000  1.000000  1.000000  1.000000  1.000000  1.000000   1.000000  \n",
       "715768  1.000000  1.000000  1.000000  1.000000  1.000000  1.000000   1.000000  \n",
       "715769  0.000000  0.000000  0.000000  0.000000  0.000000  0.000000   1.097290  \n",
       "715770  0.000000  0.000000  0.000000  0.000000  0.000000  0.000000   1.064258  \n",
       "\n",
       "[715771 rows x 83 columns]"
      ]
     },
     "execution_count": 7,
     "metadata": {},
     "output_type": "execute_result"
    }
   ],
   "source": [
    "df"
   ]
  },
  {
   "cell_type": "code",
   "execution_count": 8,
   "id": "835eca54",
   "metadata": {},
   "outputs": [],
   "source": [
    "#dropping unnecessary columns \n",
    "df = df.drop(columns = ['PCI_CARD_NMBR','TMB_CUST_ID','OPENED_DATE'])"
   ]
  },
  {
   "cell_type": "code",
   "execution_count": 9,
   "id": "2bfaf50e",
   "metadata": {},
   "outputs": [],
   "source": [
    "from sklearn.preprocessing import LabelEncoder\n",
    "label = LabelEncoder()"
   ]
  },
  {
   "cell_type": "code",
   "execution_count": 10,
   "id": "57429ad9",
   "metadata": {},
   "outputs": [],
   "source": [
    "# df['PRODUCT_CODE_DETAIL']\n",
    "# df['PRODUCT_CODE_DETAIL'].isnull()\n",
    "# print(df['PRODUCT_CODE_DETAIL'])\n",
    "df['PRODUCT_CODE_DETAIL'] = df['PRODUCT_CODE_DETAIL'].astype(str)\n",
    "df['GENDER_CD'] = df['GENDER_CD'].astype(str)\n",
    "df['CATEGORY_X4'] = df['CATEGORY_X4'].astype(str)\n",
    "df['CATEGORY_X5'] = df['CATEGORY_X5'].astype(str)\n",
    "df['CATEGORY_X6'] = df['CATEGORY_X6'].astype(str)\n",
    "df['CATEGORY_X7'] = df['CATEGORY_X7'].astype(str)\n",
    "df['CATEGORY_X8'] = df['CATEGORY_X8'].astype(str)\n",
    "df['CATEGORY_X9'] = df['CATEGORY_X9'].astype(str)\n",
    "df['CATEGORY_X10'] = df['CATEGORY_X10'].astype(str)\n",
    "df['CATEGORY_X11'] = df['CATEGORY_X11'].astype(str)\n",
    "df['CATEGORY_X12'] = df['CATEGORY_X12'].astype(str)"
   ]
  },
  {
   "cell_type": "code",
   "execution_count": 11,
   "id": "8b056dc0",
   "metadata": {},
   "outputs": [
    {
     "name": "stdout",
     "output_type": "stream",
     "text": [
      "<class 'pandas.core.frame.DataFrame'>\n",
      "RangeIndex: 715771 entries, 0 to 715770\n",
      "Data columns (total 80 columns):\n",
      " #   Column               Non-Null Count   Dtype  \n",
      "---  ------               --------------   -----  \n",
      " 0   CHURN                715771 non-null  int64  \n",
      " 1   FLAG_MIB_ACT         715771 non-null  float64\n",
      " 2   CUST_SEGMENT         715771 non-null  int64  \n",
      " 3   CUST_SEGMENT_RANGE   715771 non-null  object \n",
      " 4   OCCUPATION_GRP       715771 non-null  object \n",
      " 5   SEGMENT_OCC          715771 non-null  object \n",
      " 6   MARITAL_STATUS_GRP   715771 non-null  object \n",
      " 7   INCOME               715771 non-null  int64  \n",
      " 8   INCOME_RANGE         715771 non-null  object \n",
      " 9   EDUCATION_LEVEL      715771 non-null  object \n",
      " 10  PRODUCT_CODE_DETAIL  715771 non-null  object \n",
      " 11  TIME_CC_HOLDER       715771 non-null  float64\n",
      " 12  CUR_BAL_POINT        715771 non-null  float64\n",
      " 13  GENDER_CD            715771 non-null  object \n",
      " 14  SALARY               715771 non-null  int64  \n",
      " 15  AGE                  715771 non-null  int64  \n",
      " 16  AGE_RANGE            715771 non-null  object \n",
      " 17  OCC_GROUP            715771 non-null  float64\n",
      " 18  CATEGORY_X4          715771 non-null  object \n",
      " 19  CATEGORY_X5          715771 non-null  object \n",
      " 20  CATEGORY_X6          715771 non-null  object \n",
      " 21  CATEGORY_X7          715771 non-null  object \n",
      " 22  CATEGORY_X8          715771 non-null  object \n",
      " 23  CATEGORY_X9          715771 non-null  object \n",
      " 24  CATEGORY_X10         715771 non-null  object \n",
      " 25  CATEGORY_X11         715771 non-null  object \n",
      " 26  CATEGORY_X12         715771 non-null  object \n",
      " 27  TMB_AVAIL_CREDIT04   715771 non-null  float64\n",
      " 28  TMB_AVAIL_CREDIT05   715771 non-null  float64\n",
      " 29  TMB_AVAIL_CREDIT06   715771 non-null  float64\n",
      " 30  TMB_AVAIL_CREDIT07   715771 non-null  float64\n",
      " 31  TMB_AVAIL_CREDIT08   715771 non-null  float64\n",
      " 32  TMB_AVAIL_CREDIT09   715771 non-null  float64\n",
      " 33  TMB_AVAIL_CREDIT10   715771 non-null  float64\n",
      " 34  TMB_AVAIL_CREDIT11   715771 non-null  float64\n",
      " 35  TMB_AVAIL_CREDIT12   715771 non-null  float64\n",
      " 36  TMB_CRLIMIT04        715771 non-null  float64\n",
      " 37  TMB_CRLIMIT05        715771 non-null  float64\n",
      " 38  TMB_CRLIMIT06        715771 non-null  float64\n",
      " 39  TMB_CRLIMIT07        715771 non-null  float64\n",
      " 40  TMB_CRLIMIT08        715771 non-null  float64\n",
      " 41  TMB_CRLIMIT09        715771 non-null  float64\n",
      " 42  TMB_CRLIMIT10        715771 non-null  float64\n",
      " 43  TMB_CRLIMIT11        715771 non-null  float64\n",
      " 44  TMB_CRLIMIT12        715771 non-null  float64\n",
      " 45  PERCENT_CREDIT04     715771 non-null  float64\n",
      " 46  PERCENT_CREDIT05     715771 non-null  float64\n",
      " 47  PERCENT_CREDIT06     715771 non-null  float64\n",
      " 48  PERCENT_CREDIT07     715771 non-null  float64\n",
      " 49  PERCENT_CREDIT08     715771 non-null  float64\n",
      " 50  PERCENT_CREDIT09     715771 non-null  float64\n",
      " 51  PERCENT_CREDIT10     715771 non-null  float64\n",
      " 52  PERCENT_CREDIT11     715771 non-null  float64\n",
      " 53  PERCENT_CREDIT12     715771 non-null  float64\n",
      " 54  FREQUENT04           715771 non-null  float64\n",
      " 55  FREQUENT05           715771 non-null  float64\n",
      " 56  FREQUENT06           715771 non-null  float64\n",
      " 57  FREQUENT07           715771 non-null  float64\n",
      " 58  FREQUENT08           715771 non-null  float64\n",
      " 59  FREQUENT09           715771 non-null  float64\n",
      " 60  FREQUENT10           715771 non-null  float64\n",
      " 61  FREQUENT11           715771 non-null  float64\n",
      " 62  FREQUENT12           715771 non-null  float64\n",
      " 63  SPENDING04           715771 non-null  float64\n",
      " 64  SPENDING05           715771 non-null  float64\n",
      " 65  SPENDING06           715771 non-null  float64\n",
      " 66  SPENDING07           715771 non-null  float64\n",
      " 67  SPENDING08           715771 non-null  float64\n",
      " 68  SPENDING09           715771 non-null  float64\n",
      " 69  SPENDING10           715771 non-null  float64\n",
      " 70  SPENDING11           715771 non-null  float64\n",
      " 71  SPENDING12           715771 non-null  float64\n",
      " 72  RATIO45              715771 non-null  float64\n",
      " 73  RATIO56              715771 non-null  float64\n",
      " 74  RATIO67              715771 non-null  float64\n",
      " 75  RATIO78              715771 non-null  float64\n",
      " 76  RATIO89              715771 non-null  float64\n",
      " 77  RATIO90              715771 non-null  float64\n",
      " 78  RATIO01              715771 non-null  float64\n",
      " 79  RATIO12              715771 non-null  float64\n",
      "dtypes: float64(57), int64(5), object(18)\n",
      "memory usage: 436.9+ MB\n"
     ]
    }
   ],
   "source": [
    "df.info()\n",
    "# print(df.dtypes)"
   ]
  },
  {
   "cell_type": "code",
   "execution_count": 12,
   "id": "0019f1e4",
   "metadata": {},
   "outputs": [],
   "source": [
    "df['CUST_SEGMENT_RANGE'] = label.fit_transform(df['CUST_SEGMENT_RANGE'])\n",
    "df['OCCUPATION_GRP'] = label.fit_transform(df['OCCUPATION_GRP'])\n",
    "df['SEGMENT_OCC'] = label.fit_transform(df['SEGMENT_OCC'])\n",
    "df['MARITAL_STATUS_GRP'] = label.fit_transform(df['MARITAL_STATUS_GRP'])\n",
    "df['INCOME_RANGE'] = label.fit_transform(df['INCOME_RANGE'])\n",
    "df['EDUCATION_LEVEL'] = label.fit_transform(df['EDUCATION_LEVEL'])\n",
    "df['PRODUCT_CODE_DETAIL'] = label.fit_transform(df['PRODUCT_CODE_DETAIL'])\n",
    "df['GENDER_CD'] = label.fit_transform(df['GENDER_CD'])\n",
    "df['AGE_RANGE'] = label.fit_transform(df['AGE_RANGE'])\n",
    "df['CATEGORY_X4'] = label.fit_transform(df['CATEGORY_X4'])\n",
    "df['CATEGORY_X5'] = label.fit_transform(df['CATEGORY_X5'])\n",
    "df['CATEGORY_X6'] = label.fit_transform(df['CATEGORY_X6'])\n",
    "df['CATEGORY_X7'] = label.fit_transform(df['CATEGORY_X7'])\n",
    "df['CATEGORY_X8'] = label.fit_transform(df['CATEGORY_X8'])\n",
    "df['CATEGORY_X9'] = label.fit_transform(df['CATEGORY_X9'])\n",
    "df['CATEGORY_X10'] = label.fit_transform(df['CATEGORY_X10'])\n",
    "df['CATEGORY_X11'] = label.fit_transform(df['CATEGORY_X11'])\n",
    "df['CATEGORY_X12'] = label.fit_transform(df['CATEGORY_X12'])\n",
    "\n",
    "# df.iloc[:,3] = label.fit_transform(df.iloc[:,3].values)\n",
    "# df.iloc[:,4] = label.fit_transform(df.iloc[:,4].values)\n",
    "# df.iloc[:,5] = label.fit_transform(df.iloc[:,5].values)\n",
    "# df.iloc[:,6] = label.fit_transform(df.iloc[:,6].values)\n",
    "# df.iloc[:,8] = label.fit_transform(df.iloc[:,8].values)\n",
    "# df.iloc[:,9] = label.fit_transform(df.iloc[:,9].values)\n",
    "# df.iloc[:,10] = label.fit_transform(df.iloc[:,10].values)\n",
    "# df.iloc[:,13] = label.fit_transform(df.iloc[:,13].values)\n",
    "# df.iloc[:,16] = label.fit_transform(df.iloc[:,16].values)\n",
    "# df.iloc[:,18] = label.fit_transform(df.iloc[:,18].values)\n",
    "# df.iloc[:,19] = label.fit_transform(df.iloc[:,19].values)\n",
    "# df.iloc[:,20] = label.fit_transform(df.iloc[:,20].values)\n",
    "# df.iloc[:,21] = label.fit_transform(df.iloc[:,21].values)\n",
    "# df.iloc[:,22] = label.fit_transform(df.iloc[:,22].values)\n",
    "# df.iloc[:,23] = label.fit_transform(df.iloc[:,23].values)\n",
    "# df.iloc[:,24] = label.fit_transform(df.iloc[:,24].values)\n",
    "# df.iloc[:,25] = label.fit_transform(df.iloc[:,25].values)\n",
    "# df.iloc[:,26] = label.fit_transform(df.iloc[:,26].values)  \n"
   ]
  },
  {
   "cell_type": "code",
   "execution_count": 13,
   "id": "033365f3",
   "metadata": {},
   "outputs": [
    {
     "name": "stdout",
     "output_type": "stream",
     "text": [
      "<class 'pandas.core.frame.DataFrame'>\n",
      "RangeIndex: 715771 entries, 0 to 715770\n",
      "Data columns (total 80 columns):\n",
      " #   Column               Non-Null Count   Dtype  \n",
      "---  ------               --------------   -----  \n",
      " 0   CHURN                715771 non-null  int64  \n",
      " 1   FLAG_MIB_ACT         715771 non-null  float64\n",
      " 2   CUST_SEGMENT         715771 non-null  int64  \n",
      " 3   CUST_SEGMENT_RANGE   715771 non-null  int64  \n",
      " 4   OCCUPATION_GRP       715771 non-null  int64  \n",
      " 5   SEGMENT_OCC          715771 non-null  int64  \n",
      " 6   MARITAL_STATUS_GRP   715771 non-null  int64  \n",
      " 7   INCOME               715771 non-null  int64  \n",
      " 8   INCOME_RANGE         715771 non-null  int64  \n",
      " 9   EDUCATION_LEVEL      715771 non-null  int64  \n",
      " 10  PRODUCT_CODE_DETAIL  715771 non-null  int64  \n",
      " 11  TIME_CC_HOLDER       715771 non-null  float64\n",
      " 12  CUR_BAL_POINT        715771 non-null  float64\n",
      " 13  GENDER_CD            715771 non-null  int64  \n",
      " 14  SALARY               715771 non-null  int64  \n",
      " 15  AGE                  715771 non-null  int64  \n",
      " 16  AGE_RANGE            715771 non-null  int64  \n",
      " 17  OCC_GROUP            715771 non-null  float64\n",
      " 18  CATEGORY_X4          715771 non-null  int64  \n",
      " 19  CATEGORY_X5          715771 non-null  int64  \n",
      " 20  CATEGORY_X6          715771 non-null  int64  \n",
      " 21  CATEGORY_X7          715771 non-null  int64  \n",
      " 22  CATEGORY_X8          715771 non-null  int64  \n",
      " 23  CATEGORY_X9          715771 non-null  int64  \n",
      " 24  CATEGORY_X10         715771 non-null  int64  \n",
      " 25  CATEGORY_X11         715771 non-null  int64  \n",
      " 26  CATEGORY_X12         715771 non-null  int64  \n",
      " 27  TMB_AVAIL_CREDIT04   715771 non-null  float64\n",
      " 28  TMB_AVAIL_CREDIT05   715771 non-null  float64\n",
      " 29  TMB_AVAIL_CREDIT06   715771 non-null  float64\n",
      " 30  TMB_AVAIL_CREDIT07   715771 non-null  float64\n",
      " 31  TMB_AVAIL_CREDIT08   715771 non-null  float64\n",
      " 32  TMB_AVAIL_CREDIT09   715771 non-null  float64\n",
      " 33  TMB_AVAIL_CREDIT10   715771 non-null  float64\n",
      " 34  TMB_AVAIL_CREDIT11   715771 non-null  float64\n",
      " 35  TMB_AVAIL_CREDIT12   715771 non-null  float64\n",
      " 36  TMB_CRLIMIT04        715771 non-null  float64\n",
      " 37  TMB_CRLIMIT05        715771 non-null  float64\n",
      " 38  TMB_CRLIMIT06        715771 non-null  float64\n",
      " 39  TMB_CRLIMIT07        715771 non-null  float64\n",
      " 40  TMB_CRLIMIT08        715771 non-null  float64\n",
      " 41  TMB_CRLIMIT09        715771 non-null  float64\n",
      " 42  TMB_CRLIMIT10        715771 non-null  float64\n",
      " 43  TMB_CRLIMIT11        715771 non-null  float64\n",
      " 44  TMB_CRLIMIT12        715771 non-null  float64\n",
      " 45  PERCENT_CREDIT04     715771 non-null  float64\n",
      " 46  PERCENT_CREDIT05     715771 non-null  float64\n",
      " 47  PERCENT_CREDIT06     715771 non-null  float64\n",
      " 48  PERCENT_CREDIT07     715771 non-null  float64\n",
      " 49  PERCENT_CREDIT08     715771 non-null  float64\n",
      " 50  PERCENT_CREDIT09     715771 non-null  float64\n",
      " 51  PERCENT_CREDIT10     715771 non-null  float64\n",
      " 52  PERCENT_CREDIT11     715771 non-null  float64\n",
      " 53  PERCENT_CREDIT12     715771 non-null  float64\n",
      " 54  FREQUENT04           715771 non-null  float64\n",
      " 55  FREQUENT05           715771 non-null  float64\n",
      " 56  FREQUENT06           715771 non-null  float64\n",
      " 57  FREQUENT07           715771 non-null  float64\n",
      " 58  FREQUENT08           715771 non-null  float64\n",
      " 59  FREQUENT09           715771 non-null  float64\n",
      " 60  FREQUENT10           715771 non-null  float64\n",
      " 61  FREQUENT11           715771 non-null  float64\n",
      " 62  FREQUENT12           715771 non-null  float64\n",
      " 63  SPENDING04           715771 non-null  float64\n",
      " 64  SPENDING05           715771 non-null  float64\n",
      " 65  SPENDING06           715771 non-null  float64\n",
      " 66  SPENDING07           715771 non-null  float64\n",
      " 67  SPENDING08           715771 non-null  float64\n",
      " 68  SPENDING09           715771 non-null  float64\n",
      " 69  SPENDING10           715771 non-null  float64\n",
      " 70  SPENDING11           715771 non-null  float64\n",
      " 71  SPENDING12           715771 non-null  float64\n",
      " 72  RATIO45              715771 non-null  float64\n",
      " 73  RATIO56              715771 non-null  float64\n",
      " 74  RATIO67              715771 non-null  float64\n",
      " 75  RATIO78              715771 non-null  float64\n",
      " 76  RATIO89              715771 non-null  float64\n",
      " 77  RATIO90              715771 non-null  float64\n",
      " 78  RATIO01              715771 non-null  float64\n",
      " 79  RATIO12              715771 non-null  float64\n",
      "dtypes: float64(57), int64(23)\n",
      "memory usage: 436.9 MB\n"
     ]
    }
   ],
   "source": [
    "df.info()"
   ]
  },
  {
   "cell_type": "code",
   "execution_count": 14,
   "id": "f134e9df",
   "metadata": {},
   "outputs": [
    {
     "data": {
      "text/html": [
       "<div>\n",
       "<style scoped>\n",
       "    .dataframe tbody tr th:only-of-type {\n",
       "        vertical-align: middle;\n",
       "    }\n",
       "\n",
       "    .dataframe tbody tr th {\n",
       "        vertical-align: top;\n",
       "    }\n",
       "\n",
       "    .dataframe thead th {\n",
       "        text-align: right;\n",
       "    }\n",
       "</style>\n",
       "<table border=\"1\" class=\"dataframe\">\n",
       "  <thead>\n",
       "    <tr style=\"text-align: right;\">\n",
       "      <th></th>\n",
       "      <th>CHURN</th>\n",
       "      <th>FLAG_MIB_ACT</th>\n",
       "      <th>CUST_SEGMENT</th>\n",
       "      <th>CUST_SEGMENT_RANGE</th>\n",
       "      <th>OCCUPATION_GRP</th>\n",
       "      <th>SEGMENT_OCC</th>\n",
       "      <th>MARITAL_STATUS_GRP</th>\n",
       "      <th>INCOME</th>\n",
       "      <th>INCOME_RANGE</th>\n",
       "      <th>EDUCATION_LEVEL</th>\n",
       "      <th>...</th>\n",
       "      <th>SPENDING11</th>\n",
       "      <th>SPENDING12</th>\n",
       "      <th>RATIO45</th>\n",
       "      <th>RATIO56</th>\n",
       "      <th>RATIO67</th>\n",
       "      <th>RATIO78</th>\n",
       "      <th>RATIO89</th>\n",
       "      <th>RATIO90</th>\n",
       "      <th>RATIO01</th>\n",
       "      <th>RATIO12</th>\n",
       "    </tr>\n",
       "  </thead>\n",
       "  <tbody>\n",
       "    <tr>\n",
       "      <th>0</th>\n",
       "      <td>0</td>\n",
       "      <td>1.0</td>\n",
       "      <td>5</td>\n",
       "      <td>0</td>\n",
       "      <td>7</td>\n",
       "      <td>2</td>\n",
       "      <td>0</td>\n",
       "      <td>179578</td>\n",
       "      <td>4</td>\n",
       "      <td>3</td>\n",
       "      <td>...</td>\n",
       "      <td>0.00</td>\n",
       "      <td>0.00</td>\n",
       "      <td>0.000000</td>\n",
       "      <td>0.000000</td>\n",
       "      <td>0.000000</td>\n",
       "      <td>1.288848</td>\n",
       "      <td>2.153331</td>\n",
       "      <td>0.920746</td>\n",
       "      <td>0.000000</td>\n",
       "      <td>0.000000</td>\n",
       "    </tr>\n",
       "    <tr>\n",
       "      <th>1</th>\n",
       "      <td>0</td>\n",
       "      <td>1.0</td>\n",
       "      <td>6</td>\n",
       "      <td>1</td>\n",
       "      <td>2</td>\n",
       "      <td>3</td>\n",
       "      <td>0</td>\n",
       "      <td>98000</td>\n",
       "      <td>3</td>\n",
       "      <td>4</td>\n",
       "      <td>...</td>\n",
       "      <td>0.00</td>\n",
       "      <td>1060.00</td>\n",
       "      <td>0.000000</td>\n",
       "      <td>0.000000</td>\n",
       "      <td>0.000000</td>\n",
       "      <td>0.000000</td>\n",
       "      <td>0.000000</td>\n",
       "      <td>0.000000</td>\n",
       "      <td>0.000000</td>\n",
       "      <td>0.000000</td>\n",
       "    </tr>\n",
       "    <tr>\n",
       "      <th>2</th>\n",
       "      <td>0</td>\n",
       "      <td>1.0</td>\n",
       "      <td>5</td>\n",
       "      <td>0</td>\n",
       "      <td>0</td>\n",
       "      <td>4</td>\n",
       "      <td>0</td>\n",
       "      <td>100000</td>\n",
       "      <td>3</td>\n",
       "      <td>3</td>\n",
       "      <td>...</td>\n",
       "      <td>26268.13</td>\n",
       "      <td>1683.47</td>\n",
       "      <td>0.000000</td>\n",
       "      <td>0.000000</td>\n",
       "      <td>1.400546</td>\n",
       "      <td>0.000000</td>\n",
       "      <td>0.000000</td>\n",
       "      <td>0.000000</td>\n",
       "      <td>0.000000</td>\n",
       "      <td>15.603563</td>\n",
       "    </tr>\n",
       "    <tr>\n",
       "      <th>3</th>\n",
       "      <td>0</td>\n",
       "      <td>1.0</td>\n",
       "      <td>5</td>\n",
       "      <td>0</td>\n",
       "      <td>0</td>\n",
       "      <td>4</td>\n",
       "      <td>0</td>\n",
       "      <td>92000</td>\n",
       "      <td>3</td>\n",
       "      <td>4</td>\n",
       "      <td>...</td>\n",
       "      <td>24448.34</td>\n",
       "      <td>71931.67</td>\n",
       "      <td>1.000000</td>\n",
       "      <td>1.000000</td>\n",
       "      <td>1.000000</td>\n",
       "      <td>1.000000</td>\n",
       "      <td>1.000000</td>\n",
       "      <td>1.000000</td>\n",
       "      <td>0.081396</td>\n",
       "      <td>0.339883</td>\n",
       "    </tr>\n",
       "    <tr>\n",
       "      <th>4</th>\n",
       "      <td>0</td>\n",
       "      <td>1.0</td>\n",
       "      <td>5</td>\n",
       "      <td>0</td>\n",
       "      <td>8</td>\n",
       "      <td>2</td>\n",
       "      <td>1</td>\n",
       "      <td>100000</td>\n",
       "      <td>3</td>\n",
       "      <td>3</td>\n",
       "      <td>...</td>\n",
       "      <td>102557.59</td>\n",
       "      <td>139991.70</td>\n",
       "      <td>1.774443</td>\n",
       "      <td>0.673621</td>\n",
       "      <td>1.640631</td>\n",
       "      <td>1.139531</td>\n",
       "      <td>0.842415</td>\n",
       "      <td>0.807738</td>\n",
       "      <td>1.382081</td>\n",
       "      <td>0.732598</td>\n",
       "    </tr>\n",
       "  </tbody>\n",
       "</table>\n",
       "<p>5 rows × 80 columns</p>\n",
       "</div>"
      ],
      "text/plain": [
       "   CHURN  FLAG_MIB_ACT  CUST_SEGMENT  CUST_SEGMENT_RANGE  OCCUPATION_GRP  \\\n",
       "0      0           1.0             5                   0               7   \n",
       "1      0           1.0             6                   1               2   \n",
       "2      0           1.0             5                   0               0   \n",
       "3      0           1.0             5                   0               0   \n",
       "4      0           1.0             5                   0               8   \n",
       "\n",
       "   SEGMENT_OCC  MARITAL_STATUS_GRP  INCOME  INCOME_RANGE  EDUCATION_LEVEL  \\\n",
       "0            2                   0  179578             4                3   \n",
       "1            3                   0   98000             3                4   \n",
       "2            4                   0  100000             3                3   \n",
       "3            4                   0   92000             3                4   \n",
       "4            2                   1  100000             3                3   \n",
       "\n",
       "   ...  SPENDING11  SPENDING12   RATIO45   RATIO56   RATIO67   RATIO78  \\\n",
       "0  ...        0.00        0.00  0.000000  0.000000  0.000000  1.288848   \n",
       "1  ...        0.00     1060.00  0.000000  0.000000  0.000000  0.000000   \n",
       "2  ...    26268.13     1683.47  0.000000  0.000000  1.400546  0.000000   \n",
       "3  ...    24448.34    71931.67  1.000000  1.000000  1.000000  1.000000   \n",
       "4  ...   102557.59   139991.70  1.774443  0.673621  1.640631  1.139531   \n",
       "\n",
       "    RATIO89   RATIO90   RATIO01    RATIO12  \n",
       "0  2.153331  0.920746  0.000000   0.000000  \n",
       "1  0.000000  0.000000  0.000000   0.000000  \n",
       "2  0.000000  0.000000  0.000000  15.603563  \n",
       "3  1.000000  1.000000  0.081396   0.339883  \n",
       "4  0.842415  0.807738  1.382081   0.732598  \n",
       "\n",
       "[5 rows x 80 columns]"
      ]
     },
     "execution_count": 14,
     "metadata": {},
     "output_type": "execute_result"
    }
   ],
   "source": [
    "df.head(5)"
   ]
  },
  {
   "cell_type": "code",
   "execution_count": 15,
   "id": "3cd021fd",
   "metadata": {},
   "outputs": [
    {
     "name": "stdout",
     "output_type": "stream",
     "text": [
      "Rows: 715771\n",
      "Columns: 80\n"
     ]
    }
   ],
   "source": [
    "print(f'Rows:',df.shape[0])     #Printing Rows \n",
    "print(f'Columns:',df.shape[1])  #Printing RColumns"
   ]
  },
  {
   "cell_type": "code",
   "execution_count": 16,
   "id": "adeee8b4",
   "metadata": {},
   "outputs": [
    {
     "data": {
      "text/plain": [
       "<bound method NDFrame.describe of         CHURN  FLAG_MIB_ACT  CUST_SEGMENT  CUST_SEGMENT_RANGE  OCCUPATION_GRP  \\\n",
       "0           0           1.0             5                   0               7   \n",
       "1           0           1.0             6                   1               2   \n",
       "2           0           1.0             5                   0               0   \n",
       "3           0           1.0             5                   0               0   \n",
       "4           0           1.0             5                   0               8   \n",
       "...       ...           ...           ...                 ...             ...   \n",
       "715766      0           1.0             6                   1               8   \n",
       "715767      0           1.0             6                   1               2   \n",
       "715768      0           0.0             6                   1               2   \n",
       "715769      0           1.0             6                   1               2   \n",
       "715770      0           1.0             6                   1               2   \n",
       "\n",
       "        SEGMENT_OCC  MARITAL_STATUS_GRP  INCOME  INCOME_RANGE  \\\n",
       "0                 2                   0  179578             4   \n",
       "1                 3                   0   98000             3   \n",
       "2                 4                   0  100000             3   \n",
       "3                 4                   0   92000             3   \n",
       "4                 2                   1  100000             3   \n",
       "...             ...                 ...     ...           ...   \n",
       "715766            2                   2   20000             1   \n",
       "715767            3                   0   25000             1   \n",
       "715768            3                   1   50000             2   \n",
       "715769            3                   0   50000             2   \n",
       "715770            3                   0   56000             3   \n",
       "\n",
       "        EDUCATION_LEVEL  ...  SPENDING11  SPENDING12   RATIO45   RATIO56  \\\n",
       "0                     3  ...        0.00        0.00  0.000000  0.000000   \n",
       "1                     4  ...        0.00     1060.00  0.000000  0.000000   \n",
       "2                     3  ...    26268.13     1683.47  0.000000  0.000000   \n",
       "3                     4  ...    24448.34    71931.67  1.000000  1.000000   \n",
       "4                     3  ...   102557.59   139991.70  1.774443  0.673621   \n",
       "...                 ...  ...         ...         ...       ...       ...   \n",
       "715766                7  ...      118.93      110.83  0.000000  0.000000   \n",
       "715767                3  ...     2096.28     2096.28  1.000000  1.000000   \n",
       "715768                1  ...     1031.55     1031.55  1.000000  1.000000   \n",
       "715769                3  ...       95.98       87.47  0.000000  0.000000   \n",
       "715770                4  ...      265.16      249.15  0.000000  0.000000   \n",
       "\n",
       "         RATIO67   RATIO78   RATIO89   RATIO90   RATIO01    RATIO12  \n",
       "0       0.000000  1.288848  2.153331  0.920746  0.000000   0.000000  \n",
       "1       0.000000  0.000000  0.000000  0.000000  0.000000   0.000000  \n",
       "2       1.400546  0.000000  0.000000  0.000000  0.000000  15.603563  \n",
       "3       1.000000  1.000000  1.000000  1.000000  0.081396   0.339883  \n",
       "4       1.640631  1.139531  0.842415  0.807738  1.382081   0.732598  \n",
       "...          ...       ...       ...       ...       ...        ...  \n",
       "715766  0.000000  0.000000  0.000000  0.000000  0.000000   1.073085  \n",
       "715767  1.000000  1.000000  1.000000  1.000000  1.000000   1.000000  \n",
       "715768  1.000000  1.000000  1.000000  1.000000  1.000000   1.000000  \n",
       "715769  0.000000  0.000000  0.000000  0.000000  0.000000   1.097290  \n",
       "715770  0.000000  0.000000  0.000000  0.000000  0.000000   1.064258  \n",
       "\n",
       "[715771 rows x 80 columns]>"
      ]
     },
     "execution_count": 16,
     "metadata": {},
     "output_type": "execute_result"
    }
   ],
   "source": [
    "df.describe"
   ]
  },
  {
   "cell_type": "code",
   "execution_count": 17,
   "id": "e34493c3",
   "metadata": {
    "scrolled": true
   },
   "outputs": [
    {
     "name": "stdout",
     "output_type": "stream",
     "text": [
      "<class 'pandas.core.frame.DataFrame'>\n",
      "RangeIndex: 715771 entries, 0 to 715770\n",
      "Data columns (total 80 columns):\n",
      " #   Column               Non-Null Count   Dtype  \n",
      "---  ------               --------------   -----  \n",
      " 0   CHURN                715771 non-null  int64  \n",
      " 1   FLAG_MIB_ACT         715771 non-null  float64\n",
      " 2   CUST_SEGMENT         715771 non-null  int64  \n",
      " 3   CUST_SEGMENT_RANGE   715771 non-null  int64  \n",
      " 4   OCCUPATION_GRP       715771 non-null  int64  \n",
      " 5   SEGMENT_OCC          715771 non-null  int64  \n",
      " 6   MARITAL_STATUS_GRP   715771 non-null  int64  \n",
      " 7   INCOME               715771 non-null  int64  \n",
      " 8   INCOME_RANGE         715771 non-null  int64  \n",
      " 9   EDUCATION_LEVEL      715771 non-null  int64  \n",
      " 10  PRODUCT_CODE_DETAIL  715771 non-null  int64  \n",
      " 11  TIME_CC_HOLDER       715771 non-null  float64\n",
      " 12  CUR_BAL_POINT        715771 non-null  float64\n",
      " 13  GENDER_CD            715771 non-null  int64  \n",
      " 14  SALARY               715771 non-null  int64  \n",
      " 15  AGE                  715771 non-null  int64  \n",
      " 16  AGE_RANGE            715771 non-null  int64  \n",
      " 17  OCC_GROUP            715771 non-null  float64\n",
      " 18  CATEGORY_X4          715771 non-null  int64  \n",
      " 19  CATEGORY_X5          715771 non-null  int64  \n",
      " 20  CATEGORY_X6          715771 non-null  int64  \n",
      " 21  CATEGORY_X7          715771 non-null  int64  \n",
      " 22  CATEGORY_X8          715771 non-null  int64  \n",
      " 23  CATEGORY_X9          715771 non-null  int64  \n",
      " 24  CATEGORY_X10         715771 non-null  int64  \n",
      " 25  CATEGORY_X11         715771 non-null  int64  \n",
      " 26  CATEGORY_X12         715771 non-null  int64  \n",
      " 27  TMB_AVAIL_CREDIT04   715771 non-null  float64\n",
      " 28  TMB_AVAIL_CREDIT05   715771 non-null  float64\n",
      " 29  TMB_AVAIL_CREDIT06   715771 non-null  float64\n",
      " 30  TMB_AVAIL_CREDIT07   715771 non-null  float64\n",
      " 31  TMB_AVAIL_CREDIT08   715771 non-null  float64\n",
      " 32  TMB_AVAIL_CREDIT09   715771 non-null  float64\n",
      " 33  TMB_AVAIL_CREDIT10   715771 non-null  float64\n",
      " 34  TMB_AVAIL_CREDIT11   715771 non-null  float64\n",
      " 35  TMB_AVAIL_CREDIT12   715771 non-null  float64\n",
      " 36  TMB_CRLIMIT04        715771 non-null  float64\n",
      " 37  TMB_CRLIMIT05        715771 non-null  float64\n",
      " 38  TMB_CRLIMIT06        715771 non-null  float64\n",
      " 39  TMB_CRLIMIT07        715771 non-null  float64\n",
      " 40  TMB_CRLIMIT08        715771 non-null  float64\n",
      " 41  TMB_CRLIMIT09        715771 non-null  float64\n",
      " 42  TMB_CRLIMIT10        715771 non-null  float64\n",
      " 43  TMB_CRLIMIT11        715771 non-null  float64\n",
      " 44  TMB_CRLIMIT12        715771 non-null  float64\n",
      " 45  PERCENT_CREDIT04     715771 non-null  float64\n",
      " 46  PERCENT_CREDIT05     715771 non-null  float64\n",
      " 47  PERCENT_CREDIT06     715771 non-null  float64\n",
      " 48  PERCENT_CREDIT07     715771 non-null  float64\n",
      " 49  PERCENT_CREDIT08     715771 non-null  float64\n",
      " 50  PERCENT_CREDIT09     715771 non-null  float64\n",
      " 51  PERCENT_CREDIT10     715771 non-null  float64\n",
      " 52  PERCENT_CREDIT11     715771 non-null  float64\n",
      " 53  PERCENT_CREDIT12     715771 non-null  float64\n",
      " 54  FREQUENT04           715771 non-null  float64\n",
      " 55  FREQUENT05           715771 non-null  float64\n",
      " 56  FREQUENT06           715771 non-null  float64\n",
      " 57  FREQUENT07           715771 non-null  float64\n",
      " 58  FREQUENT08           715771 non-null  float64\n",
      " 59  FREQUENT09           715771 non-null  float64\n",
      " 60  FREQUENT10           715771 non-null  float64\n",
      " 61  FREQUENT11           715771 non-null  float64\n",
      " 62  FREQUENT12           715771 non-null  float64\n",
      " 63  SPENDING04           715771 non-null  float64\n",
      " 64  SPENDING05           715771 non-null  float64\n",
      " 65  SPENDING06           715771 non-null  float64\n",
      " 66  SPENDING07           715771 non-null  float64\n",
      " 67  SPENDING08           715771 non-null  float64\n",
      " 68  SPENDING09           715771 non-null  float64\n",
      " 69  SPENDING10           715771 non-null  float64\n",
      " 70  SPENDING11           715771 non-null  float64\n",
      " 71  SPENDING12           715771 non-null  float64\n",
      " 72  RATIO45              715771 non-null  float64\n",
      " 73  RATIO56              715771 non-null  float64\n",
      " 74  RATIO67              715771 non-null  float64\n",
      " 75  RATIO78              715771 non-null  float64\n",
      " 76  RATIO89              715771 non-null  float64\n",
      " 77  RATIO90              715771 non-null  float64\n",
      " 78  RATIO01              715771 non-null  float64\n",
      " 79  RATIO12              715771 non-null  float64\n",
      "dtypes: float64(57), int64(23)\n",
      "memory usage: 436.9 MB\n"
     ]
    }
   ],
   "source": [
    "df.info()  #Checking data info/datatypes "
   ]
  },
  {
   "cell_type": "code",
   "execution_count": 18,
   "id": "75496399",
   "metadata": {},
   "outputs": [
    {
     "data": {
      "text/html": [
       "<div>\n",
       "<style scoped>\n",
       "    .dataframe tbody tr th:only-of-type {\n",
       "        vertical-align: middle;\n",
       "    }\n",
       "\n",
       "    .dataframe tbody tr th {\n",
       "        vertical-align: top;\n",
       "    }\n",
       "\n",
       "    .dataframe thead th {\n",
       "        text-align: right;\n",
       "    }\n",
       "</style>\n",
       "<table border=\"1\" class=\"dataframe\">\n",
       "  <thead>\n",
       "    <tr style=\"text-align: right;\">\n",
       "      <th></th>\n",
       "    </tr>\n",
       "  </thead>\n",
       "  <tbody>\n",
       "    <tr>\n",
       "      <th>0</th>\n",
       "    </tr>\n",
       "    <tr>\n",
       "      <th>1</th>\n",
       "    </tr>\n",
       "    <tr>\n",
       "      <th>2</th>\n",
       "    </tr>\n",
       "    <tr>\n",
       "      <th>3</th>\n",
       "    </tr>\n",
       "    <tr>\n",
       "      <th>4</th>\n",
       "    </tr>\n",
       "    <tr>\n",
       "      <th>...</th>\n",
       "    </tr>\n",
       "    <tr>\n",
       "      <th>715766</th>\n",
       "    </tr>\n",
       "    <tr>\n",
       "      <th>715767</th>\n",
       "    </tr>\n",
       "    <tr>\n",
       "      <th>715768</th>\n",
       "    </tr>\n",
       "    <tr>\n",
       "      <th>715769</th>\n",
       "    </tr>\n",
       "    <tr>\n",
       "      <th>715770</th>\n",
       "    </tr>\n",
       "  </tbody>\n",
       "</table>\n",
       "<p>715771 rows × 0 columns</p>\n",
       "</div>"
      ],
      "text/plain": [
       "Empty DataFrame\n",
       "Columns: []\n",
       "Index: [0, 1, 2, 3, 4, 5, 6, 7, 8, 9, 10, 11, 12, 13, 14, 15, 16, 17, 18, 19, 20, 21, 22, 23, 24, 25, 26, 27, 28, 29, 30, 31, 32, 33, 34, 35, 36, 37, 38, 39, 40, 41, 42, 43, 44, 45, 46, 47, 48, 49, 50, 51, 52, 53, 54, 55, 56, 57, 58, 59, 60, 61, 62, 63, 64, 65, 66, 67, 68, 69, 70, 71, 72, 73, 74, 75, 76, 77, 78, 79, 80, 81, 82, 83, 84, 85, 86, 87, 88, 89, 90, 91, 92, 93, 94, 95, 96, 97, 98, 99, ...]\n",
       "\n",
       "[715771 rows x 0 columns]"
      ]
     },
     "execution_count": 18,
     "metadata": {},
     "output_type": "execute_result"
    }
   ],
   "source": [
    "df.select_dtypes(include='object') #Getting Categorical Columns"
   ]
  },
  {
   "cell_type": "code",
   "execution_count": 19,
   "id": "83697df2",
   "metadata": {},
   "outputs": [
    {
     "data": {
      "text/plain": [
       "CHURN                 False\n",
       "FLAG_MIB_ACT          False\n",
       "CUST_SEGMENT          False\n",
       "CUST_SEGMENT_RANGE    False\n",
       "OCCUPATION_GRP        False\n",
       "                      ...  \n",
       "RATIO78               False\n",
       "RATIO89               False\n",
       "RATIO90               False\n",
       "RATIO01               False\n",
       "RATIO12               False\n",
       "Length: 80, dtype: bool"
      ]
     },
     "execution_count": 19,
     "metadata": {},
     "output_type": "execute_result"
    }
   ],
   "source": [
    "df.isnull().any()"
   ]
  },
  {
   "cell_type": "code",
   "execution_count": 20,
   "id": "4d75d5a8",
   "metadata": {},
   "outputs": [],
   "source": [
    "x = df.drop(columns = ['CHURN', 'CUST_SEGMENT_RANGE', 'OCCUPATION_GRP', 'SEGMENT_OCC', 'INCOME', 'EDUCATION_LEVEL', \n",
    "                       'PRODUCT_CODE_DETAIL', 'TIME_CC_HOLDER', 'CUR_BAL_POINT', 'GENDER_CD', 'SALARY', \n",
    "                       'OCC_GROUP', 'TMB_AVAIL_CREDIT04', 'TMB_AVAIL_CREDIT04', 'TMB_AVAIL_CREDIT04', 'TMB_AVAIL_CREDIT05', \n",
    "                       'TMB_AVAIL_CREDIT06', 'TMB_AVAIL_CREDIT07', 'TMB_AVAIL_CREDIT08', 'TMB_AVAIL_CREDIT09', \n",
    "                       'TMB_AVAIL_CREDIT10', 'TMB_AVAIL_CREDIT11', 'TMB_AVAIL_CREDIT12', 'TMB_CRLIMIT04', 'TMB_CRLIMIT05', \n",
    "                       'TMB_CRLIMIT06', 'TMB_CRLIMIT07', 'TMB_CRLIMIT08', 'TMB_CRLIMIT09', 'TMB_CRLIMIT10', \n",
    "                       'TMB_CRLIMIT11', 'TMB_CRLIMIT12', 'RATIO45', 'RATIO56', 'RATIO67', 'RATIO78', 'RATIO89', \n",
    "                       'RATIO90', 'RATIO01', 'RATIO12', 'SPENDING04','SPENDING05', 'SPENDING06', 'SPENDING07', \n",
    "                       'SPENDING08', 'SPENDING09', 'SPENDING11', 'SPENDING12'])"
   ]
  },
  {
   "cell_type": "code",
   "execution_count": 21,
   "id": "7402fcc0",
   "metadata": {},
   "outputs": [],
   "source": [
    "y = df['CHURN']"
   ]
  },
  {
   "cell_type": "code",
   "execution_count": 22,
   "id": "4c97d40b",
   "metadata": {},
   "outputs": [
    {
     "data": {
      "text/html": [
       "<div>\n",
       "<style scoped>\n",
       "    .dataframe tbody tr th:only-of-type {\n",
       "        vertical-align: middle;\n",
       "    }\n",
       "\n",
       "    .dataframe tbody tr th {\n",
       "        vertical-align: top;\n",
       "    }\n",
       "\n",
       "    .dataframe thead th {\n",
       "        text-align: right;\n",
       "    }\n",
       "</style>\n",
       "<table border=\"1\" class=\"dataframe\">\n",
       "  <thead>\n",
       "    <tr style=\"text-align: right;\">\n",
       "      <th></th>\n",
       "      <th>FLAG_MIB_ACT</th>\n",
       "      <th>CUST_SEGMENT</th>\n",
       "      <th>MARITAL_STATUS_GRP</th>\n",
       "      <th>INCOME_RANGE</th>\n",
       "      <th>AGE</th>\n",
       "      <th>AGE_RANGE</th>\n",
       "      <th>CATEGORY_X4</th>\n",
       "      <th>CATEGORY_X5</th>\n",
       "      <th>CATEGORY_X6</th>\n",
       "      <th>CATEGORY_X7</th>\n",
       "      <th>...</th>\n",
       "      <th>FREQUENT04</th>\n",
       "      <th>FREQUENT05</th>\n",
       "      <th>FREQUENT06</th>\n",
       "      <th>FREQUENT07</th>\n",
       "      <th>FREQUENT08</th>\n",
       "      <th>FREQUENT09</th>\n",
       "      <th>FREQUENT10</th>\n",
       "      <th>FREQUENT11</th>\n",
       "      <th>FREQUENT12</th>\n",
       "      <th>SPENDING10</th>\n",
       "    </tr>\n",
       "  </thead>\n",
       "  <tbody>\n",
       "    <tr>\n",
       "      <th>0</th>\n",
       "      <td>1.0</td>\n",
       "      <td>5</td>\n",
       "      <td>0</td>\n",
       "      <td>4</td>\n",
       "      <td>64</td>\n",
       "      <td>5</td>\n",
       "      <td>0</td>\n",
       "      <td>0</td>\n",
       "      <td>0</td>\n",
       "      <td>9</td>\n",
       "      <td>...</td>\n",
       "      <td>0.0</td>\n",
       "      <td>0.0</td>\n",
       "      <td>0.0</td>\n",
       "      <td>2.0</td>\n",
       "      <td>2.0</td>\n",
       "      <td>1.0</td>\n",
       "      <td>1.0</td>\n",
       "      <td>0.0</td>\n",
       "      <td>0.0</td>\n",
       "      <td>1698.84</td>\n",
       "    </tr>\n",
       "    <tr>\n",
       "      <th>1</th>\n",
       "      <td>1.0</td>\n",
       "      <td>6</td>\n",
       "      <td>0</td>\n",
       "      <td>3</td>\n",
       "      <td>51</td>\n",
       "      <td>4</td>\n",
       "      <td>0</td>\n",
       "      <td>0</td>\n",
       "      <td>0</td>\n",
       "      <td>0</td>\n",
       "      <td>...</td>\n",
       "      <td>0.0</td>\n",
       "      <td>0.0</td>\n",
       "      <td>0.0</td>\n",
       "      <td>0.0</td>\n",
       "      <td>0.0</td>\n",
       "      <td>0.0</td>\n",
       "      <td>0.0</td>\n",
       "      <td>0.0</td>\n",
       "      <td>1.0</td>\n",
       "      <td>0.00</td>\n",
       "    </tr>\n",
       "    <tr>\n",
       "      <th>2</th>\n",
       "      <td>1.0</td>\n",
       "      <td>5</td>\n",
       "      <td>0</td>\n",
       "      <td>3</td>\n",
       "      <td>45</td>\n",
       "      <td>4</td>\n",
       "      <td>18</td>\n",
       "      <td>0</td>\n",
       "      <td>4</td>\n",
       "      <td>12</td>\n",
       "      <td>...</td>\n",
       "      <td>1.0</td>\n",
       "      <td>0.0</td>\n",
       "      <td>1.0</td>\n",
       "      <td>2.0</td>\n",
       "      <td>0.0</td>\n",
       "      <td>0.0</td>\n",
       "      <td>0.0</td>\n",
       "      <td>2.0</td>\n",
       "      <td>1.0</td>\n",
       "      <td>0.00</td>\n",
       "    </tr>\n",
       "    <tr>\n",
       "      <th>3</th>\n",
       "      <td>1.0</td>\n",
       "      <td>5</td>\n",
       "      <td>0</td>\n",
       "      <td>3</td>\n",
       "      <td>48</td>\n",
       "      <td>4</td>\n",
       "      <td>28</td>\n",
       "      <td>28</td>\n",
       "      <td>28</td>\n",
       "      <td>28</td>\n",
       "      <td>...</td>\n",
       "      <td>1.0</td>\n",
       "      <td>1.0</td>\n",
       "      <td>1.0</td>\n",
       "      <td>1.0</td>\n",
       "      <td>1.0</td>\n",
       "      <td>1.0</td>\n",
       "      <td>1.0</td>\n",
       "      <td>4.0</td>\n",
       "      <td>5.0</td>\n",
       "      <td>1990.00</td>\n",
       "    </tr>\n",
       "    <tr>\n",
       "      <th>4</th>\n",
       "      <td>1.0</td>\n",
       "      <td>5</td>\n",
       "      <td>1</td>\n",
       "      <td>3</td>\n",
       "      <td>47</td>\n",
       "      <td>4</td>\n",
       "      <td>24</td>\n",
       "      <td>15</td>\n",
       "      <td>24</td>\n",
       "      <td>24</td>\n",
       "      <td>...</td>\n",
       "      <td>71.0</td>\n",
       "      <td>66.0</td>\n",
       "      <td>41.0</td>\n",
       "      <td>59.0</td>\n",
       "      <td>44.0</td>\n",
       "      <td>73.0</td>\n",
       "      <td>52.0</td>\n",
       "      <td>65.0</td>\n",
       "      <td>71.0</td>\n",
       "      <td>141742.92</td>\n",
       "    </tr>\n",
       "    <tr>\n",
       "      <th>...</th>\n",
       "      <td>...</td>\n",
       "      <td>...</td>\n",
       "      <td>...</td>\n",
       "      <td>...</td>\n",
       "      <td>...</td>\n",
       "      <td>...</td>\n",
       "      <td>...</td>\n",
       "      <td>...</td>\n",
       "      <td>...</td>\n",
       "      <td>...</td>\n",
       "      <td>...</td>\n",
       "      <td>...</td>\n",
       "      <td>...</td>\n",
       "      <td>...</td>\n",
       "      <td>...</td>\n",
       "      <td>...</td>\n",
       "      <td>...</td>\n",
       "      <td>...</td>\n",
       "      <td>...</td>\n",
       "      <td>...</td>\n",
       "      <td>...</td>\n",
       "    </tr>\n",
       "    <tr>\n",
       "      <th>715766</th>\n",
       "      <td>1.0</td>\n",
       "      <td>6</td>\n",
       "      <td>2</td>\n",
       "      <td>1</td>\n",
       "      <td>42</td>\n",
       "      <td>4</td>\n",
       "      <td>0</td>\n",
       "      <td>0</td>\n",
       "      <td>0</td>\n",
       "      <td>0</td>\n",
       "      <td>...</td>\n",
       "      <td>0.0</td>\n",
       "      <td>0.0</td>\n",
       "      <td>0.0</td>\n",
       "      <td>0.0</td>\n",
       "      <td>0.0</td>\n",
       "      <td>0.0</td>\n",
       "      <td>0.0</td>\n",
       "      <td>1.0</td>\n",
       "      <td>1.0</td>\n",
       "      <td>0.00</td>\n",
       "    </tr>\n",
       "    <tr>\n",
       "      <th>715767</th>\n",
       "      <td>1.0</td>\n",
       "      <td>6</td>\n",
       "      <td>0</td>\n",
       "      <td>1</td>\n",
       "      <td>35</td>\n",
       "      <td>2</td>\n",
       "      <td>0</td>\n",
       "      <td>0</td>\n",
       "      <td>0</td>\n",
       "      <td>0</td>\n",
       "      <td>...</td>\n",
       "      <td>2.0</td>\n",
       "      <td>2.0</td>\n",
       "      <td>2.0</td>\n",
       "      <td>2.0</td>\n",
       "      <td>2.0</td>\n",
       "      <td>2.0</td>\n",
       "      <td>2.0</td>\n",
       "      <td>2.0</td>\n",
       "      <td>2.0</td>\n",
       "      <td>2096.28</td>\n",
       "    </tr>\n",
       "    <tr>\n",
       "      <th>715768</th>\n",
       "      <td>0.0</td>\n",
       "      <td>6</td>\n",
       "      <td>1</td>\n",
       "      <td>2</td>\n",
       "      <td>56</td>\n",
       "      <td>4</td>\n",
       "      <td>0</td>\n",
       "      <td>0</td>\n",
       "      <td>0</td>\n",
       "      <td>0</td>\n",
       "      <td>...</td>\n",
       "      <td>2.0</td>\n",
       "      <td>2.0</td>\n",
       "      <td>2.0</td>\n",
       "      <td>2.0</td>\n",
       "      <td>2.0</td>\n",
       "      <td>2.0</td>\n",
       "      <td>2.0</td>\n",
       "      <td>2.0</td>\n",
       "      <td>2.0</td>\n",
       "      <td>1031.55</td>\n",
       "    </tr>\n",
       "    <tr>\n",
       "      <th>715769</th>\n",
       "      <td>1.0</td>\n",
       "      <td>6</td>\n",
       "      <td>0</td>\n",
       "      <td>2</td>\n",
       "      <td>39</td>\n",
       "      <td>3</td>\n",
       "      <td>0</td>\n",
       "      <td>0</td>\n",
       "      <td>0</td>\n",
       "      <td>0</td>\n",
       "      <td>...</td>\n",
       "      <td>0.0</td>\n",
       "      <td>0.0</td>\n",
       "      <td>0.0</td>\n",
       "      <td>0.0</td>\n",
       "      <td>0.0</td>\n",
       "      <td>0.0</td>\n",
       "      <td>0.0</td>\n",
       "      <td>1.0</td>\n",
       "      <td>1.0</td>\n",
       "      <td>0.00</td>\n",
       "    </tr>\n",
       "    <tr>\n",
       "      <th>715770</th>\n",
       "      <td>1.0</td>\n",
       "      <td>6</td>\n",
       "      <td>0</td>\n",
       "      <td>3</td>\n",
       "      <td>53</td>\n",
       "      <td>4</td>\n",
       "      <td>0</td>\n",
       "      <td>0</td>\n",
       "      <td>0</td>\n",
       "      <td>0</td>\n",
       "      <td>...</td>\n",
       "      <td>0.0</td>\n",
       "      <td>0.0</td>\n",
       "      <td>0.0</td>\n",
       "      <td>0.0</td>\n",
       "      <td>0.0</td>\n",
       "      <td>0.0</td>\n",
       "      <td>0.0</td>\n",
       "      <td>1.0</td>\n",
       "      <td>1.0</td>\n",
       "      <td>0.00</td>\n",
       "    </tr>\n",
       "  </tbody>\n",
       "</table>\n",
       "<p>715771 rows × 34 columns</p>\n",
       "</div>"
      ],
      "text/plain": [
       "        FLAG_MIB_ACT  CUST_SEGMENT  MARITAL_STATUS_GRP  INCOME_RANGE  AGE  \\\n",
       "0                1.0             5                   0             4   64   \n",
       "1                1.0             6                   0             3   51   \n",
       "2                1.0             5                   0             3   45   \n",
       "3                1.0             5                   0             3   48   \n",
       "4                1.0             5                   1             3   47   \n",
       "...              ...           ...                 ...           ...  ...   \n",
       "715766           1.0             6                   2             1   42   \n",
       "715767           1.0             6                   0             1   35   \n",
       "715768           0.0             6                   1             2   56   \n",
       "715769           1.0             6                   0             2   39   \n",
       "715770           1.0             6                   0             3   53   \n",
       "\n",
       "        AGE_RANGE  CATEGORY_X4  CATEGORY_X5  CATEGORY_X6  CATEGORY_X7  ...  \\\n",
       "0               5            0            0            0            9  ...   \n",
       "1               4            0            0            0            0  ...   \n",
       "2               4           18            0            4           12  ...   \n",
       "3               4           28           28           28           28  ...   \n",
       "4               4           24           15           24           24  ...   \n",
       "...           ...          ...          ...          ...          ...  ...   \n",
       "715766          4            0            0            0            0  ...   \n",
       "715767          2            0            0            0            0  ...   \n",
       "715768          4            0            0            0            0  ...   \n",
       "715769          3            0            0            0            0  ...   \n",
       "715770          4            0            0            0            0  ...   \n",
       "\n",
       "        FREQUENT04  FREQUENT05  FREQUENT06  FREQUENT07  FREQUENT08  \\\n",
       "0              0.0         0.0         0.0         2.0         2.0   \n",
       "1              0.0         0.0         0.0         0.0         0.0   \n",
       "2              1.0         0.0         1.0         2.0         0.0   \n",
       "3              1.0         1.0         1.0         1.0         1.0   \n",
       "4             71.0        66.0        41.0        59.0        44.0   \n",
       "...            ...         ...         ...         ...         ...   \n",
       "715766         0.0         0.0         0.0         0.0         0.0   \n",
       "715767         2.0         2.0         2.0         2.0         2.0   \n",
       "715768         2.0         2.0         2.0         2.0         2.0   \n",
       "715769         0.0         0.0         0.0         0.0         0.0   \n",
       "715770         0.0         0.0         0.0         0.0         0.0   \n",
       "\n",
       "        FREQUENT09  FREQUENT10  FREQUENT11  FREQUENT12  SPENDING10  \n",
       "0              1.0         1.0         0.0         0.0     1698.84  \n",
       "1              0.0         0.0         0.0         1.0        0.00  \n",
       "2              0.0         0.0         2.0         1.0        0.00  \n",
       "3              1.0         1.0         4.0         5.0     1990.00  \n",
       "4             73.0        52.0        65.0        71.0   141742.92  \n",
       "...            ...         ...         ...         ...         ...  \n",
       "715766         0.0         0.0         1.0         1.0        0.00  \n",
       "715767         2.0         2.0         2.0         2.0     2096.28  \n",
       "715768         2.0         2.0         2.0         2.0     1031.55  \n",
       "715769         0.0         0.0         1.0         1.0        0.00  \n",
       "715770         0.0         0.0         1.0         1.0        0.00  \n",
       "\n",
       "[715771 rows x 34 columns]"
      ]
     },
     "execution_count": 22,
     "metadata": {},
     "output_type": "execute_result"
    }
   ],
   "source": [
    "x"
   ]
  },
  {
   "cell_type": "code",
   "execution_count": 23,
   "id": "eacf0f20",
   "metadata": {},
   "outputs": [
    {
     "data": {
      "text/plain": [
       "<matplotlib.axes._subplots.AxesSubplot at 0x7fd8de612e10>"
      ]
     },
     "execution_count": 23,
     "metadata": {},
     "output_type": "execute_result"
    },
    {
     "data": {
      "image/png": "[encoded data removed]",
      "text/plain": [
       "<Figure size 1440x720 with 1 Axes>"
      ]
     },
     "metadata": {
      "needs_background": "light"
     },
     "output_type": "display_data"
    }
   ],
   "source": [
    "x.corrwith(df['CHURN']).plot.bar(figsize = (20,10), title = 'Correlation index', rot = 45, grid = True)"
   ]
  },
  {
   "cell_type": "code",
   "execution_count": null,
   "id": "07c1e143",
   "metadata": {},
   "outputs": [],
   "source": [
    "corr = x.corr()\n",
    "plt.figure(figsize = (20,10))\n",
    "sns.heatmap(corr, annot = True)"
   ]
  },
  {
   "cell_type": "code",
   "execution_count": 25,
   "id": "7a90e746",
   "metadata": {},
   "outputs": [
    {
     "data": {
      "image/png": "[encoded data removed]",
      "text/plain": [
       "<Figure size 432x288 with 1 Axes>"
      ]
     },
     "metadata": {
      "needs_background": "light"
     },
     "output_type": "display_data"
    }
   ],
   "source": [
    "sns.countplot(df['CHURN'], label='Count')\n",
    "plt.show()"
   ]
  },
  {
   "cell_type": "code",
   "execution_count": 26,
   "id": "c6f8376e",
   "metadata": {},
   "outputs": [],
   "source": [
    "x_train,x_test,y_train,y_test = train_test_split(x,y, test_size = 0.3, random_state = 45)"
   ]
  },
  {
   "cell_type": "code",
   "execution_count": 27,
   "id": "6dfe5524",
   "metadata": {},
   "outputs": [
    {
     "data": {
      "text/plain": [
       "715771"
      ]
     },
     "execution_count": 27,
     "metadata": {},
     "output_type": "execute_result"
    }
   ],
   "source": [
    "len(x)"
   ]
  },
  {
   "cell_type": "code",
   "execution_count": 28,
   "id": "cd0302d9",
   "metadata": {},
   "outputs": [
    {
     "data": {
      "text/plain": [
       "715771"
      ]
     },
     "execution_count": 28,
     "metadata": {},
     "output_type": "execute_result"
    }
   ],
   "source": [
    "len(y)"
   ]
  },
  {
   "cell_type": "code",
   "execution_count": 29,
   "id": "e604a8d4",
   "metadata": {},
   "outputs": [
    {
     "data": {
      "text/plain": [
       "501039"
      ]
     },
     "execution_count": 29,
     "metadata": {},
     "output_type": "execute_result"
    }
   ],
   "source": [
    "len(x_train)"
   ]
  },
  {
   "cell_type": "code",
   "execution_count": 30,
   "id": "e1a82b5a",
   "metadata": {},
   "outputs": [
    {
     "data": {
      "text/plain": [
       "214732"
      ]
     },
     "execution_count": 30,
     "metadata": {},
     "output_type": "execute_result"
    }
   ],
   "source": [
    "len(x_test)"
   ]
  },
  {
   "cell_type": "code",
   "execution_count": 31,
   "id": "065aa362",
   "metadata": {},
   "outputs": [
    {
     "data": {
      "text/plain": [
       "501039"
      ]
     },
     "execution_count": 31,
     "metadata": {},
     "output_type": "execute_result"
    }
   ],
   "source": [
    "len(y_train)"
   ]
  },
  {
   "cell_type": "code",
   "execution_count": 32,
   "id": "cc121507",
   "metadata": {},
   "outputs": [
    {
     "data": {
      "text/plain": [
       "214732"
      ]
     },
     "execution_count": 32,
     "metadata": {},
     "output_type": "execute_result"
    }
   ],
   "source": [
    "len(y_test)"
   ]
  },
  {
   "cell_type": "code",
   "execution_count": 33,
   "id": "917af7fc",
   "metadata": {},
   "outputs": [
    {
     "data": {
      "text/plain": [
       "0    707584\n",
       "1      8187\n",
       "Name: CHURN, dtype: int64"
      ]
     },
     "execution_count": 33,
     "metadata": {},
     "output_type": "execute_result"
    }
   ],
   "source": [
    "df['CHURN'].value_counts()"
   ]
  },
  {
   "cell_type": "code",
   "execution_count": 34,
   "id": "0ea817d7",
   "metadata": {},
   "outputs": [
    {
     "data": {
      "text/plain": [
       "0    495306\n",
       "1      5733\n",
       "Name: CHURN, dtype: int64"
      ]
     },
     "execution_count": 34,
     "metadata": {},
     "output_type": "execute_result"
    }
   ],
   "source": [
    "y_train.value_counts()"
   ]
  },
  {
   "cell_type": "code",
   "execution_count": 35,
   "id": "fc50b856",
   "metadata": {},
   "outputs": [
    {
     "data": {
      "text/plain": [
       "0    212278\n",
       "1      2454\n",
       "Name: CHURN, dtype: int64"
      ]
     },
     "execution_count": 35,
     "metadata": {},
     "output_type": "execute_result"
    }
   ],
   "source": [
    "y_test.value_counts()"
   ]
  },
  {
   "cell_type": "code",
   "execution_count": 36,
   "id": "fe77e4cf",
   "metadata": {},
   "outputs": [
    {
     "data": {
      "text/html": [
       "<div>\n",
       "<style scoped>\n",
       "    .dataframe tbody tr th:only-of-type {\n",
       "        vertical-align: middle;\n",
       "    }\n",
       "\n",
       "    .dataframe tbody tr th {\n",
       "        vertical-align: top;\n",
       "    }\n",
       "\n",
       "    .dataframe thead th {\n",
       "        text-align: right;\n",
       "    }\n",
       "</style>\n",
       "<table border=\"1\" class=\"dataframe\">\n",
       "  <thead>\n",
       "    <tr style=\"text-align: right;\">\n",
       "      <th></th>\n",
       "      <th>FLAG_MIB_ACT</th>\n",
       "      <th>CUST_SEGMENT</th>\n",
       "      <th>MARITAL_STATUS_GRP</th>\n",
       "      <th>INCOME_RANGE</th>\n",
       "      <th>AGE</th>\n",
       "      <th>AGE_RANGE</th>\n",
       "      <th>CATEGORY_X4</th>\n",
       "      <th>CATEGORY_X5</th>\n",
       "      <th>CATEGORY_X6</th>\n",
       "      <th>CATEGORY_X7</th>\n",
       "      <th>...</th>\n",
       "      <th>FREQUENT04</th>\n",
       "      <th>FREQUENT05</th>\n",
       "      <th>FREQUENT06</th>\n",
       "      <th>FREQUENT07</th>\n",
       "      <th>FREQUENT08</th>\n",
       "      <th>FREQUENT09</th>\n",
       "      <th>FREQUENT10</th>\n",
       "      <th>FREQUENT11</th>\n",
       "      <th>FREQUENT12</th>\n",
       "      <th>SPENDING10</th>\n",
       "    </tr>\n",
       "  </thead>\n",
       "  <tbody>\n",
       "    <tr>\n",
       "      <th>0</th>\n",
       "      <td>1.0</td>\n",
       "      <td>5</td>\n",
       "      <td>0</td>\n",
       "      <td>4</td>\n",
       "      <td>64</td>\n",
       "      <td>5</td>\n",
       "      <td>0</td>\n",
       "      <td>0</td>\n",
       "      <td>0</td>\n",
       "      <td>9</td>\n",
       "      <td>...</td>\n",
       "      <td>0.0</td>\n",
       "      <td>0.0</td>\n",
       "      <td>0.0</td>\n",
       "      <td>2.0</td>\n",
       "      <td>2.0</td>\n",
       "      <td>1.0</td>\n",
       "      <td>1.0</td>\n",
       "      <td>0.0</td>\n",
       "      <td>0.0</td>\n",
       "      <td>1698.84</td>\n",
       "    </tr>\n",
       "    <tr>\n",
       "      <th>1</th>\n",
       "      <td>1.0</td>\n",
       "      <td>6</td>\n",
       "      <td>0</td>\n",
       "      <td>3</td>\n",
       "      <td>51</td>\n",
       "      <td>4</td>\n",
       "      <td>0</td>\n",
       "      <td>0</td>\n",
       "      <td>0</td>\n",
       "      <td>0</td>\n",
       "      <td>...</td>\n",
       "      <td>0.0</td>\n",
       "      <td>0.0</td>\n",
       "      <td>0.0</td>\n",
       "      <td>0.0</td>\n",
       "      <td>0.0</td>\n",
       "      <td>0.0</td>\n",
       "      <td>0.0</td>\n",
       "      <td>0.0</td>\n",
       "      <td>1.0</td>\n",
       "      <td>0.00</td>\n",
       "    </tr>\n",
       "    <tr>\n",
       "      <th>2</th>\n",
       "      <td>1.0</td>\n",
       "      <td>5</td>\n",
       "      <td>0</td>\n",
       "      <td>3</td>\n",
       "      <td>45</td>\n",
       "      <td>4</td>\n",
       "      <td>18</td>\n",
       "      <td>0</td>\n",
       "      <td>4</td>\n",
       "      <td>12</td>\n",
       "      <td>...</td>\n",
       "      <td>1.0</td>\n",
       "      <td>0.0</td>\n",
       "      <td>1.0</td>\n",
       "      <td>2.0</td>\n",
       "      <td>0.0</td>\n",
       "      <td>0.0</td>\n",
       "      <td>0.0</td>\n",
       "      <td>2.0</td>\n",
       "      <td>1.0</td>\n",
       "      <td>0.00</td>\n",
       "    </tr>\n",
       "    <tr>\n",
       "      <th>3</th>\n",
       "      <td>1.0</td>\n",
       "      <td>5</td>\n",
       "      <td>0</td>\n",
       "      <td>3</td>\n",
       "      <td>48</td>\n",
       "      <td>4</td>\n",
       "      <td>28</td>\n",
       "      <td>28</td>\n",
       "      <td>28</td>\n",
       "      <td>28</td>\n",
       "      <td>...</td>\n",
       "      <td>1.0</td>\n",
       "      <td>1.0</td>\n",
       "      <td>1.0</td>\n",
       "      <td>1.0</td>\n",
       "      <td>1.0</td>\n",
       "      <td>1.0</td>\n",
       "      <td>1.0</td>\n",
       "      <td>4.0</td>\n",
       "      <td>5.0</td>\n",
       "      <td>1990.00</td>\n",
       "    </tr>\n",
       "    <tr>\n",
       "      <th>4</th>\n",
       "      <td>1.0</td>\n",
       "      <td>5</td>\n",
       "      <td>1</td>\n",
       "      <td>3</td>\n",
       "      <td>47</td>\n",
       "      <td>4</td>\n",
       "      <td>24</td>\n",
       "      <td>15</td>\n",
       "      <td>24</td>\n",
       "      <td>24</td>\n",
       "      <td>...</td>\n",
       "      <td>71.0</td>\n",
       "      <td>66.0</td>\n",
       "      <td>41.0</td>\n",
       "      <td>59.0</td>\n",
       "      <td>44.0</td>\n",
       "      <td>73.0</td>\n",
       "      <td>52.0</td>\n",
       "      <td>65.0</td>\n",
       "      <td>71.0</td>\n",
       "      <td>141742.92</td>\n",
       "    </tr>\n",
       "    <tr>\n",
       "      <th>...</th>\n",
       "      <td>...</td>\n",
       "      <td>...</td>\n",
       "      <td>...</td>\n",
       "      <td>...</td>\n",
       "      <td>...</td>\n",
       "      <td>...</td>\n",
       "      <td>...</td>\n",
       "      <td>...</td>\n",
       "      <td>...</td>\n",
       "      <td>...</td>\n",
       "      <td>...</td>\n",
       "      <td>...</td>\n",
       "      <td>...</td>\n",
       "      <td>...</td>\n",
       "      <td>...</td>\n",
       "      <td>...</td>\n",
       "      <td>...</td>\n",
       "      <td>...</td>\n",
       "      <td>...</td>\n",
       "      <td>...</td>\n",
       "      <td>...</td>\n",
       "    </tr>\n",
       "    <tr>\n",
       "      <th>715766</th>\n",
       "      <td>1.0</td>\n",
       "      <td>6</td>\n",
       "      <td>2</td>\n",
       "      <td>1</td>\n",
       "      <td>42</td>\n",
       "      <td>4</td>\n",
       "      <td>0</td>\n",
       "      <td>0</td>\n",
       "      <td>0</td>\n",
       "      <td>0</td>\n",
       "      <td>...</td>\n",
       "      <td>0.0</td>\n",
       "      <td>0.0</td>\n",
       "      <td>0.0</td>\n",
       "      <td>0.0</td>\n",
       "      <td>0.0</td>\n",
       "      <td>0.0</td>\n",
       "      <td>0.0</td>\n",
       "      <td>1.0</td>\n",
       "      <td>1.0</td>\n",
       "      <td>0.00</td>\n",
       "    </tr>\n",
       "    <tr>\n",
       "      <th>715767</th>\n",
       "      <td>1.0</td>\n",
       "      <td>6</td>\n",
       "      <td>0</td>\n",
       "      <td>1</td>\n",
       "      <td>35</td>\n",
       "      <td>2</td>\n",
       "      <td>0</td>\n",
       "      <td>0</td>\n",
       "      <td>0</td>\n",
       "      <td>0</td>\n",
       "      <td>...</td>\n",
       "      <td>2.0</td>\n",
       "      <td>2.0</td>\n",
       "      <td>2.0</td>\n",
       "      <td>2.0</td>\n",
       "      <td>2.0</td>\n",
       "      <td>2.0</td>\n",
       "      <td>2.0</td>\n",
       "      <td>2.0</td>\n",
       "      <td>2.0</td>\n",
       "      <td>2096.28</td>\n",
       "    </tr>\n",
       "    <tr>\n",
       "      <th>715768</th>\n",
       "      <td>0.0</td>\n",
       "      <td>6</td>\n",
       "      <td>1</td>\n",
       "      <td>2</td>\n",
       "      <td>56</td>\n",
       "      <td>4</td>\n",
       "      <td>0</td>\n",
       "      <td>0</td>\n",
       "      <td>0</td>\n",
       "      <td>0</td>\n",
       "      <td>...</td>\n",
       "      <td>2.0</td>\n",
       "      <td>2.0</td>\n",
       "      <td>2.0</td>\n",
       "      <td>2.0</td>\n",
       "      <td>2.0</td>\n",
       "      <td>2.0</td>\n",
       "      <td>2.0</td>\n",
       "      <td>2.0</td>\n",
       "      <td>2.0</td>\n",
       "      <td>1031.55</td>\n",
       "    </tr>\n",
       "    <tr>\n",
       "      <th>715769</th>\n",
       "      <td>1.0</td>\n",
       "      <td>6</td>\n",
       "      <td>0</td>\n",
       "      <td>2</td>\n",
       "      <td>39</td>\n",
       "      <td>3</td>\n",
       "      <td>0</td>\n",
       "      <td>0</td>\n",
       "      <td>0</td>\n",
       "      <td>0</td>\n",
       "      <td>...</td>\n",
       "      <td>0.0</td>\n",
       "      <td>0.0</td>\n",
       "      <td>0.0</td>\n",
       "      <td>0.0</td>\n",
       "      <td>0.0</td>\n",
       "      <td>0.0</td>\n",
       "      <td>0.0</td>\n",
       "      <td>1.0</td>\n",
       "      <td>1.0</td>\n",
       "      <td>0.00</td>\n",
       "    </tr>\n",
       "    <tr>\n",
       "      <th>715770</th>\n",
       "      <td>1.0</td>\n",
       "      <td>6</td>\n",
       "      <td>0</td>\n",
       "      <td>3</td>\n",
       "      <td>53</td>\n",
       "      <td>4</td>\n",
       "      <td>0</td>\n",
       "      <td>0</td>\n",
       "      <td>0</td>\n",
       "      <td>0</td>\n",
       "      <td>...</td>\n",
       "      <td>0.0</td>\n",
       "      <td>0.0</td>\n",
       "      <td>0.0</td>\n",
       "      <td>0.0</td>\n",
       "      <td>0.0</td>\n",
       "      <td>0.0</td>\n",
       "      <td>0.0</td>\n",
       "      <td>1.0</td>\n",
       "      <td>1.0</td>\n",
       "      <td>0.00</td>\n",
       "    </tr>\n",
       "  </tbody>\n",
       "</table>\n",
       "<p>715771 rows × 34 columns</p>\n",
       "</div>"
      ],
      "text/plain": [
       "        FLAG_MIB_ACT  CUST_SEGMENT  MARITAL_STATUS_GRP  INCOME_RANGE  AGE  \\\n",
       "0                1.0             5                   0             4   64   \n",
       "1                1.0             6                   0             3   51   \n",
       "2                1.0             5                   0             3   45   \n",
       "3                1.0             5                   0             3   48   \n",
       "4                1.0             5                   1             3   47   \n",
       "...              ...           ...                 ...           ...  ...   \n",
       "715766           1.0             6                   2             1   42   \n",
       "715767           1.0             6                   0             1   35   \n",
       "715768           0.0             6                   1             2   56   \n",
       "715769           1.0             6                   0             2   39   \n",
       "715770           1.0             6                   0             3   53   \n",
       "\n",
       "        AGE_RANGE  CATEGORY_X4  CATEGORY_X5  CATEGORY_X6  CATEGORY_X7  ...  \\\n",
       "0               5            0            0            0            9  ...   \n",
       "1               4            0            0            0            0  ...   \n",
       "2               4           18            0            4           12  ...   \n",
       "3               4           28           28           28           28  ...   \n",
       "4               4           24           15           24           24  ...   \n",
       "...           ...          ...          ...          ...          ...  ...   \n",
       "715766          4            0            0            0            0  ...   \n",
       "715767          2            0            0            0            0  ...   \n",
       "715768          4            0            0            0            0  ...   \n",
       "715769          3            0            0            0            0  ...   \n",
       "715770          4            0            0            0            0  ...   \n",
       "\n",
       "        FREQUENT04  FREQUENT05  FREQUENT06  FREQUENT07  FREQUENT08  \\\n",
       "0              0.0         0.0         0.0         2.0         2.0   \n",
       "1              0.0         0.0         0.0         0.0         0.0   \n",
       "2              1.0         0.0         1.0         2.0         0.0   \n",
       "3              1.0         1.0         1.0         1.0         1.0   \n",
       "4             71.0        66.0        41.0        59.0        44.0   \n",
       "...            ...         ...         ...         ...         ...   \n",
       "715766         0.0         0.0         0.0         0.0         0.0   \n",
       "715767         2.0         2.0         2.0         2.0         2.0   \n",
       "715768         2.0         2.0         2.0         2.0         2.0   \n",
       "715769         0.0         0.0         0.0         0.0         0.0   \n",
       "715770         0.0         0.0         0.0         0.0         0.0   \n",
       "\n",
       "        FREQUENT09  FREQUENT10  FREQUENT11  FREQUENT12  SPENDING10  \n",
       "0              1.0         1.0         0.0         0.0     1698.84  \n",
       "1              0.0         0.0         0.0         1.0        0.00  \n",
       "2              0.0         0.0         2.0         1.0        0.00  \n",
       "3              1.0         1.0         4.0         5.0     1990.00  \n",
       "4             73.0        52.0        65.0        71.0   141742.92  \n",
       "...            ...         ...         ...         ...         ...  \n",
       "715766         0.0         0.0         1.0         1.0        0.00  \n",
       "715767         2.0         2.0         2.0         2.0     2096.28  \n",
       "715768         2.0         2.0         2.0         2.0     1031.55  \n",
       "715769         0.0         0.0         1.0         1.0        0.00  \n",
       "715770         0.0         0.0         1.0         1.0        0.00  \n",
       "\n",
       "[715771 rows x 34 columns]"
      ]
     },
     "execution_count": 36,
     "metadata": {},
     "output_type": "execute_result"
    }
   ],
   "source": [
    "x "
   ]
  },
  {
   "cell_type": "code",
   "execution_count": 37,
   "id": "d61f3018",
   "metadata": {},
   "outputs": [
    {
     "name": "stdout",
     "output_type": "stream",
     "text": [
      "<class 'pandas.core.frame.DataFrame'>\n",
      "RangeIndex: 715771 entries, 0 to 715770\n",
      "Data columns (total 34 columns):\n",
      " #   Column              Non-Null Count   Dtype  \n",
      "---  ------              --------------   -----  \n",
      " 0   FLAG_MIB_ACT        715771 non-null  float64\n",
      " 1   CUST_SEGMENT        715771 non-null  int64  \n",
      " 2   MARITAL_STATUS_GRP  715771 non-null  int64  \n",
      " 3   INCOME_RANGE        715771 non-null  int64  \n",
      " 4   AGE                 715771 non-null  int64  \n",
      " 5   AGE_RANGE           715771 non-null  int64  \n",
      " 6   CATEGORY_X4         715771 non-null  int64  \n",
      " 7   CATEGORY_X5         715771 non-null  int64  \n",
      " 8   CATEGORY_X6         715771 non-null  int64  \n",
      " 9   CATEGORY_X7         715771 non-null  int64  \n",
      " 10  CATEGORY_X8         715771 non-null  int64  \n",
      " 11  CATEGORY_X9         715771 non-null  int64  \n",
      " 12  CATEGORY_X10        715771 non-null  int64  \n",
      " 13  CATEGORY_X11        715771 non-null  int64  \n",
      " 14  CATEGORY_X12        715771 non-null  int64  \n",
      " 15  PERCENT_CREDIT04    715771 non-null  float64\n",
      " 16  PERCENT_CREDIT05    715771 non-null  float64\n",
      " 17  PERCENT_CREDIT06    715771 non-null  float64\n",
      " 18  PERCENT_CREDIT07    715771 non-null  float64\n",
      " 19  PERCENT_CREDIT08    715771 non-null  float64\n",
      " 20  PERCENT_CREDIT09    715771 non-null  float64\n",
      " 21  PERCENT_CREDIT10    715771 non-null  float64\n",
      " 22  PERCENT_CREDIT11    715771 non-null  float64\n",
      " 23  PERCENT_CREDIT12    715771 non-null  float64\n",
      " 24  FREQUENT04          715771 non-null  float64\n",
      " 25  FREQUENT05          715771 non-null  float64\n",
      " 26  FREQUENT06          715771 non-null  float64\n",
      " 27  FREQUENT07          715771 non-null  float64\n",
      " 28  FREQUENT08          715771 non-null  float64\n",
      " 29  FREQUENT09          715771 non-null  float64\n",
      " 30  FREQUENT10          715771 non-null  float64\n",
      " 31  FREQUENT11          715771 non-null  float64\n",
      " 32  FREQUENT12          715771 non-null  float64\n",
      " 33  SPENDING10          715771 non-null  float64\n",
      "dtypes: float64(20), int64(14)\n",
      "memory usage: 185.7 MB\n"
     ]
    }
   ],
   "source": [
    "x.info()\n",
    "# OCCUPATION_GRP SEGMENT_OCC INCOME EDUCATION_LEVEL PRODUCT_CODE_DETAIL TIME_CC_HOLDER CUR_BAL_POINT  GENDER_CD SALARY OCC_GROUP "
   ]
  },
  {
   "cell_type": "code",
   "execution_count": null,
   "id": "6b636257",
   "metadata": {},
   "outputs": [],
   "source": []
  },
  {
   "cell_type": "code",
   "execution_count": 38,
   "id": "396c6a86",
   "metadata": {
    "scrolled": true
   },
   "outputs": [
    {
     "data": {
      "text/plain": [
       "0         0\n",
       "1         0\n",
       "2         0\n",
       "3         0\n",
       "4         0\n",
       "         ..\n",
       "715766    0\n",
       "715767    0\n",
       "715768    0\n",
       "715769    0\n",
       "715770    0\n",
       "Name: CHURN, Length: 715771, dtype: int64"
      ]
     },
     "execution_count": 38,
     "metadata": {},
     "output_type": "execute_result"
    }
   ],
   "source": [
    "y"
   ]
  },
  {
   "cell_type": "code",
   "execution_count": 39,
   "id": "fbd3e8c0",
   "metadata": {},
   "outputs": [],
   "source": [
    "model_eval = pd.DataFrame(columns=['Score'])\n",
    "# model_eval = pd.DataFrame(index=['Random Forest'],columns=['Score'])"
   ]
  },
  {
   "cell_type": "code",
   "execution_count": 40,
   "id": "76fbded6",
   "metadata": {},
   "outputs": [],
   "source": [
    "log = LogisticRegression()\n",
    "log.fit(x_train,y_train)\n",
    "y_pred1 = log.predict(x_test)"
   ]
  },
  {
   "cell_type": "code",
   "execution_count": 41,
   "id": "4a2cbb66",
   "metadata": {},
   "outputs": [],
   "source": [
    "dt = DecisionTreeClassifier()\n",
    "dt.fit(x_train, y_train)\n",
    "y_pred2 = dt.predict(x_test)"
   ]
  },
  {
   "cell_type": "code",
   "execution_count": 42,
   "id": "9137fcd7",
   "metadata": {},
   "outputs": [],
   "source": [
    "rf = RandomForestClassifier()\n",
    "rf.fit(x_train,y_train)\n",
    "y_pred3 = rf.predict(x_test)"
   ]
  },
  {
   "cell_type": "code",
   "execution_count": 43,
   "id": "df51f52d",
   "metadata": {},
   "outputs": [],
   "source": [
    "model_eval.loc['Logisitic','Score'] = accuracy_score(y_pred1, y_test)\n",
    "model_eval.loc['Decision Tree','Score'] = accuracy_score(y_pred2, y_test)\n",
    "model_eval.loc['Random Forest','Score'] = accuracy_score(y_pred3, y_test)\n",
    "# model_eval.loc['XGBoost','Score'] = accuracy_score(y_pred3,y_test)"
   ]
  },
  {
   "cell_type": "code",
   "execution_count": 44,
   "id": "ffa20904",
   "metadata": {},
   "outputs": [
    {
     "name": "stdout",
     "output_type": "stream",
     "text": [
      "Accuracy Logisitic: 0.9883529236443567\n"
     ]
    }
   ],
   "source": [
    "accuracy = sum(y_pred1 == y_test) / len(y_test)\n",
    "print(\"Accuracy Logisitic:\", accuracy)"
   ]
  },
  {
   "cell_type": "code",
   "execution_count": 45,
   "id": "8b839cdd",
   "metadata": {},
   "outputs": [
    {
     "name": "stdout",
     "output_type": "stream",
     "text": [
      "Accuracy Decision Tree: 0.9855028593782017\n"
     ]
    }
   ],
   "source": [
    "accuracy = sum(y_pred2 == y_test) / len(y_test)\n",
    "print(\"Accuracy Decision Tree:\", accuracy)"
   ]
  },
  {
   "cell_type": "code",
   "execution_count": 46,
   "id": "6af9b1ea",
   "metadata": {},
   "outputs": [
    {
     "name": "stdout",
     "output_type": "stream",
     "text": [
      "Accuracy Random Forest: 0.9885252314512974\n"
     ]
    }
   ],
   "source": [
    "accuracy = sum(y_pred3 == y_test) / len(y_test)\n",
    "print(\"Accuracy Random Forest:\", accuracy)"
   ]
  },
  {
   "cell_type": "code",
   "execution_count": 47,
   "id": "61cc6079",
   "metadata": {},
   "outputs": [
    {
     "data": {
      "text/html": [
       "<div>\n",
       "<style scoped>\n",
       "    .dataframe tbody tr th:only-of-type {\n",
       "        vertical-align: middle;\n",
       "    }\n",
       "\n",
       "    .dataframe tbody tr th {\n",
       "        vertical-align: top;\n",
       "    }\n",
       "\n",
       "    .dataframe thead th {\n",
       "        text-align: right;\n",
       "    }\n",
       "</style>\n",
       "<table border=\"1\" class=\"dataframe\">\n",
       "  <thead>\n",
       "    <tr style=\"text-align: right;\">\n",
       "      <th></th>\n",
       "      <th>Score</th>\n",
       "    </tr>\n",
       "  </thead>\n",
       "  <tbody>\n",
       "    <tr>\n",
       "      <th>Logisitic</th>\n",
       "      <td>0.988353</td>\n",
       "    </tr>\n",
       "    <tr>\n",
       "      <th>Decision Tree</th>\n",
       "      <td>0.985503</td>\n",
       "    </tr>\n",
       "    <tr>\n",
       "      <th>Random Forest</th>\n",
       "      <td>0.988525</td>\n",
       "    </tr>\n",
       "  </tbody>\n",
       "</table>\n",
       "</div>"
      ],
      "text/plain": [
       "                  Score\n",
       "Logisitic      0.988353\n",
       "Decision Tree  0.985503\n",
       "Random Forest  0.988525"
      ]
     },
     "execution_count": 47,
     "metadata": {},
     "output_type": "execute_result"
    }
   ],
   "source": [
    "model_eval"
   ]
  },
  {
   "cell_type": "code",
   "execution_count": 48,
   "id": "a17ea3dd",
   "metadata": {},
   "outputs": [
    {
     "name": "stdout",
     "output_type": "stream",
     "text": [
      "Confusion Matrix Logisitic: [[212198     80]\n",
      " [  2421     33]]\n"
     ]
    },
    {
     "data": {
      "image/png": "[encoded data removed]",
      "text/plain": [
       "<Figure size 432x288 with 2 Axes>"
      ]
     },
     "metadata": {
      "needs_background": "light"
     },
     "output_type": "display_data"
    }
   ],
   "source": [
    "from sklearn.metrics import confusion_matrix\n",
    "cm1 = confusion_matrix(y_test, y_pred1)\n",
    "print(\"Confusion Matrix Logisitic:\", cm1)\n",
    "\n",
    "sns.heatmap(cm1, annot=True, fmt='d',cmap='Oranges')\n",
    "\n",
    "# customize the plot\n",
    "plt.xlabel('Predicted')\n",
    "plt.ylabel('Actual')\n",
    "plt.title('Confusion Matrix')\n",
    "\n",
    "# display the plot\n",
    "plt.show()"
   ]
  },
  {
   "cell_type": "code",
   "execution_count": 49,
   "id": "266eb744",
   "metadata": {},
   "outputs": [
    {
     "name": "stdout",
     "output_type": "stream",
     "text": [
      "Confusion Matrix Decision Tree: [[210650   1628]\n",
      " [  1485    969]]\n"
     ]
    },
    {
     "data": {
      "image/png": "[encoded data removed]",
      "text/plain": [
       "<Figure size 432x288 with 2 Axes>"
      ]
     },
     "metadata": {
      "needs_background": "light"
     },
     "output_type": "display_data"
    }
   ],
   "source": [
    "cm2 = confusion_matrix(y_test, y_pred2)\n",
    "print(\"Confusion Matrix Decision Tree:\", cm2)\n",
    "\n",
    "sns.heatmap(cm2, annot=True, fmt='d',cmap='Oranges')\n",
    "\n",
    "# customize the plot\n",
    "plt.xlabel('Predicted')\n",
    "plt.ylabel('Actual')\n",
    "plt.title('Confusion Matrix')\n",
    "\n",
    "# display the plot\n",
    "plt.show()"
   ]
  },
  {
   "cell_type": "code",
   "execution_count": 50,
   "id": "621abd9c",
   "metadata": {},
   "outputs": [
    {
     "name": "stdout",
     "output_type": "stream",
     "text": [
      "Confusion Matrix Random Forest: [[211764    514]\n",
      " [  1950    504]]\n"
     ]
    },
    {
     "data": {
      "image/png": "[encoded data removed]",
      "text/plain": [
       "<Figure size 432x288 with 2 Axes>"
      ]
     },
     "metadata": {
      "needs_background": "light"
     },
     "output_type": "display_data"
    }
   ],
   "source": [
    "cm3 = confusion_matrix(y_test, y_pred3)\n",
    "print(\"Confusion Matrix Random Forest:\", cm3)\n",
    "\n",
    "sns.heatmap(cm3, annot=True, fmt='d', cmap='Oranges')\n",
    "\n",
    "# customize the plot\n",
    "plt.xlabel('Predicted')\n",
    "plt.ylabel('Actual')\n",
    "plt.title('Confusion Matrix')\n",
    "\n",
    "# display the plot\n",
    "plt.show()"
   ]
  },
  {
   "cell_type": "code",
   "execution_count": 51,
   "id": "d223a6b8",
   "metadata": {},
   "outputs": [
    {
     "data": {
      "text/plain": [
       "0    212278\n",
       "1      2454\n",
       "Name: CHURN, dtype: int64"
      ]
     },
     "execution_count": 51,
     "metadata": {},
     "output_type": "execute_result"
    }
   ],
   "source": [
    "y_test.value_counts()"
   ]
  },
  {
   "cell_type": "code",
   "execution_count": 52,
   "id": "1e9a5b68",
   "metadata": {},
   "outputs": [],
   "source": [
    "# Calculate the number of samples in each class\n",
    "num_samples = y_test.value_counts()\n",
    "\n",
    "# Set the number of samples to use for each class\n",
    "num_samples_per_class = 2454\n",
    "\n",
    "# Create a list of indices for each class to use in the new datasets\n",
    "indices = []\n",
    "for label in y_test.unique():\n",
    "    label_indices = y_test[y_test == label].index[:num_samples_per_class]\n",
    "    indices.extend(label_indices)\n",
    "\n",
    "# Create the new X_test and y_test datasets with equal amounts of samples from each class\n",
    "x_test_new = x_test.loc[indices]\n",
    "y_test_new = y_test.loc[indices]"
   ]
  },
  {
   "cell_type": "code",
   "execution_count": 53,
   "id": "4c0934f2",
   "metadata": {},
   "outputs": [
    {
     "data": {
      "text/plain": [
       "1    2454\n",
       "0    2454\n",
       "Name: CHURN, dtype: int64"
      ]
     },
     "execution_count": 53,
     "metadata": {},
     "output_type": "execute_result"
    }
   ],
   "source": [
    "y_test_new.value_counts()"
   ]
  },
  {
   "cell_type": "code",
   "execution_count": 54,
   "id": "fcf79928",
   "metadata": {},
   "outputs": [
    {
     "data": {
      "text/plain": [
       "4908"
      ]
     },
     "execution_count": 54,
     "metadata": {},
     "output_type": "execute_result"
    }
   ],
   "source": [
    "len(x_test_new)"
   ]
  },
  {
   "cell_type": "code",
   "execution_count": 55,
   "id": "3b978048",
   "metadata": {},
   "outputs": [],
   "source": [
    "log = LogisticRegression()\n",
    "log.fit(x_train,y_train)\n",
    "y_pred1 = log.predict(x_test_new)"
   ]
  },
  {
   "cell_type": "code",
   "execution_count": 56,
   "id": "7512964a",
   "metadata": {},
   "outputs": [],
   "source": [
    "dt = DecisionTreeClassifier()\n",
    "dt.fit(x_train, y_train)\n",
    "y_pred2 = dt.predict(x_test_new)"
   ]
  },
  {
   "cell_type": "code",
   "execution_count": 57,
   "id": "2454419e",
   "metadata": {},
   "outputs": [],
   "source": [
    "rf = RandomForestClassifier()\n",
    "rf.fit(x_train,y_train)\n",
    "y_pred3 = rf.predict(x_test_new)"
   ]
  },
  {
   "cell_type": "code",
   "execution_count": 58,
   "id": "231c348e",
   "metadata": {},
   "outputs": [],
   "source": [
    "model_eval.loc['Logisitic','Score'] = accuracy_score(y_pred1, y_test_new)\n",
    "model_eval.loc['Decision Tree','Score'] = accuracy_score(y_pred2, y_test_new)\n",
    "model_eval.loc['Random Forest','Score'] = accuracy_score(y_pred3, y_test_new)\n",
    "# model_eval.loc['XGBoost','Score'] = accuracy_score(y_pred3,y_test)"
   ]
  },
  {
   "cell_type": "code",
   "execution_count": 59,
   "id": "789979e6",
   "metadata": {},
   "outputs": [
    {
     "name": "stdout",
     "output_type": "stream",
     "text": [
      "Accuracy Logisitic: 0.506519967400163\n"
     ]
    }
   ],
   "source": [
    "# accuracy = sum(y_pred1 == y_test_new) / len(y_test_new)\n",
    "accuracy = accuracy_score(y_test_new, y_pred1)\n",
    "print(\"Accuracy Logisitic:\", accuracy)"
   ]
  },
  {
   "cell_type": "code",
   "execution_count": 60,
   "id": "1d5f146b",
   "metadata": {},
   "outputs": [
    {
     "name": "stdout",
     "output_type": "stream",
     "text": [
      "Accuracy Decision Tree: 0.6911165444172779\n"
     ]
    }
   ],
   "source": [
    "# accuracy = sum(y_pred2 == y_test_new) / len(y_test_new)\n",
    "accuracy = accuracy_score(y_test_new, y_pred2)\n",
    "print(\"Accuracy Decision Tree:\", accuracy)"
   ]
  },
  {
   "cell_type": "code",
   "execution_count": 61,
   "id": "fbb1ce96",
   "metadata": {},
   "outputs": [
    {
     "name": "stdout",
     "output_type": "stream",
     "text": [
      "Accuracy Random Forest: 0.600040749796251\n"
     ]
    }
   ],
   "source": [
    "# accuracy = sum(y_pred3 == y_test_new) / len(y_test_new)\n",
    "accuracy = accuracy_score(y_test_new, y_pred3)\n",
    "print(\"Accuracy Random Forest:\", accuracy)"
   ]
  },
  {
   "cell_type": "code",
   "execution_count": 62,
   "id": "74bf80a4",
   "metadata": {},
   "outputs": [
    {
     "data": {
      "text/html": [
       "<div>\n",
       "<style scoped>\n",
       "    .dataframe tbody tr th:only-of-type {\n",
       "        vertical-align: middle;\n",
       "    }\n",
       "\n",
       "    .dataframe tbody tr th {\n",
       "        vertical-align: top;\n",
       "    }\n",
       "\n",
       "    .dataframe thead th {\n",
       "        text-align: right;\n",
       "    }\n",
       "</style>\n",
       "<table border=\"1\" class=\"dataframe\">\n",
       "  <thead>\n",
       "    <tr style=\"text-align: right;\">\n",
       "      <th></th>\n",
       "      <th>Score</th>\n",
       "    </tr>\n",
       "  </thead>\n",
       "  <tbody>\n",
       "    <tr>\n",
       "      <th>Logisitic</th>\n",
       "      <td>0.50652</td>\n",
       "    </tr>\n",
       "    <tr>\n",
       "      <th>Decision Tree</th>\n",
       "      <td>0.691117</td>\n",
       "    </tr>\n",
       "    <tr>\n",
       "      <th>Random Forest</th>\n",
       "      <td>0.600041</td>\n",
       "    </tr>\n",
       "  </tbody>\n",
       "</table>\n",
       "</div>"
      ],
      "text/plain": [
       "                  Score\n",
       "Logisitic       0.50652\n",
       "Decision Tree  0.691117\n",
       "Random Forest  0.600041"
      ]
     },
     "execution_count": 62,
     "metadata": {},
     "output_type": "execute_result"
    }
   ],
   "source": [
    "model_eval"
   ]
  },
  {
   "cell_type": "code",
   "execution_count": 63,
   "id": "e515da3c",
   "metadata": {},
   "outputs": [
    {
     "name": "stdout",
     "output_type": "stream",
     "text": [
      "Confusion Matrix Logisitic: [[2453    1]\n",
      " [2421   33]]\n"
     ]
    },
    {
     "data": {
      "image/png": "[encoded data removed]",
      "text/plain": [
       "<Figure size 432x288 with 2 Axes>"
      ]
     },
     "metadata": {
      "needs_background": "light"
     },
     "output_type": "display_data"
    }
   ],
   "source": [
    "cm1 = confusion_matrix(y_test_new, y_pred1)\n",
    "print(\"Confusion Matrix Logisitic:\", cm1)\n",
    "\n",
    "sns.heatmap(cm1, annot=True, fmt='d', cmap='Blues')\n",
    "\n",
    "# customize the plot\n",
    "plt.xlabel('Predicted')\n",
    "plt.ylabel('Actual')\n",
    "plt.title('Confusion Matrix')\n",
    "\n",
    "# display the plot\n",
    "plt.show()"
   ]
  },
  {
   "cell_type": "code",
   "execution_count": 64,
   "id": "65ef0601",
   "metadata": {},
   "outputs": [
    {
     "name": "stdout",
     "output_type": "stream",
     "text": [
      "Confusion Matrix Decision Tree: [[2427   27]\n",
      " [1489  965]]\n"
     ]
    },
    {
     "data": {
      "image/png": "[encoded data removed]",
      "text/plain": [
       "<Figure size 432x288 with 2 Axes>"
      ]
     },
     "metadata": {
      "needs_background": "light"
     },
     "output_type": "display_data"
    }
   ],
   "source": [
    "cm2 = confusion_matrix(y_test_new, y_pred2)\n",
    "print(\"Confusion Matrix Decision Tree:\", cm2)\n",
    "\n",
    "sns.heatmap(cm2, annot=True, fmt='d', cmap='Blues')\n",
    "\n",
    "# customize the plot\n",
    "plt.xlabel('Predicted')\n",
    "plt.ylabel('Actual')\n",
    "plt.title('Confusion Matrix')\n",
    "\n",
    "# display the plot\n",
    "plt.show()"
   ]
  },
  {
   "cell_type": "code",
   "execution_count": 65,
   "id": "4214b387",
   "metadata": {},
   "outputs": [
    {
     "name": "stdout",
     "output_type": "stream",
     "text": [
      "Confusion Matrix Random Forest: [[2449    5]\n",
      " [1958  496]]\n"
     ]
    },
    {
     "data": {
      "image/png": "[encoded data removed]",
      "text/plain": [
       "<Figure size 432x288 with 2 Axes>"
      ]
     },
     "metadata": {
      "needs_background": "light"
     },
     "output_type": "display_data"
    }
   ],
   "source": [
    "cm3 = confusion_matrix(y_test_new, y_pred3)\n",
    "print(\"Confusion Matrix Random Forest:\", cm3)\n",
    "\n",
    "sns.heatmap(cm3, annot=True, fmt='d', cmap='Blues')\n",
    "\n",
    "# customize the plot\n",
    "plt.xlabel('Predicted')\n",
    "plt.ylabel('Actual')\n",
    "plt.title('Confusion Matrix')\n",
    "\n",
    "# display the plot\n",
    "plt.show()"
   ]
  },
  {
   "cell_type": "code",
   "execution_count": null,
   "id": "46a70e54",
   "metadata": {},
   "outputs": [],
   "source": []
  },
  {
   "cell_type": "code",
   "execution_count": null,
   "id": "1be8e2a6",
   "metadata": {},
   "outputs": [],
   "source": []
  },
  {
   "cell_type": "code",
   "execution_count": null,
   "id": "7cc227e7",
   "metadata": {},
   "outputs": [],
   "source": []
  },
  {
   "cell_type": "code",
   "execution_count": 66,
   "id": "a5ab50a3",
   "metadata": {},
   "outputs": [
    {
     "name": "stdout",
     "output_type": "stream",
     "text": [
      "Looking in indexes: https://nexus.tmbbank.local:8081/repository/TMB_PYPI/simple/\n",
      "Collecting pycaret\n",
      "/app/cloudera/parcels/CDH_PYTHON-0.0.1.p0-anaconda3_2019.07-py2_2.7-py3_3.6/envs/python3/lib/python3.6/site-packages/pip/_vendor/urllib3/connection.py:388: SubjectAltNameWarning: Certificate for nexus.tmbbank.local has no `subjectAltName`, falling back to check for a `commonName` for now. This feature is being removed by major browsers and deprecated by RFC 2818. (See https://github.com/shazow/urllib3/issues/497 for details.)\n",
      "  SubjectAltNameWarning\n",
      "  Using cached https://nexus.tmbbank.local:8081/repository/TMB_PYPI/packages/pycaret/2.3.10/pycaret-2.3.10-py3-none-any.whl\n",
      "Collecting mlxtend>=0.17.0 (from pycaret)\n",
      "  Using cached https://nexus.tmbbank.local:8081/repository/TMB_PYPI/packages/mlxtend/0.22.0/mlxtend-0.22.0-py2.py3-none-any.whl\n",
      "Requirement already satisfied: scipy<=1.5.4 in /app/cloudera/parcels/CDH_PYTHON-0.0.1.p0-anaconda3_2019.07-py2_2.7-py3_3.6/envs/python3/lib/python3.6/site-packages (from pycaret) (1.5.4)\n",
      "Collecting kmodes>=0.10.1 (from pycaret)\n",
      "  Using cached https://nexus.tmbbank.local:8081/repository/TMB_PYPI/packages/kmodes/0.12.2/kmodes-0.12.2-py2.py3-none-any.whl\n",
      "Requirement already satisfied: nltk in /app/cloudera/parcels/CDH_PYTHON-0.0.1.p0-anaconda3_2019.07-py2_2.7-py3_3.6/envs/python3/lib/python3.6/site-packages (from pycaret) (3.6.5)\n",
      "Collecting yellowbrick>=1.0.1 (from pycaret)\n",
      "  Using cached https://nexus.tmbbank.local:8081/repository/TMB_PYPI/packages/yellowbrick/1.5/yellowbrick-1.5-py3-none-any.whl\n",
      "Collecting pyLDAvis (from pycaret)\n",
      "  Using cached https://nexus.tmbbank.local:8081/repository/TMB_PYPI/packages/pyldavis/3.3.1/pyLDAvis-3.3.1.tar.gz\n",
      "  Installing build dependencies ... \u001b[?25lerror\n",
      "\u001b[31m  ERROR: Command errored out with exit status 1:\n",
      "   command: /app/cloudera/parcels/CDH_PYTHON-0.0.1.p0-anaconda3_2019.07-py2_2.7-py3_3.6/envs/python3/bin/python /app/cloudera/parcels/CDH_PYTHON-0.0.1.p0-anaconda3_2019.07-py2_2.7-py3_3.6/envs/python3/lib/python3.6/site-packages/pip install --ignore-installed --no-user --prefix /tmp/pip-build-env-9qas5_e4/overlay --no-warn-script-location --no-binary :none: --only-binary :none: -i https://nexus.tmbbank.local:8081/repository/TMB_PYPI/simple/ --trusted-host pypi.python.org --trusted-host pypi.org --trusted-host files.pythonhosted.org --trusted-host nexus.tmbbank.local -- setuptools\n",
      "       cwd: None\n",
      "  Complete output (14 lines):\n",
      "  Traceback (most recent call last):\n",
      "    File \"/app/cloudera/parcels/CDH_PYTHON-0.0.1.p0-anaconda3_2019.07-py2_2.7-py3_3.6/envs/python3/lib/python3.6/runpy.py\", line 193, in _run_module_as_main\n",
      "      \"__main__\", mod_spec)\n",
      "    File \"/app/cloudera/parcels/CDH_PYTHON-0.0.1.p0-anaconda3_2019.07-py2_2.7-py3_3.6/envs/python3/lib/python3.6/runpy.py\", line 85, in _run_code\n",
      "      exec(code, run_globals)\n",
      "    File \"/app/cloudera/parcels/CDH_PYTHON-0.0.1.p0-anaconda3_2019.07-py2_2.7-py3_3.6/envs/python3/lib/python3.6/site-packages/pip/__main__.py\", line 16, in <module>\n",
      "      from pip._internal import main as _main  # isort:skip # noqa\n",
      "    File \"/app/cloudera/parcels/CDH_PYTHON-0.0.1.p0-anaconda3_2019.07-py2_2.7-py3_3.6/envs/python3/lib/python3.6/site-packages/pip/_internal/__init__.py\", line 4, in <module>\n",
      "      import locale\n",
      "    File \"/app/cloudera/parcels/CDH_PYTHON-0.0.1.p0-anaconda3_2019.07-py2_2.7-py3_3.6/envs/python3/lib/python3.6/locale.py\", line 16, in <module>\n",
      "      import re\n",
      "    File \"/app/cloudera/parcels/CDH_PYTHON-0.0.1.p0-anaconda3_2019.07-py2_2.7-py3_3.6/envs/python3/lib/python3.6/re.py\", line 142, in <module>\n",
      "      class RegexFlag(enum.IntFlag):\n",
      "  AttributeError: module 'enum' has no attribute 'IntFlag'\n",
      "  ----------------------------------------\u001b[0m\n",
      "\u001b[31mERROR: Command errored out with exit status 1: /app/cloudera/parcels/CDH_PYTHON-0.0.1.p0-anaconda3_2019.07-py2_2.7-py3_3.6/envs/python3/bin/python /app/cloudera/parcels/CDH_PYTHON-0.0.1.p0-anaconda3_2019.07-py2_2.7-py3_3.6/envs/python3/lib/python3.6/site-packages/pip install --ignore-installed --no-user --prefix /tmp/pip-build-env-9qas5_e4/overlay --no-warn-script-location --no-binary :none: --only-binary :none: -i https://nexus.tmbbank.local:8081/repository/TMB_PYPI/simple/ --trusted-host pypi.python.org --trusted-host pypi.org --trusted-host files.pythonhosted.org --trusted-host nexus.tmbbank.local -- setuptools Check the logs for full command output.\u001b[0m\n",
      "\u001b[?25hNote: you may need to restart the kernel to use updated packages.\n"
     ]
    }
   ],
   "source": [
    "pip install pycaret"
   ]
  },
  {
   "cell_type": "code",
   "execution_count": 67,
   "id": "74eef2f3",
   "metadata": {},
   "outputs": [
    {
     "ename": "ModuleNotFoundError",
     "evalue": "No module named 'pycaret'",
     "output_type": "error",
     "traceback": [
      "\u001b[0;31m---------------------------------------------------------------------------\u001b[0m",
      "\u001b[0;31mModuleNotFoundError\u001b[0m                       Traceback (most recent call last)",
      "\u001b[0;32m<ipython-input-67-0e7a6341e4b5>\u001b[0m in \u001b[0;36m<module>\u001b[0;34m\u001b[0m\n\u001b[1;32m      1\u001b[0m \u001b[0;31m# init setup\u001b[0m\u001b[0;34m\u001b[0m\u001b[0;34m\u001b[0m\u001b[0;34m\u001b[0m\u001b[0m\n\u001b[0;32m----> 2\u001b[0;31m \u001b[0;32mfrom\u001b[0m \u001b[0mpycaret\u001b[0m\u001b[0;34m.\u001b[0m\u001b[0mclassification\u001b[0m \u001b[0;32mimport\u001b[0m \u001b[0;34m*\u001b[0m\u001b[0;34m\u001b[0m\u001b[0;34m\u001b[0m\u001b[0m\n\u001b[0m\u001b[1;32m      3\u001b[0m clf = setup(data = ros_dataset, \n\u001b[1;32m      4\u001b[0m             \u001b[0mtarget\u001b[0m \u001b[0;34m=\u001b[0m \u001b[0;34m'CHURN'\u001b[0m\u001b[0;34m,\u001b[0m\u001b[0;34m\u001b[0m\u001b[0;34m\u001b[0m\u001b[0m\n\u001b[1;32m      5\u001b[0m             \u001b[0mnormalize\u001b[0m\u001b[0;34m=\u001b[0m\u001b[0;32mTrue\u001b[0m\u001b[0;34m,\u001b[0m\u001b[0;34m\u001b[0m\u001b[0;34m\u001b[0m\u001b[0m\n",
      "\u001b[0;31mModuleNotFoundError\u001b[0m: No module named 'pycaret'"
     ]
    }
   ],
   "source": [
    "# init setup\n",
    "from pycaret.classification import *\n",
    "clf = setup(data = ros_dataset, \n",
    "            target = 'CHURN', \n",
    "            normalize=True,\n",
    "            remove_outliers=True, \n",
    "#             fix_imbalance=True\n",
    "           )"
   ]
  },
  {
   "cell_type": "code",
   "execution_count": null,
   "id": "e1f146b3",
   "metadata": {},
   "outputs": [],
   "source": [
    "# Compare the performance of several classification models\n",
    "best_model = compare_models()"
   ]
  },
  {
   "cell_type": "code",
   "execution_count": null,
   "id": "e4611d72",
   "metadata": {},
   "outputs": [],
   "source": [
    "# print best_model parameters\n",
    "print(best_model)"
   ]
  },
  {
   "cell_type": "code",
   "execution_count": null,
   "id": "b3b7e03d",
   "metadata": {},
   "outputs": [],
   "source": [
    "# Create a logistic regression model\n",
    "lr = create_model('lr')"
   ]
  },
  {
   "cell_type": "code",
   "execution_count": null,
   "id": "4df3a312",
   "metadata": {},
   "outputs": [],
   "source": [
    "# Tune the hyperparameters of the logistic regression model\n",
    "tuned_lr = tune_model(lr)"
   ]
  },
  {
   "cell_type": "code",
   "execution_count": null,
   "id": "bd1efbd3",
   "metadata": {},
   "outputs": [],
   "source": [
    "# Evaluate the performance of the tuned logistic regression model\n",
    "plot_model(tuned_lr, plot='confusion_matrix')\n",
    "interpret_model(tuned_lr)"
   ]
  },
  {
   "cell_type": "code",
   "execution_count": null,
   "id": "dfadac29",
   "metadata": {},
   "outputs": [],
   "source": [
    "# Save the tuned logistic regression model to a file\n",
    "save_model(tuned_lr, 'tuned_lr_model')"
   ]
  },
  {
   "cell_type": "code",
   "execution_count": null,
   "id": "f1ba1de5",
   "metadata": {},
   "outputs": [],
   "source": []
  },
  {
   "cell_type": "code",
   "execution_count": null,
   "id": "dc454bba",
   "metadata": {},
   "outputs": [],
   "source": []
  },
  {
   "cell_type": "code",
   "execution_count": null,
   "id": "6ce3c18b",
   "metadata": {},
   "outputs": [],
   "source": []
  },
  {
   "cell_type": "code",
   "execution_count": null,
   "id": "1a981d7f",
   "metadata": {},
   "outputs": [],
   "source": []
  },
  {
   "cell_type": "code",
   "execution_count": null,
   "id": "6700e3a5",
   "metadata": {},
   "outputs": [],
   "source": []
  },
  {
   "cell_type": "code",
   "execution_count": null,
   "id": "d98be356",
   "metadata": {},
   "outputs": [],
   "source": [
    "import joblib\n",
    "joblib.dump(log,\"model\")"
   ]
  },
  {
   "cell_type": "code",
   "execution_count": null,
   "id": "f2d0ec99",
   "metadata": {},
   "outputs": [],
   "source": [
    "log.feature_importances_"
   ]
  },
  {
   "cell_type": "code",
   "execution_count": null,
   "id": "2945a07a",
   "metadata": {},
   "outputs": [],
   "source": [
    "rf.feature_importances_"
   ]
  },
  {
   "cell_type": "code",
   "execution_count": null,
   "id": "04ff1424",
   "metadata": {},
   "outputs": [],
   "source": []
  },
  {
   "cell_type": "code",
   "execution_count": null,
   "id": "7c59041e",
   "metadata": {},
   "outputs": [],
   "source": [
    "weights = pd.DataFrame(rf.feature_importances_,index=x.columns.values)"
   ]
  },
  {
   "cell_type": "code",
   "execution_count": null,
   "id": "d71e0f66",
   "metadata": {},
   "outputs": [],
   "source": [
    "weights"
   ]
  },
  {
   "cell_type": "code",
   "execution_count": null,
   "id": "01c92f49",
   "metadata": {},
   "outputs": [],
   "source": []
  },
  {
   "cell_type": "code",
   "execution_count": null,
   "id": "ff70e089",
   "metadata": {},
   "outputs": [],
   "source": []
  },
  {
   "cell_type": "code",
   "execution_count": null,
   "id": "0d6f33dd",
   "metadata": {},
   "outputs": [],
   "source": [
    "from xgboost import XGBClassifier\n",
    "xg = XGBClassifier()\n"
   ]
  },
  {
   "cell_type": "code",
   "execution_count": null,
   "id": "62103a30",
   "metadata": {},
   "outputs": [],
   "source": [
    "xg.fit(x_train,y_train)\n",
    "y_pred3 = xg.predict(x_test)"
   ]
  },
  {
   "cell_type": "code",
   "execution_count": null,
   "id": "423ceeb9",
   "metadata": {},
   "outputs": [],
   "source": [
    "x=df.drop('CHURN', axis=1)\n",
    "y = df['CHURN']"
   ]
  },
  {
   "cell_type": "code",
   "execution_count": null,
   "id": "38dea848",
   "metadata": {},
   "outputs": [],
   "source": []
  },
  {
   "cell_type": "code",
   "execution_count": null,
   "id": "560fc63b",
   "metadata": {},
   "outputs": [],
   "source": []
  },
  {
   "cell_type": "code",
   "execution_count": null,
   "id": "ef2cae49",
   "metadata": {},
   "outputs": [],
   "source": []
  },
  {
   "cell_type": "code",
   "execution_count": null,
   "id": "2f63c7be",
   "metadata": {},
   "outputs": [],
   "source": [
    "#Feature scaling using Standard Scaler\n",
    "# from sklearn.preprocessing import StandardScaler\n",
    "sc =StandardScaler()\n"
   ]
  },
  {
   "cell_type": "code",
   "execution_count": null,
   "id": "5a62d4fa",
   "metadata": {},
   "outputs": [],
   "source": [
    "x_train = sc.fit_transform(x_train)"
   ]
  },
  {
   "cell_type": "code",
   "execution_count": null,
   "id": "be6bf057",
   "metadata": {},
   "outputs": [],
   "source": [
    "x_test = sc.transform(x_test)"
   ]
  },
  {
   "cell_type": "code",
   "execution_count": null,
   "id": "906cdf78",
   "metadata": {},
   "outputs": [],
   "source": [
    "#Model using Logistic regression\n",
    "from sklearn.linear_model import LogisticRegression\n",
    "lr = LogisticRegression()\n",
    "lr.fit(x_train,y_train)"
   ]
  },
  {
   "cell_type": "code",
   "execution_count": null,
   "id": "0821ff04",
   "metadata": {},
   "outputs": [],
   "source": [
    "x_test = sc.transform(x_test)"
   ]
  },
  {
   "cell_type": "code",
   "execution_count": null,
   "id": "f82f9e05",
   "metadata": {},
   "outputs": [],
   "source": [
    "y_pred = lr.predict(x_test)"
   ]
  },
  {
   "cell_type": "code",
   "execution_count": null,
   "id": "53f50b4b",
   "metadata": {},
   "outputs": [],
   "source": [
    "from sklearn.metrics import accuracy_score,f1_score,precision_score,recall_score,confusion_matrix"
   ]
  },
  {
   "cell_type": "code",
   "execution_count": null,
   "id": "c002b9d0",
   "metadata": {},
   "outputs": [],
   "source": [
    "acc = accuracy_score(y_test, y_pred)\n",
    "prec = precision_score(y_test, y_pred)\n",
    "rec = recall_score(y_test, y_pred)\n",
    "f1 = f1_score(y_test, y_pred)\n",
    "\n",
    "results = pd.DataFrame([['Logistic Regression', acc, prec, rec, f1]],\n",
    "               columns = ['Model', 'Accuracy', 'Precision', 'Recall', 'F1 Score'])"
   ]
  },
  {
   "cell_type": "code",
   "execution_count": null,
   "id": "bc719ca5",
   "metadata": {},
   "outputs": [],
   "source": [
    "results"
   ]
  },
  {
   "cell_type": "code",
   "execution_count": null,
   "id": "37036794",
   "metadata": {},
   "outputs": [],
   "source": [
    "cm = confusion_matrix(y_pred,y_test)"
   ]
  },
  {
   "cell_type": "code",
   "execution_count": null,
   "id": "eb3dc947",
   "metadata": {},
   "outputs": [],
   "source": [
    "print(cm)"
   ]
  },
  {
   "cell_type": "code",
   "execution_count": null,
   "id": "dc8ae44f",
   "metadata": {},
   "outputs": [],
   "source": [
    "#cross validation\n",
    "from sklearn.model_selection import cross_val_score\n",
    "accuracies = cross_val_score(estimator=lr, X=x_train, y=y_train, cv=10)\n",
    "\n",
    "print(\"Accuracy is {:.2f} %\".format(accuracies.mean()*100))\n",
    "print(\"Standard Deviation is {:.2f} %\".format(accuracies.std()*100))"
   ]
  },
  {
   "cell_type": "code",
   "execution_count": null,
   "id": "cd5128dc",
   "metadata": {},
   "outputs": [],
   "source": [
    "#randomised search to find best parameters and builind the final model\n",
    "from sklearn.model_selection import RandomizedSearchCV\n",
    "\n",
    "parameters = {'penalty': ['l1','l2','elasticnet','none'],\n",
    "             'C': [0.25,0.30,0.40,0.50,0.60,0.55, 0.75,1.0,1.25,1.50,1.75,2.0,5.0,10.0],\n",
    "             'solver': ['newton-cg','saga','sag','lbfgs','liblinear']}\n",
    "random_search = RandomizedSearchCV(estimator = lr, param_distributions = parameters, n_iter=10,\n",
    "                                  scoring = 'roc_auc',n_jobs = -1,cv = 10, verbose = 3)\n"
   ]
  },
  {
   "cell_type": "code",
   "execution_count": null,
   "id": "e8b6928c",
   "metadata": {},
   "outputs": [],
   "source": [
    "random_search.fit(x_train, y_train)"
   ]
  },
  {
   "cell_type": "code",
   "execution_count": null,
   "id": "821aee6e",
   "metadata": {},
   "outputs": [],
   "source": [
    "random_search.best_estimator_"
   ]
  },
  {
   "cell_type": "code",
   "execution_count": null,
   "id": "e74bbe5f",
   "metadata": {},
   "outputs": [],
   "source": [
    "random_search.best_params_"
   ]
  },
  {
   "cell_type": "code",
   "execution_count": null,
   "id": "79166020",
   "metadata": {},
   "outputs": [],
   "source": [
    "#final Model\n",
    "from sklearn.linear_model import LogisticRegression\n",
    "final_model = LogisticRegression(solver = 'sag', penalty = 'l2', C = 0.3)\n",
    "final_model.fit(x_train,y_train)\n"
   ]
  },
  {
   "cell_type": "code",
   "execution_count": null,
   "id": "a8c8c0dc",
   "metadata": {},
   "outputs": [],
   "source": [
    "y_pred = final_model.predict(x_test)"
   ]
  },
  {
   "cell_type": "code",
   "execution_count": null,
   "id": "368d0636",
   "metadata": {},
   "outputs": [],
   "source": [
    "from sklearn.metrics import accuracy_score,f1_score,precision_score,recall_score,confusion_matrix\n",
    "acc = accuracy_score(y_test, y_pred)\n",
    "prec = precision_score(y_test, y_pred)\n",
    "rec = recall_score(y_test, y_pred)\n",
    "f1 = f1_score(y_test, y_pred)\n",
    "\n",
    "results = pd.DataFrame([['Logistic Regression', acc, prec, rec, f1]],\n",
    "               columns = ['Model', 'Accuracy', 'Precision', 'Recall', 'F1 Score'])\n"
   ]
  },
  {
   "cell_type": "code",
   "execution_count": null,
   "id": "2caad969",
   "metadata": {},
   "outputs": [],
   "source": [
    "results"
   ]
  },
  {
   "cell_type": "code",
   "execution_count": null,
   "id": "0de9f0b0",
   "metadata": {},
   "outputs": [],
   "source": [
    "cm = confusion_matrix(y_pred,y_test)\n",
    "print(cm)"
   ]
  },
  {
   "cell_type": "code",
   "execution_count": null,
   "id": "44009662",
   "metadata": {},
   "outputs": [],
   "source": [
    "from sklearn.model_selection import cross_val_score\n",
    "accuracies = cross_val_score(estimator=final_model, X=x_train, y=y_train, cv=10)\n",
    "print(\"Accuracy is {:.2f} %\".format(accuracies.mean()*100))\n",
    "print(\"Standard Deviation is {:.2f} %\".format(accuracies.std()*100))"
   ]
  },
  {
   "cell_type": "code",
   "execution_count": null,
   "id": "fbecb71f",
   "metadata": {},
   "outputs": [],
   "source": []
  },
  {
   "cell_type": "code",
   "execution_count": null,
   "id": "55e16e87",
   "metadata": {},
   "outputs": [],
   "source": []
  },
  {
   "cell_type": "code",
   "execution_count": null,
   "id": "8f47fdd5",
   "metadata": {},
   "outputs": [],
   "source": []
  }
 ],
 "metadata": {
  "kernelspec": {
   "display_name": "Python [conda env:python3]",
   "language": "python",
   "name": "conda-env-python3-py"
  },
  "language_info": {
   "codemirror_mode": {
    "name": "ipython",
    "version": 3
   },
   "file_extension": ".py",
   "mimetype": "text/x-python",
   "name": "python",
   "nbconvert_exporter": "python",
   "pygments_lexer": "ipython3",
   "version": "3.6.9"
  }
 },
 "nbformat": 4,
 "nbformat_minor": 5
}
