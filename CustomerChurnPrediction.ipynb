{
 "cells": [
  {
   "cell_type": "code",
   "execution_count": 1,
   "id": "acbba12b",
   "metadata": {},
   "outputs": [],
   "source": [
    "import pandas as pd\n",
    "import numpy as np\n",
    "import plotly.express as px\n",
    "import seaborn as sns"
   ]
  },
  {
   "cell_type": "markdown",
   "id": "2d76149a",
   "metadata": {},
   "source": [
    "### Load data"
   ]
  },
  {
   "cell_type": "code",
   "execution_count": null,
   "id": "861c18b6",
   "metadata": {},
   "outputs": [
    {
     "data": {
      "text/html": [
       "<div>\n",
       "<style scoped>\n",
       "    .dataframe tbody tr th:only-of-type {\n",
       "        vertical-align: middle;\n",
       "    }\n",
       "\n",
       "    .dataframe tbody tr th {\n",
       "        vertical-align: top;\n",
       "    }\n",
       "\n",
       "    .dataframe thead th {\n",
       "        text-align: right;\n",
       "    }\n",
       "</style>\n",
       "<table border=\"1\" class=\"dataframe\">\n",
       "  <thead>\n",
       "    <tr style=\"text-align: right;\">\n",
       "      <th></th>\n",
       "      <th>TMB_CUST_ID</th>\n",
       "      <th>PCI_CARD_NMBR</th>\n",
       "      <th>CHURN</th>\n",
       "      <th>FLAG_MIB_ACT</th>\n",
       "      <th>CUST_SEGMENT</th>\n",
       "      <th>CUST_SEGMENT_RANGE</th>\n",
       "      <th>OCCUPATION_GRP</th>\n",
       "      <th>SEGMENT_OCC</th>\n",
       "      <th>MARITAL_STATUS_GRP</th>\n",
       "      <th>INCOME</th>\n",
       "      <th>...</th>\n",
       "      <th>SPENDING11</th>\n",
       "      <th>SPENDING12</th>\n",
       "      <th>RATIO45</th>\n",
       "      <th>RATIO56</th>\n",
       "      <th>RATIO67</th>\n",
       "      <th>RATIO78</th>\n",
       "      <th>RATIO89</th>\n",
       "      <th>RATIO90</th>\n",
       "      <th>RATIO01</th>\n",
       "      <th>RATIO12</th>\n",
       "    </tr>\n",
       "  </thead>\n",
       "  <tbody>\n",
       "    <tr>\n",
       "      <th>0</th>\n",
       "      <td>001100000000000000000001284146</td>\n",
       "      <td>405016000102043000</td>\n",
       "      <td>0</td>\n",
       "      <td>1.0</td>\n",
       "      <td>5</td>\n",
       "      <td>01) AFFLUENT</td>\n",
       "      <td>08) พ่อบ้าน/แม่บ้าน [Housewife]</td>\n",
       "      <td>OTHER</td>\n",
       "      <td>01) SINGLE</td>\n",
       "      <td>179578</td>\n",
       "      <td>...</td>\n",
       "      <td>NaN</td>\n",
       "      <td>NaN</td>\n",
       "      <td>NaN</td>\n",
       "      <td>NaN</td>\n",
       "      <td>NaN</td>\n",
       "      <td>1.288848</td>\n",
       "      <td>2.153331</td>\n",
       "      <td>0.920746</td>\n",
       "      <td>NaN</td>\n",
       "      <td>NaN</td>\n",
       "    </tr>\n",
       "    <tr>\n",
       "      <th>1</th>\n",
       "      <td>001100000000000000000011095423</td>\n",
       "      <td>405016000102052000</td>\n",
       "      <td>0</td>\n",
       "      <td>1.0</td>\n",
       "      <td>6</td>\n",
       "      <td>02) MIDINCOME</td>\n",
       "      <td>03) พนักงานเอกชน [Private Employee]</td>\n",
       "      <td>PRIVATE EMPLOYEE</td>\n",
       "      <td>01) SINGLE</td>\n",
       "      <td>98000</td>\n",
       "      <td>...</td>\n",
       "      <td>NaN</td>\n",
       "      <td>1060.00</td>\n",
       "      <td>NaN</td>\n",
       "      <td>NaN</td>\n",
       "      <td>NaN</td>\n",
       "      <td>NaN</td>\n",
       "      <td>NaN</td>\n",
       "      <td>NaN</td>\n",
       "      <td>NaN</td>\n",
       "      <td>NaN</td>\n",
       "    </tr>\n",
       "    <tr>\n",
       "      <th>2</th>\n",
       "      <td>001100000000000000000011160366</td>\n",
       "      <td>405016000102061000</td>\n",
       "      <td>0</td>\n",
       "      <td>1.0</td>\n",
       "      <td>5</td>\n",
       "      <td>01) AFFLUENT</td>\n",
       "      <td>01) เจ้าของกิจการ  [Owner Operator]</td>\n",
       "      <td>SMALL BUSINESS OWNER</td>\n",
       "      <td>01) SINGLE</td>\n",
       "      <td>100000</td>\n",
       "      <td>...</td>\n",
       "      <td>26268.13</td>\n",
       "      <td>1683.47</td>\n",
       "      <td>NaN</td>\n",
       "      <td>NaN</td>\n",
       "      <td>1.400546</td>\n",
       "      <td>NaN</td>\n",
       "      <td>NaN</td>\n",
       "      <td>NaN</td>\n",
       "      <td>NaN</td>\n",
       "      <td>15.603563</td>\n",
       "    </tr>\n",
       "    <tr>\n",
       "      <th>3</th>\n",
       "      <td>001100000000000000000008216707</td>\n",
       "      <td>405016000102070000</td>\n",
       "      <td>0</td>\n",
       "      <td>1.0</td>\n",
       "      <td>5</td>\n",
       "      <td>01) AFFLUENT</td>\n",
       "      <td>01) เจ้าของกิจการ  [Owner Operator]</td>\n",
       "      <td>SMALL BUSINESS OWNER</td>\n",
       "      <td>01) SINGLE</td>\n",
       "      <td>92000</td>\n",
       "      <td>...</td>\n",
       "      <td>24448.34</td>\n",
       "      <td>71931.67</td>\n",
       "      <td>1.000000</td>\n",
       "      <td>1.000000</td>\n",
       "      <td>1.000000</td>\n",
       "      <td>1.000000</td>\n",
       "      <td>1.000000</td>\n",
       "      <td>1.000000</td>\n",
       "      <td>0.081396</td>\n",
       "      <td>0.339883</td>\n",
       "    </tr>\n",
       "    <tr>\n",
       "      <th>4</th>\n",
       "      <td>001100000000000000000010433854</td>\n",
       "      <td>405016000102088000</td>\n",
       "      <td>0</td>\n",
       "      <td>1.0</td>\n",
       "      <td>5</td>\n",
       "      <td>01) AFFLUENT</td>\n",
       "      <td>99) NA</td>\n",
       "      <td>OTHER</td>\n",
       "      <td>02) MARRIED</td>\n",
       "      <td>100000</td>\n",
       "      <td>...</td>\n",
       "      <td>102557.59</td>\n",
       "      <td>139991.70</td>\n",
       "      <td>1.774443</td>\n",
       "      <td>0.673621</td>\n",
       "      <td>1.640631</td>\n",
       "      <td>1.139531</td>\n",
       "      <td>0.842415</td>\n",
       "      <td>0.807738</td>\n",
       "      <td>1.382081</td>\n",
       "      <td>0.732598</td>\n",
       "    </tr>\n",
       "  </tbody>\n",
       "</table>\n",
       "<p>5 rows × 83 columns</p>\n",
       "</div>"
      ],
      "text/plain": [
       "                      TMB_CUST_ID       PCI_CARD_NMBR  CHURN  FLAG_MIB_ACT  \\\n",
       "0  001100000000000000000001284146  405016000102043000      0           1.0   \n",
       "1  001100000000000000000011095423  405016000102052000      0           1.0   \n",
       "2  001100000000000000000011160366  405016000102061000      0           1.0   \n",
       "3  001100000000000000000008216707  405016000102070000      0           1.0   \n",
       "4  001100000000000000000010433854  405016000102088000      0           1.0   \n",
       "\n",
       "   CUST_SEGMENT CUST_SEGMENT_RANGE                       OCCUPATION_GRP  \\\n",
       "0             5       01) AFFLUENT      08) พ่อบ้าน/แม่บ้าน [Housewife]   \n",
       "1             6      02) MIDINCOME  03) พนักงานเอกชน [Private Employee]   \n",
       "2             5       01) AFFLUENT  01) เจ้าของกิจการ  [Owner Operator]   \n",
       "3             5       01) AFFLUENT  01) เจ้าของกิจการ  [Owner Operator]   \n",
       "4             5       01) AFFLUENT                               99) NA   \n",
       "\n",
       "            SEGMENT_OCC MARITAL_STATUS_GRP  INCOME  ... SPENDING11 SPENDING12  \\\n",
       "0                 OTHER         01) SINGLE  179578  ...        NaN        NaN   \n",
       "1      PRIVATE EMPLOYEE         01) SINGLE   98000  ...        NaN    1060.00   \n",
       "2  SMALL BUSINESS OWNER         01) SINGLE  100000  ...   26268.13    1683.47   \n",
       "3  SMALL BUSINESS OWNER         01) SINGLE   92000  ...   24448.34   71931.67   \n",
       "4                 OTHER        02) MARRIED  100000  ...  102557.59  139991.70   \n",
       "\n",
       "    RATIO45   RATIO56   RATIO67   RATIO78   RATIO89   RATIO90   RATIO01  \\\n",
       "0       NaN       NaN       NaN  1.288848  2.153331  0.920746       NaN   \n",
       "1       NaN       NaN       NaN       NaN       NaN       NaN       NaN   \n",
       "2       NaN       NaN  1.400546       NaN       NaN       NaN       NaN   \n",
       "3  1.000000  1.000000  1.000000  1.000000  1.000000  1.000000  0.081396   \n",
       "4  1.774443  0.673621  1.640631  1.139531  0.842415  0.807738  1.382081   \n",
       "\n",
       "     RATIO12  \n",
       "0        NaN  \n",
       "1        NaN  \n",
       "2  15.603563  \n",
       "3   0.339883  \n",
       "4   0.732598  \n",
       "\n",
       "[5 rows x 83 columns]"
      ]
     },
     "execution_count": 3,
     "metadata": {},
     "output_type": "execute_result"
    }
   ],
   "source": [
    "#Read csv data\n",
    "df=pd.read_csv('final_dataset.csv')\n",
    "df.head()"
   ]
  },
  {
   "cell_type": "code",
   "execution_count": null,
   "id": "11ea1269",
   "metadata": {},
   "outputs": [
    {
     "data": {
      "text/plain": [
       "Index(['TMB_CUST_ID', 'PCI_CARD_NMBR', 'CHURN', 'FLAG_MIB_ACT', 'CUST_SEGMENT',\n",
       "       'CUST_SEGMENT_RANGE', 'OCCUPATION_GRP', 'SEGMENT_OCC',\n",
       "       'MARITAL_STATUS_GRP', 'INCOME', 'INCOME_RANGE', 'EDUCATION_LEVEL',\n",
       "       'PRODUCT_CODE_DETAIL', 'OPENED_DATE', 'TIME_CC_HOLDER', 'CUR_BAL_POINT',\n",
       "       'GENDER_CD', 'SALARY', 'AGE', 'AGE_RANGE', 'OCC_GROUP', 'CATEGORY_X4',\n",
       "       'CATEGORY_X5', 'CATEGORY_X6', 'CATEGORY_X7', 'CATEGORY_X8',\n",
       "       'CATEGORY_X9', 'CATEGORY_X10', 'CATEGORY_X11', 'CATEGORY_X12',\n",
       "       'TMB_AVAIL_CREDIT04', 'TMB_AVAIL_CREDIT05', 'TMB_AVAIL_CREDIT06',\n",
       "       'TMB_AVAIL_CREDIT07', 'TMB_AVAIL_CREDIT08', 'TMB_AVAIL_CREDIT09',\n",
       "       'TMB_AVAIL_CREDIT10', 'TMB_AVAIL_CREDIT11', 'TMB_AVAIL_CREDIT12',\n",
       "       'TMB_CRLIMIT04', 'TMB_CRLIMIT05', 'TMB_CRLIMIT06', 'TMB_CRLIMIT07',\n",
       "       'TMB_CRLIMIT08', 'TMB_CRLIMIT09', 'TMB_CRLIMIT10', 'TMB_CRLIMIT11',\n",
       "       'TMB_CRLIMIT12', 'PERCENT_CREDIT04', 'PERCENT_CREDIT05',\n",
       "       'PERCENT_CREDIT06', 'PERCENT_CREDIT07', 'PERCENT_CREDIT08',\n",
       "       'PERCENT_CREDIT09', 'PERCENT_CREDIT10', 'PERCENT_CREDIT11',\n",
       "       'PERCENT_CREDIT12', 'FREQUENT04', 'FREQUENT05', 'FREQUENT06',\n",
       "       'FREQUENT07', 'FREQUENT08', 'FREQUENT09', 'FREQUENT10', 'FREQUENT11',\n",
       "       'FREQUENT12', 'SPENDING04', 'SPENDING05', 'SPENDING06', 'SPENDING07',\n",
       "       'SPENDING08', 'SPENDING09', 'SPENDING10', 'SPENDING11', 'SPENDING12',\n",
       "       'RATIO45', 'RATIO56', 'RATIO67', 'RATIO78', 'RATIO89', 'RATIO90',\n",
       "       'RATIO01', 'RATIO12'],\n",
       "      dtype='object')"
      ]
     },
     "execution_count": 4,
     "metadata": {},
     "output_type": "execute_result"
    }
   ],
   "source": [
    "df.columns"
   ]
  },
  {
   "cell_type": "code",
   "execution_count": null,
   "id": "d3456871",
   "metadata": {},
   "outputs": [
    {
     "name": "stdout",
     "output_type": "stream",
     "text": [
      "<class 'pandas.core.frame.DataFrame'>\n",
      "RangeIndex: 327651 entries, 0 to 327650\n",
      "Data columns (total 83 columns):\n",
      " #   Column               Non-Null Count   Dtype  \n",
      "---  ------               --------------   -----  \n",
      " 0   TMB_CUST_ID          327651 non-null  object \n",
      " 1   PCI_CARD_NMBR        327651 non-null  int64  \n",
      " 2   CHURN                327651 non-null  int64  \n",
      " 3   FLAG_MIB_ACT         292929 non-null  float64\n",
      " 4   CUST_SEGMENT         327651 non-null  int64  \n",
      " 5   CUST_SEGMENT_RANGE   327651 non-null  object \n",
      " 6   OCCUPATION_GRP       327651 non-null  object \n",
      " 7   SEGMENT_OCC          327651 non-null  object \n",
      " 8   MARITAL_STATUS_GRP   327651 non-null  object \n",
      " 9   INCOME               327651 non-null  int64  \n",
      " 10  INCOME_RANGE         327651 non-null  object \n",
      " 11  EDUCATION_LEVEL      327651 non-null  object \n",
      " 12  PRODUCT_CODE_DETAIL  327451 non-null  object \n",
      " 13  OPENED_DATE          327451 non-null  object \n",
      " 14  TIME_CC_HOLDER       327451 non-null  float64\n",
      " 15  CUR_BAL_POINT        230980 non-null  float64\n",
      " 16  GENDER_CD            327650 non-null  object \n",
      " 17  SALARY               327651 non-null  int64  \n",
      " 18  AGE                  327651 non-null  int64  \n",
      " 19  AGE_RANGE            327651 non-null  object \n",
      " 20  OCC_GROUP            326455 non-null  float64\n",
      " 21  CATEGORY_X4          190443 non-null  object \n",
      " 22  CATEGORY_X5          192318 non-null  object \n",
      " 23  CATEGORY_X6          193415 non-null  object \n",
      " 24  CATEGORY_X7          196065 non-null  object \n",
      " 25  CATEGORY_X8          196682 non-null  object \n",
      " 26  CATEGORY_X9          197276 non-null  object \n",
      " 27  CATEGORY_X10         201877 non-null  object \n",
      " 28  CATEGORY_X11         202564 non-null  object \n",
      " 29  CATEGORY_X12         208570 non-null  object \n",
      " 30  TMB_AVAIL_CREDIT04   301790 non-null  float64\n",
      " 31  TMB_AVAIL_CREDIT05   302908 non-null  float64\n",
      " 32  TMB_AVAIL_CREDIT06   304132 non-null  float64\n",
      " 33  TMB_AVAIL_CREDIT07   301790 non-null  float64\n",
      " 34  TMB_AVAIL_CREDIT08   301790 non-null  float64\n",
      " 35  TMB_AVAIL_CREDIT09   301790 non-null  float64\n",
      " 36  TMB_AVAIL_CREDIT10   320504 non-null  float64\n",
      " 37  TMB_AVAIL_CREDIT11   322107 non-null  float64\n",
      " 38  TMB_AVAIL_CREDIT12   323499 non-null  float64\n",
      " 39  TMB_CRLIMIT04        301790 non-null  float64\n",
      " 40  TMB_CRLIMIT05        302908 non-null  float64\n",
      " 41  TMB_CRLIMIT06        304132 non-null  float64\n",
      " 42  TMB_CRLIMIT07        301790 non-null  float64\n",
      " 43  TMB_CRLIMIT08        301790 non-null  float64\n",
      " 44  TMB_CRLIMIT09        301790 non-null  float64\n",
      " 45  TMB_CRLIMIT10        311467 non-null  float64\n",
      " 46  TMB_CRLIMIT11        313033 non-null  float64\n",
      " 47  TMB_CRLIMIT12        314402 non-null  float64\n",
      " 48  PERCENT_CREDIT04     301790 non-null  float64\n",
      " 49  PERCENT_CREDIT05     302908 non-null  float64\n",
      " 50  PERCENT_CREDIT06     304132 non-null  float64\n",
      " 51  PERCENT_CREDIT07     301790 non-null  float64\n",
      " 52  PERCENT_CREDIT08     301790 non-null  float64\n",
      " 53  PERCENT_CREDIT09     301790 non-null  float64\n",
      " 54  PERCENT_CREDIT10     311467 non-null  float64\n",
      " 55  PERCENT_CREDIT11     313033 non-null  float64\n",
      " 56  PERCENT_CREDIT12     314402 non-null  float64\n",
      " 57  FREQUENT04           326266 non-null  float64\n",
      " 58  FREQUENT05           326266 non-null  float64\n",
      " 59  FREQUENT06           326266 non-null  float64\n",
      " 60  FREQUENT07           326266 non-null  float64\n",
      " 61  FREQUENT08           326266 non-null  float64\n",
      " 62  FREQUENT09           326266 non-null  float64\n",
      " 63  FREQUENT10           326266 non-null  float64\n",
      " 64  FREQUENT11           326266 non-null  float64\n",
      " 65  FREQUENT12           326266 non-null  float64\n",
      " 66  SPENDING04           222082 non-null  float64\n",
      " 67  SPENDING05           224907 non-null  float64\n",
      " 68  SPENDING06           226928 non-null  float64\n",
      " 69  SPENDING07           230437 non-null  float64\n",
      " 70  SPENDING08           232276 non-null  float64\n",
      " 71  SPENDING09           234265 non-null  float64\n",
      " 72  SPENDING10           239012 non-null  float64\n",
      " 73  SPENDING11           266210 non-null  float64\n",
      " 74  SPENDING12           272646 non-null  float64\n",
      " 75  RATIO45              203267 non-null  float64\n",
      " 76  RATIO56              205596 non-null  float64\n",
      " 77  RATIO67              207649 non-null  float64\n",
      " 78  RATIO78              209596 non-null  float64\n",
      " 79  RATIO89              210149 non-null  float64\n",
      " 80  RATIO90              212958 non-null  float64\n",
      " 81  RATIO01              224392 non-null  float64\n",
      " 82  RATIO12              251577 non-null  float64\n",
      "dtypes: float64(57), int64(6), object(20)\n",
      "memory usage: 207.5+ MB\n"
     ]
    }
   ],
   "source": [
    "df.info()"
   ]
  },
  {
   "cell_type": "markdown",
   "id": "4d50d1aa",
   "metadata": {},
   "source": [
    "### Convert / Data Cleansing"
   ]
  },
  {
   "cell_type": "code",
   "execution_count": null,
   "id": "8ddc1cda",
   "metadata": {},
   "outputs": [],
   "source": [
    "#df[\"TotalCharges\"] = pd.to_numeric(df[\"TotalCharges\"], errors=\"coerce\")"
   ]
  },
  {
   "cell_type": "code",
   "execution_count": null,
   "id": "21c780ce",
   "metadata": {},
   "outputs": [
    {
     "name": "stdout",
     "output_type": "stream",
     "text": [
      "<class 'pandas.core.frame.DataFrame'>\n",
      "RangeIndex: 327651 entries, 0 to 327650\n",
      "Data columns (total 83 columns):\n",
      " #   Column               Non-Null Count   Dtype  \n",
      "---  ------               --------------   -----  \n",
      " 0   TMB_CUST_ID          327651 non-null  object \n",
      " 1   PCI_CARD_NMBR        327651 non-null  int64  \n",
      " 2   CHURN                327651 non-null  int64  \n",
      " 3   FLAG_MIB_ACT         292929 non-null  float64\n",
      " 4   CUST_SEGMENT         327651 non-null  int64  \n",
      " 5   CUST_SEGMENT_RANGE   327651 non-null  object \n",
      " 6   OCCUPATION_GRP       327651 non-null  object \n",
      " 7   SEGMENT_OCC          327651 non-null  object \n",
      " 8   MARITAL_STATUS_GRP   327651 non-null  object \n",
      " 9   INCOME               327651 non-null  int64  \n",
      " 10  INCOME_RANGE         327651 non-null  object \n",
      " 11  EDUCATION_LEVEL      327651 non-null  object \n",
      " 12  PRODUCT_CODE_DETAIL  327451 non-null  object \n",
      " 13  OPENED_DATE          327451 non-null  object \n",
      " 14  TIME_CC_HOLDER       327451 non-null  float64\n",
      " 15  CUR_BAL_POINT        230980 non-null  float64\n",
      " 16  GENDER_CD            327650 non-null  object \n",
      " 17  SALARY               327651 non-null  int64  \n",
      " 18  AGE                  327651 non-null  int64  \n",
      " 19  AGE_RANGE            327651 non-null  object \n",
      " 20  OCC_GROUP            326455 non-null  float64\n",
      " 21  CATEGORY_X4          190443 non-null  object \n",
      " 22  CATEGORY_X5          192318 non-null  object \n",
      " 23  CATEGORY_X6          193415 non-null  object \n",
      " 24  CATEGORY_X7          196065 non-null  object \n",
      " 25  CATEGORY_X8          196682 non-null  object \n",
      " 26  CATEGORY_X9          197276 non-null  object \n",
      " 27  CATEGORY_X10         201877 non-null  object \n",
      " 28  CATEGORY_X11         202564 non-null  object \n",
      " 29  CATEGORY_X12         208570 non-null  object \n",
      " 30  TMB_AVAIL_CREDIT04   301790 non-null  float64\n",
      " 31  TMB_AVAIL_CREDIT05   302908 non-null  float64\n",
      " 32  TMB_AVAIL_CREDIT06   304132 non-null  float64\n",
      " 33  TMB_AVAIL_CREDIT07   301790 non-null  float64\n",
      " 34  TMB_AVAIL_CREDIT08   301790 non-null  float64\n",
      " 35  TMB_AVAIL_CREDIT09   301790 non-null  float64\n",
      " 36  TMB_AVAIL_CREDIT10   320504 non-null  float64\n",
      " 37  TMB_AVAIL_CREDIT11   322107 non-null  float64\n",
      " 38  TMB_AVAIL_CREDIT12   323499 non-null  float64\n",
      " 39  TMB_CRLIMIT04        301790 non-null  float64\n",
      " 40  TMB_CRLIMIT05        302908 non-null  float64\n",
      " 41  TMB_CRLIMIT06        304132 non-null  float64\n",
      " 42  TMB_CRLIMIT07        301790 non-null  float64\n",
      " 43  TMB_CRLIMIT08        301790 non-null  float64\n",
      " 44  TMB_CRLIMIT09        301790 non-null  float64\n",
      " 45  TMB_CRLIMIT10        311467 non-null  float64\n",
      " 46  TMB_CRLIMIT11        313033 non-null  float64\n",
      " 47  TMB_CRLIMIT12        314402 non-null  float64\n",
      " 48  PERCENT_CREDIT04     301790 non-null  float64\n",
      " 49  PERCENT_CREDIT05     302908 non-null  float64\n",
      " 50  PERCENT_CREDIT06     304132 non-null  float64\n",
      " 51  PERCENT_CREDIT07     301790 non-null  float64\n",
      " 52  PERCENT_CREDIT08     301790 non-null  float64\n",
      " 53  PERCENT_CREDIT09     301790 non-null  float64\n",
      " 54  PERCENT_CREDIT10     311467 non-null  float64\n",
      " 55  PERCENT_CREDIT11     313033 non-null  float64\n",
      " 56  PERCENT_CREDIT12     314402 non-null  float64\n",
      " 57  FREQUENT04           326266 non-null  float64\n",
      " 58  FREQUENT05           326266 non-null  float64\n",
      " 59  FREQUENT06           326266 non-null  float64\n",
      " 60  FREQUENT07           326266 non-null  float64\n",
      " 61  FREQUENT08           326266 non-null  float64\n",
      " 62  FREQUENT09           326266 non-null  float64\n",
      " 63  FREQUENT10           326266 non-null  float64\n",
      " 64  FREQUENT11           326266 non-null  float64\n",
      " 65  FREQUENT12           326266 non-null  float64\n",
      " 66  SPENDING04           222082 non-null  float64\n",
      " 67  SPENDING05           224907 non-null  float64\n",
      " 68  SPENDING06           226928 non-null  float64\n",
      " 69  SPENDING07           230437 non-null  float64\n",
      " 70  SPENDING08           232276 non-null  float64\n",
      " 71  SPENDING09           234265 non-null  float64\n",
      " 72  SPENDING10           239012 non-null  float64\n",
      " 73  SPENDING11           266210 non-null  float64\n",
      " 74  SPENDING12           272646 non-null  float64\n",
      " 75  RATIO45              203267 non-null  float64\n",
      " 76  RATIO56              205596 non-null  float64\n",
      " 77  RATIO67              207649 non-null  float64\n",
      " 78  RATIO78              209596 non-null  float64\n",
      " 79  RATIO89              210149 non-null  float64\n",
      " 80  RATIO90              212958 non-null  float64\n",
      " 81  RATIO01              224392 non-null  float64\n",
      " 82  RATIO12              251577 non-null  float64\n",
      "dtypes: float64(57), int64(6), object(20)\n",
      "memory usage: 207.5+ MB\n"
     ]
    }
   ],
   "source": [
    "df.info()"
   ]
  },
  {
   "cell_type": "code",
   "execution_count": null,
   "id": "44ee9c76",
   "metadata": {},
   "outputs": [
    {
     "data": {
      "text/plain": [
       "<Axes: xlabel='CHURN', ylabel='count'>"
      ]
     },
     "execution_count": 8,
     "metadata": {},
     "output_type": "execute_result"
    },
    {
     "data": {
      "image/png": "[encoded data removed]",
      "text/plain": [
       "<Figure size 640x480 with 1 Axes>"
      ]
     },
     "metadata": {},
     "output_type": "display_data"
    }
   ],
   "source": [
    "sns.countplot(x='CHURN', data=df)"
   ]
  },
  {
   "cell_type": "code",
   "execution_count": null,
   "id": "2934b928",
   "metadata": {},
   "outputs": [
    {
     "data": {
      "text/plain": [
       "0    323886\n",
       "1      3765\n",
       "Name: CHURN, dtype: int64"
      ]
     },
     "execution_count": 9,
     "metadata": {},
     "output_type": "execute_result"
    }
   ],
   "source": [
    "df['CHURN'].value_counts()"
   ]
  },
  {
   "cell_type": "markdown",
   "id": "3da96f65",
   "metadata": {},
   "source": [
    "โดยข้อมูลที่เราต้องการ Predict คือ Column Churn ที่หมายถึงตัวที่ระบุว่า ลูกค้าเลิกซื้อสินค้าหรือไม่ Yes = ยกเลิก, No = ไม่ยกเลิก ถ้าดูกราฟ จะเห็นว่า Data เป็น Imbalance Dataset หรือ Yes / No มีจำนวน Record ที่แตกต่างกันนั่นเอง"
   ]
  },
  {
   "cell_type": "code",
   "execution_count": null,
   "id": "85dd1904",
   "metadata": {
    "scrolled": true
   },
   "outputs": [],
   "source": [
    "df1 = df.copy()\n",
    "df1.dtypes "
   ]
  },
  {
   "cell_type": "code",
   "execution_count": null,
   "id": "2673f484",
   "metadata": {},
   "outputs": [],
   "source": [
    "from sklearn.preprocessing import LabelEncoder\n",
    "label = LabelEncoder()\n",
    "\n"
   ]
  },
  {
   "cell_type": "code",
   "execution_count": null,
   "id": "29196c62",
   "metadata": {},
   "outputs": [],
   "source": [
    "#sex columnd 35678 101112-18\n",
    "df1.iloc[:,4] = label.fit_transform(df1.iloc[:,4].values)\n",
    "df1.iloc[:,6] = label.fit_transform(df1.iloc[:,6].values)\n",
    "df1.iloc[:,7] = label.fit_transform(df1.iloc[:,7].values)\n",
    "df1.iloc[:,8] = label.fit_transform(df1.iloc[:,8].values)\n",
    "df1.iloc[:,9] = label.fit_transform(df1.iloc[:,9].values)\n",
    "df1.iloc[:,11] = label.fit_transform(df1.iloc[:,11].values)\n",
    "df1.iloc[:,12] = label.fit_transform(df1.iloc[:,12].values)\n",
    "df1.iloc[:,13] = label.fit_transform(df1.iloc[:,13].values)\n",
    "df1.iloc[:,14] = label.fit_transform(df1.iloc[:,14].values)\n",
    "df1.iloc[:,15] = label.fit_transform(df1.iloc[:,15].values)\n",
    "df1.iloc[:,16] = label.fit_transform(df1.iloc[:,16].values)\n",
    "df1.iloc[:,17] = label.fit_transform(df1.iloc[:,17].values)\n",
    "df1.iloc[:,18] = label.fit_transform(df1.iloc[:,18].values)\n",
    "df1.iloc[:,19] = label.fit_transform(df1.iloc[:,19].values)\n"
   ]
  },
  {
   "cell_type": "code",
   "execution_count": null,
   "id": "626febaf",
   "metadata": {},
   "outputs": [],
   "source": [
    "print(df['AGE_RANGE'].unique())\n",
    "print(df1['AGE_RANGE'].unique())"
   ]
  },
  {
   "cell_type": "code",
   "execution_count": null,
   "id": "be3ec025",
   "metadata": {},
   "outputs": [],
   "source": [
    "df1.dtypes"
   ]
  },
  {
   "cell_type": "markdown",
   "id": "0e608927",
   "metadata": {},
   "source": [
    "### PyCaret Setup"
   ]
  },
  {
   "cell_type": "markdown",
   "id": "646a6a6b",
   "metadata": {},
   "source": [
    "Clean data พอเป็นพิธี เดี๋ยวเรามาลองใช้ PyCaret ในการสร้าง Model ดูครับ ใช้ Code ข้างล่าง แล้วก็ตรวจสอบ Data Type ถ้า OK แล้วก็กด Enter ในกล่อง input ใต้ ตารางครับ ตัว PyCaret ก็จะเริ่ม Train Model ให้เราทันที (ตรงกล่องสีฟ้าๆ ในรูป)\n",
    "\n",
    "ถ้าสังเกตใน setup ผมใส่ Parameter ให้ทำการ normalize data ด้วย ให้ Remove outlier แก้ไข imbalance data และให้ ignore field customerID ที่ไม่ได้มีผลต่อการ Train Model ครับ"
   ]
  },
  {
   "cell_type": "code",
   "execution_count": null,
   "id": "f5b3e882",
   "metadata": {},
   "outputs": [],
   "source": [
    "X = df1.drop(['PCI_CARD_NMBR','TMB_CUST_ID','AGE','CUST_SEGMENT','INCOME','OPENED_DATE','SPENDING04','SPENDING05','SPENDING06',\n",
    "                        'SPENDING07','SPENDING08','SPENDING09','TMB_AVAIL_CREDIT04','TMB_AVAIL_CREDIT05',\n",
    "                        'TMB_AVAIL_CREDIT06','TMB_AVAIL_CREDIT07','TMB_AVAIL_CREDIT08','TMB_AVAIL_CREDIT09','TMB_CRLIMIT04'\n",
    "                        ,'TMB_CRLIMIT05','TMB_CRLIMIT06','TMB_CRLIMIT07','TMB_CRLIMIT08','TMB_CRLIMIT09','CHURN_Y'], axis=1)\n",
    "y = df1['CHURN_Y']\n",
    "from imblearn.over_sampling import RandomOverSampler\n",
    "ros = RandomOverSampler(random_state=8982)\n",
    "X_resampled, y_resampled = ros.fit_resample(X, y)"
   ]
  },
  {
   "cell_type": "code",
   "execution_count": null,
   "id": "26d0088b",
   "metadata": {},
   "outputs": [],
   "source": []
  },
  {
   "cell_type": "code",
   "execution_count": null,
   "id": "b7773484",
   "metadata": {},
   "outputs": [],
   "source": [
    "ros_dataset = X_resampled\n",
    "ros_dataset['CHURN_Y'] = y_resampled\n"
   ]
  },
  {
   "cell_type": "code",
   "execution_count": null,
   "id": "c6959681",
   "metadata": {
    "scrolled": true
   },
   "outputs": [],
   "source": [
    "sns.countplot(x='CHURN_Y', data=ros_dataset)"
   ]
  },
  {
   "cell_type": "code",
   "execution_count": null,
   "id": "83b40e02",
   "metadata": {},
   "outputs": [],
   "source": [
    "ros_dataset.dtypes"
   ]
  },
  {
   "cell_type": "code",
   "execution_count": null,
   "id": "6fc7857a",
   "metadata": {
    "scrolled": false
   },
   "outputs": [],
   "source": [
    "ros_dataset['CHURN_Y'].value_counts()"
   ]
  },
  {
   "cell_type": "code",
   "execution_count": null,
   "id": "89a6f1c1",
   "metadata": {},
   "outputs": [],
   "source": [
    "print('sdf')"
   ]
  },
  {
   "cell_type": "code",
   "execution_count": null,
   "id": "d617df53",
   "metadata": {},
   "outputs": [],
   "source": [
    "from sklearn.model_selection import train_test_split\n",
    "x_train,x_test,y_train,y_test = train_test_split(X_resampled, y_resampled, test_size = 0.3, random_state = 45)"
   ]
  },
  {
   "cell_type": "code",
   "execution_count": null,
   "id": "466be9db",
   "metadata": {},
   "outputs": [],
   "source": [
    "from sklearn.ensemble import RandomForestClassifier\n",
    "# from sklearn.model_selection import  train_test_split\n",
    "from sklearn.ensemble import RandomForestClassifier\n",
    "from sklearn.linear_model import LogisticRegression\n",
    "from sklearn.metrics import accuracy_score\n",
    "from xgboost import XGBClassifier"
   ]
  },
  {
   "cell_type": "code",
   "execution_count": null,
   "id": "8b2f0aeb",
   "metadata": {},
   "outputs": [],
   "source": [
    "model_eval = pd.DataFrame(index=['Random Forest'],columns=['Score'])"
   ]
  },
  {
   "cell_type": "code",
   "execution_count": null,
   "id": "7cc71a6e",
   "metadata": {},
   "outputs": [],
   "source": [
    "rf = RandomForestClassifier()\n",
    "rf.fit(x_train,y_train)\n",
    "ypred = rf.predict(x_test)"
   ]
  },
  {
   "cell_type": "code",
   "execution_count": null,
   "id": "98b2ad1b",
   "metadata": {},
   "outputs": [],
   "source": [
    "log = LogisticRegression()\n",
    "log.fit(x_train,y_train)\n",
    "y_pred2 = log.predict(x_test)"
   ]
  },
  {
   "cell_type": "code",
   "execution_count": null,
   "id": "6e3da137",
   "metadata": {},
   "outputs": [],
   "source": [
    "from xgboost import XGBClassifier\n",
    "xg = XGBClassifier()\n",
    "xg.fit(x_train,y_train)\n",
    "y_pred3 =  xg.predict(x_test)"
   ]
  },
  {
   "cell_type": "code",
   "execution_count": null,
   "id": "9b6bf618",
   "metadata": {},
   "outputs": [],
   "source": [
    "\n",
    "model_eval.loc['Random Forest','Score'] = accuracy_score(ypred,y_test)\n",
    "model_eval.loc['Logisitic','Score'] = accuracy_score(y_pred2,y_test)\n",
    "# model_eval.loc['XGBoost','Score'] = accuracy_score(y_pred3,y_test)\n",
    "\n"
   ]
  },
  {
   "cell_type": "code",
   "execution_count": null,
   "id": "5bfd82fb",
   "metadata": {},
   "outputs": [],
   "source": [
    "model_eval"
   ]
  },
  {
   "cell_type": "code",
   "execution_count": null,
   "id": "86922e73",
   "metadata": {},
   "outputs": [],
   "source": [
    "import joblib\n",
    "joblib.dump(log,\"model\")"
   ]
  },
  {
   "cell_type": "code",
   "execution_count": null,
   "id": "ac14d3b4",
   "metadata": {
    "scrolled": true
   },
   "outputs": [],
   "source": [
    "rf.feature_importances_"
   ]
  },
  {
   "cell_type": "code",
   "execution_count": null,
   "id": "76a2fdc0",
   "metadata": {},
   "outputs": [],
   "source": [
    "weights = pd.DataFrame(rf.feature_importances_,index=X_resampled.columns.values)"
   ]
  },
  {
   "cell_type": "code",
   "execution_count": null,
   "id": "2c2e0aa0",
   "metadata": {
    "scrolled": false
   },
   "outputs": [],
   "source": [
    "weights"
   ]
  },
  {
   "cell_type": "code",
   "execution_count": null,
   "id": "6de7bc0f",
   "metadata": {
    "scrolled": true
   },
   "outputs": [],
   "source": [
    "ros_dataset.dtypes"
   ]
  },
  {
   "cell_type": "code",
   "execution_count": null,
   "id": "61cc1971",
   "metadata": {},
   "outputs": [],
   "source": [
    "# init setup\n",
    "from pycaret.classification import *\n",
    "clf = setup(df, \n",
    "            target = 'CHURN_Y', \n",
    "            normalize=True,\n",
    "            remove_outliers=True, \n",
    "            fix_imbalance=True)"
   ]
  },
  {
   "cell_type": "code",
   "execution_count": null,
   "id": "8e0eea11",
   "metadata": {
    "scrolled": true
   },
   "outputs": [],
   "source": [
    "# # init setup\n",
    "# from pycaret.classification import *\n",
    "# s = setup(df, \n",
    "#           target = 'CHURN_Y', \n",
    "#           normalize=True,\n",
    "#           remove_outliers=True, \n",
    "#           fix_imbalance=True, \n",
    "#           ignore_features = ['PCI_CARD_NMBR', 'TMB_CUST_ID', 'OPENED_DATE', 'TMB_AVAIL_CREDIT04', 'TMB_AVAIL_CREDIT05',\n",
    "#        'TMB_AVAIL_CREDIT06', 'TMB_AVAIL_CREDIT07', 'TMB_AVAIL_CREDIT08',\n",
    "#        'TMB_AVAIL_CREDIT09', 'TMB_CRLIMIT04', 'TMB_CRLIMIT05', 'TMB_CRLIMIT06',\n",
    "#        'TMB_CRLIMIT07', 'TMB_CRLIMIT08', 'TMB_CRLIMIT09', 'SPENDING04', 'SPENDING05', 'SPENDING06', 'SPENDING07', 'SPENDING08',\n",
    "#        'SPENDING09'])"
   ]
  },
  {
   "cell_type": "markdown",
   "id": "cbd9bf31",
   "metadata": {},
   "source": [
    "# Evaluate Model Performance\n",
    "\n",
    "ผลลัพธ์ของ แต่ละ Model ซึ่งจะดู F1 Score เป็นหลัก เพราะ data เป็น imbalance dataset โจทย์นี้ Recall & Presicion สำคัญ โดยใช้คำสั่ง"
   ]
  },
  {
   "cell_type": "code",
   "execution_count": null,
   "id": "808f2d93",
   "metadata": {},
   "outputs": [],
   "source": [
    "# compare all models\n",
    "best_model = compare_models(sort='F1')"
   ]
  },
  {
   "cell_type": "code",
   "execution_count": null,
   "id": "7b9267c6",
   "metadata": {},
   "outputs": [],
   "source": [
    "y_test.value_counts()"
   ]
  },
  {
   "cell_type": "markdown",
   "id": "86024bd1",
   "metadata": {},
   "source": [
    "ถ้าดูจากรูป จะเห็นว่า Model ที่ได้ค่า F1 สูงที่สุดคือ Ada Boost Classifier ครับ ได้ F1 Score = 0.6407"
   ]
  },
  {
   "cell_type": "code",
   "execution_count": null,
   "id": "2cdf6306",
   "metadata": {
    "scrolled": true
   },
   "outputs": [],
   "source": [
    "# print best_model parameters\n",
    "print(best_model)"
   ]
  },
  {
   "cell_type": "markdown",
   "id": "57a856ec",
   "metadata": {},
   "source": [
    "### Hyper Parameter Tuning\n",
    "โดยที่ PyCaret ยังสามารถช่วยให้เราทำ Hyper Parameter Tuning ได้ง่ายๆ ด้วยเช่นกัน"
   ]
  },
  {
   "cell_type": "code",
   "execution_count": null,
   "id": "1f9cc66b",
   "metadata": {},
   "outputs": [],
   "source": [
    "# tune best model\n",
    "tuned_best_model = tune_model(estimator=best_model, optimize=\"F1\")"
   ]
  },
  {
   "cell_type": "markdown",
   "id": "501c3286",
   "metadata": {},
   "source": [
    "หลังการทำ Hyper Parameter Tuning ตัว F1 เพิ่มขึ้นนิดหน่อย จาก 0.6407 เป็น 0.6411 ใช้ได้ๆ เขียนโค้ด บันทัดเดียว"
   ]
  },
  {
   "cell_type": "code",
   "execution_count": null,
   "id": "f725baf3",
   "metadata": {},
   "outputs": [],
   "source": [
    "plot_model(tuned_best_model, plot=\"parameter\")"
   ]
  },
  {
   "cell_type": "markdown",
   "id": "8ce7774c",
   "metadata": {},
   "source": [
    "### Model Performance\n",
    "นอกจากนั้นยังไม่พอนะครับ PyCaret ยังสามารถ Plot graph Model Performace ให้เราดูได้ง่ายๆ ด้วย ไม่ว่าจะเป็น AUC Curve, Confusion Matrix, Feature Importance และอื่นๆ อีกมากครับ"
   ]
  },
  {
   "cell_type": "code",
   "execution_count": null,
   "id": "6e5bed11",
   "metadata": {},
   "outputs": [],
   "source": [
    "# AUC Plot\n",
    "plot_model(tuned_best_model, plot = 'auc')"
   ]
  },
  {
   "cell_type": "markdown",
   "id": "520ebf95",
   "metadata": {},
   "source": [
    "AUC ของแต่ละ Class ได้ 0.84 ถือว่า Model ทำงานได้ดีเลยครับ"
   ]
  },
  {
   "cell_type": "code",
   "execution_count": null,
   "id": "db46b223",
   "metadata": {},
   "outputs": [],
   "source": [
    "plot_model(tuned_best_model, plot=\"pr\")"
   ]
  },
  {
   "cell_type": "markdown",
   "id": "2f19572f",
   "metadata": {},
   "source": [
    "Precision - Recall Curve ได้ค่าเฉลี่ย 0.66 ก็ถือว่า ok เลย่นะครับ"
   ]
  },
  {
   "cell_type": "code",
   "execution_count": null,
   "id": "1708d8b2",
   "metadata": {},
   "outputs": [
    {
     "ename": "NameError",
     "evalue": "name 'plot_model' is not defined",
     "output_type": "error",
     "traceback": [
      "\u001b[0;31m---------------------------------------------------------------------------\u001b[0m",
      "\u001b[0;31mNameError\u001b[0m                                 Traceback (most recent call last)",
      "\u001b[0;32m/tmp/ipykernel_31577/349131995.py\u001b[0m in \u001b[0;36m<module>\u001b[0;34m\u001b[0m\n\u001b[1;32m      1\u001b[0m \u001b[0;31m# Confusion Matrix\u001b[0m\u001b[0;34m\u001b[0m\u001b[0;34m\u001b[0m\u001b[0;34m\u001b[0m\u001b[0m\n\u001b[0;32m----> 2\u001b[0;31m \u001b[0mplot_model\u001b[0m\u001b[0;34m(\u001b[0m\u001b[0mtuned_best_model\u001b[0m\u001b[0;34m,\u001b[0m \u001b[0mplot\u001b[0m \u001b[0;34m=\u001b[0m \u001b[0;34m'confusion_matrix'\u001b[0m\u001b[0;34m)\u001b[0m\u001b[0;34m\u001b[0m\u001b[0;34m\u001b[0m\u001b[0m\n\u001b[0m",
      "\u001b[0;31mNameError\u001b[0m: name 'plot_model' is not defined"
     ]
    }
   ],
   "source": [
    "# Confusion Matrix\n",
    "plot_model(tuned_best_model, plot = 'confusion_matrix')"
   ]
  },
  {
   "cell_type": "markdown",
   "id": "e932ce77",
   "metadata": {},
   "source": [
    "* ช่องซ้ายบน เราทาย ไม่ Churn และ ไม่ Churn จริงๆ (actual = prediction)\n",
    "* ช่องขวาล่าง เราทาย Churn และ Churn จริงๆ (actual = prediction)\n",
    "* เรามีทายผิดอยู่สองช่อง ด้านขวาบนและซ้ายล่าง (actual ≠ prediction)\n",
    "* ขวาบนคือ เราทายว่า Churn แต่จริงๆ แล้วไม่ Churn 333\n",
    "* ซ้ายล่าง คือ เราทายว่า ไม่ Churn แต่จริงๆ แล้ว Churn 158\n",
    "\n",
    "ถ้าดู Confusion Matrix จะเห็นว่า มี 333 คนที่ Model Predict ว่า Churn แต่จริงๆ แล้ว ไม่ Churn แต่ถ้า Predict ว่าใครจะไม่ Churn บ้างนี้ ค่อนข้างแม่นเลยครับ ทายถูก 1224 คน\n",
    "แต่ถ้าดูจริงๆ แล้ว มีถึง 398 คนที่ Model ทำนายว่าลูกค้าจะยกเลิกสัญญา และยกเลิกจริงๆ ซึ่งถ้าหากเราทำ Campaign ส่งเสริมการขาย ให้กับลูกค้ากลุ่มนี้ จะทำให้เราสามารถ บริหารจัดการค่าใช้จ่ายได้ง่ายขึ้น โดยที่เราไม่จำเป็นต้องทำกับลูกค้าทุกคน"
   ]
  },
  {
   "cell_type": "code",
   "execution_count": null,
   "id": "0d18a0fe",
   "metadata": {},
   "outputs": [],
   "source": [
    "plot_model(tuned_best_model, plot=\"class_report\")"
   ]
  },
  {
   "cell_type": "markdown",
   "id": "50cc189d",
   "metadata": {},
   "source": [
    "โมเดลทำงานได้ค่อนข้างดี แต่ Precision 0.544 ในการ Preduct ว่าลูกค้าจะ Churn"
   ]
  },
  {
   "cell_type": "code",
   "execution_count": null,
   "id": "37b15abe",
   "metadata": {
    "scrolled": true
   },
   "outputs": [],
   "source": [
    "# Feature Importance Plot\n",
    "plot_model(tuned_best_model, plot = 'feature')"
   ]
  },
  {
   "cell_type": "markdown",
   "id": "5a67eaf4",
   "metadata": {},
   "source": [
    "นอกจากนั้นยังไม่พอ เรายังสามารถ Plot Feature Importance ได้ง่ายเลยครับ \n",
    "\n",
    "จะเห็นว่า Feature ที่มีผลต่อการ ยกเลิก หรือ Churn คือ gender_Female, PaperlessBilline_No อันนี้ก็สามารถเอาไปวิเคราะห์เชิงลึกต่อได้ว่า ถ้าลูกค้าเปลี่ยนมาใช้ Paperless Billing แล้วจะทำให้ลูกค้าใช้บริการต่อ เราก็สามารถ Push marketing activity ต่อไปได้ เป็นต้น"
   ]
  },
  {
   "cell_type": "code",
   "execution_count": null,
   "id": "a6abd43a",
   "metadata": {},
   "outputs": [],
   "source": [
    "predict_model(tuned_best_model);\n",
    "\n"
   ]
  },
  {
   "cell_type": "markdown",
   "id": "f308c24e",
   "metadata": {},
   "source": [
    "ถือว่าใช้ได้ครับ สำหรับ PyCaret สามารถช่วยลดเวลาในการเขียน Code ได้เยอะเลย"
   ]
  },
  {
   "cell_type": "code",
   "execution_count": null,
   "id": "f7d3a63b",
   "metadata": {},
   "outputs": [
    {
     "name": "stdout",
     "output_type": "stream",
     "text": [
      "hello\n"
     ]
    }
   ],
   "source": [
    "print('hello')"
   ]
  },
  {
   "cell_type": "code",
   "execution_count": null,
   "id": "c26eb4a3",
   "metadata": {},
   "outputs": [
    {
     "ename": "NameError",
     "evalue": "name 'df' is not defined",
     "output_type": "error",
     "traceback": [
      "\u001b[0;31m---------------------------------------------------------------------------\u001b[0m",
      "\u001b[0;31mNameError\u001b[0m                                 Traceback (most recent call last)",
      "Cell \u001b[0;32mIn[1], line 2\u001b[0m\n\u001b[1;32m      1\u001b[0m rowfile \u001b[39m=\u001b[39m \u001b[39m0\u001b[39m\n\u001b[0;32m----> 2\u001b[0m \u001b[39mfor\u001b[39;00m row \u001b[39min\u001b[39;00m df:\n\u001b[1;32m      3\u001b[0m     rowfile\u001b[39m+\u001b[39m\u001b[39m=\u001b[39m\u001b[39m1\u001b[39m\n\u001b[1;32m      5\u001b[0m \u001b[39mprint\u001b[39m(rowfile)\n",
      "\u001b[0;31mNameError\u001b[0m: name 'df' is not defined"
     ]
    }
   ],
   "source": [
    "rowfile = 0\n",
    "for row in df:\n",
    "    rowfile+=1\n",
    "\n",
    "print(rowfile)"
   ]
  },
  {
   "cell_type": "code",
   "execution_count": null,
   "id": "901d8570",
   "metadata": {},
   "outputs": [],
   "source": []
  },
  {
   "cell_type": "code",
   "execution_count": null,
   "id": "8190f6b3",
   "metadata": {},
   "outputs": [],
   "source": []
  }
 ],
 "metadata": {
  "kernelspec": {
   "display_name": "Python 3 (ipykernel)",
   "language": "python",
   "name": "python3"
  },
  "language_info": {
   "codemirror_mode": {
    "name": "ipython",
    "version": 3
   },
   "file_extension": ".py",
   "mimetype": "text/x-python",
   "name": "python",
   "nbconvert_exporter": "python",
   "pygments_lexer": "ipython3",
   "version": "3.10.9"
  },
  "vscode": {
   "interpreter": {
    "hash": "d4d1e4263499bec80672ea0156c357c1ee493ec2b1c70f0acce89fc37c4a6abe"
   }
  }
 },
 "nbformat": 4,
 "nbformat_minor": 5
}
